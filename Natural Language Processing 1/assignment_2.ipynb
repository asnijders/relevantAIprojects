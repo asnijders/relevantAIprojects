{
  "nbformat": 4,
  "nbformat_minor": 0,
  "metadata": {
    "colab": {
      "name": "natural_language_processing_1_lab_2.ipynb",
      "provenance": [],
      "collapsed_sections": [],
      "toc_visible": true,
      "include_colab_link": true
    },
    "kernelspec": {
      "name": "python3",
      "display_name": "Python 3"
    },
    "accelerator": "GPU"
  },
  "cells": [
    {
      "cell_type": "markdown",
      "metadata": {
        "id": "view-in-github",
        "colab_type": "text"
      },
      "source": [
        "<a href=\"https://colab.research.google.com/github/tim142/natural_language_processing/blob/master/lab_2.ipynb\" target=\"_parent\"><img src=\"https://colab.research.google.com/assets/colab-badge.svg\" alt=\"Open In Colab\"/></a>"
      ]
    },
    {
      "cell_type": "markdown",
      "metadata": {
        "id": "jILqpPLlE9r0",
        "colab_type": "text"
      },
      "source": [
        "# Practical 2: Encoding Sentences with Neural Models"
      ]
    },
    {
      "cell_type": "markdown",
      "metadata": {
        "id": "8JXOZ5uhQ8Qq",
        "colab_type": "text"
      },
      "source": [
        "In this practical we will train neural models to encode sentences, after which we can use our sentence representation for a downstream task such as sentiment classification. Rather than simply answering questions, like in the previous lab, **this time you are expected to write a four-page scientific report with your findings**. You will be judged by the quality of your report (see below). In this notebook, we will help you to develop models for your experiments. You do not have to hand in your answers, but please do include a link to a private Github gist with your code in your report as a footnote. \n",
        "\n",
        "### Data set\n",
        "We will make use of the [Stanford Sentiment Treebank](https://nlp.stanford.edu/sentiment/) (SST), which provides sentences, their tree structure, and (fine-grained) sentiment scores.\n",
        "This dataset is different from the one we used in the first practical. \n",
        "Before, a review consisted of several sentences, and we would have one sentiment score for it. Now, a review is a single sentence, for which we get a sentiment score. The special thing about our new data set is that we get a binary parse tree for each sentence, and a sentiment score has been assigned to each node in the tree. (We will look at an example below.)\n",
        "\n",
        "For the first part of this practical we will only make use of the tokens, but in the end we will also exploit the tree-structure that is provided!\n",
        "\n",
        "We will cover the following approaches:\n",
        "\n",
        "- Bag-of-words (BOW)\n",
        "- Continuous bag-of-words (CBOW)\n",
        "- Deep continuous bag-of-words (Deep CBOW)\n",
        "- LSTM\n",
        "- TreeLSTM\n"
      ]
    },
    {
      "cell_type": "markdown",
      "metadata": {
        "id": "bSmmXQoC8ebA",
        "colab_type": "text"
      },
      "source": [
        "### Important: Report \n",
        "\n",
        "The main purpose of this lab is for you to learn how to answer research questions by experimenting and then writing a scientific report.\n",
        "Your grade will be based on the quality of your report, not on the exercises in this notebook.\n",
        "You can find the requirements for the report at the end of this notebook."
      ]
    },
    {
      "cell_type": "markdown",
      "metadata": {
        "id": "y0067ax54-rd",
        "colab_type": "text"
      },
      "source": [
        "## Installing PyTorch\n",
        "\n",
        "In Colab notebooks, the last available version of PyTorch is already installed (pytorch 1.3.1 is there on Nov 12, 2019). Run the box here below to see what version you have. If PyTorch is not there, uncomment the lines in the box below and run it again (this way, you should be able to install PyTorch 1.3.1.):\n",
        "\n",
        "*For installing PyTorch in your own computer, follow the instructions on [pytorch.org](pytorch.org) instead. This is for Google Colab only.*"
      ]
    },
    {
      "cell_type": "code",
      "metadata": {
        "id": "qKQMGtkR5KWr",
        "colab_type": "code",
        "colab": {}
      },
      "source": [
        "from os.path import exists\n",
        "import torch\n",
        "from torch import optim\n",
        "from torch import nn\n",
        "\n",
        "# this should result in the PyTorch version\n",
        "torch.__version__\n",
        "\n",
        "# PyTorch can run on CPU or on Nvidia GPU (video card) using CUDA\n",
        "# This cell selects the GPU if one is available.\n",
        "device = torch.device('cuda' if torch.cuda.is_available() else 'cpu')\n",
        "device\n",
        "\n",
        "# Seed manually to make runs reproducible\n",
        "# You need to set this again if you do multiple runs of the same model\n",
        "torch.manual_seed(0)\n",
        "\n",
        "# When running on the CuDNN backend two further options must be set for reproducibility\n",
        "if torch.cuda.is_available():\n",
        "  torch.backends.cudnn.deterministic = True\n",
        "  torch.backends.cudnn.benchmark = False"
      ],
      "execution_count": 0,
      "outputs": []
    },
    {
      "cell_type": "markdown",
      "metadata": {
        "id": "YbNKef3lymaj",
        "colab_type": "text"
      },
      "source": [
        "## Preparing the data"
      ]
    },
    {
      "cell_type": "markdown",
      "metadata": {
        "id": "9jxTkpg59FlU",
        "colab_type": "text"
      },
      "source": [
        "Let's first download the data set and take a look."
      ]
    },
    {
      "cell_type": "code",
      "metadata": {
        "id": "WZp53HmMP3F2",
        "colab_type": "code",
        "colab": {}
      },
      "source": [
        "import re\n",
        "import random\n",
        "import time\n",
        "import math\n",
        "import numpy as np\n",
        "import nltk\n",
        "import matplotlib.pyplot as plt\n",
        "import matplotlib as mpl\n",
        "import collections\n",
        "import statistics\n",
        "from matplotlib.cm import ScalarMappable\n",
        "from decimal import Decimal\n",
        "from nltk import Tree\n",
        "from nltk.treeprettyprinter import TreePrettyPrinter\n",
        "from scipy.special import comb\n",
        "from collections import Counter, OrderedDict, \\\n",
        "  defaultdict, namedtuple\n",
        "\n",
        "plt.style.use('seaborn')"
      ],
      "execution_count": 0,
      "outputs": []
    },
    {
      "cell_type": "code",
      "metadata": {
        "id": "TovFkDTgE_d6",
        "colab_type": "code",
        "outputId": "e984ff68-2af4-437b-d938-724d7a76b7be",
        "colab": {
          "base_uri": "https://localhost:8080/",
          "height": 357
        }
      },
      "source": [
        "!wget http://nlp.stanford.edu/sentiment/trainDevTestTrees_PTB.zip\n",
        "!unzip trainDevTestTrees_PTB.zip"
      ],
      "execution_count": 3,
      "outputs": [
        {
          "output_type": "stream",
          "text": [
            "--2019-12-10 09:08:13--  http://nlp.stanford.edu/sentiment/trainDevTestTrees_PTB.zip\n",
            "Resolving nlp.stanford.edu (nlp.stanford.edu)... 171.64.67.140\n",
            "Connecting to nlp.stanford.edu (nlp.stanford.edu)|171.64.67.140|:80... connected.\n",
            "HTTP request sent, awaiting response... 302 Found\n",
            "Location: https://nlp.stanford.edu/sentiment/trainDevTestTrees_PTB.zip [following]\n",
            "--2019-12-10 09:08:14--  https://nlp.stanford.edu/sentiment/trainDevTestTrees_PTB.zip\n",
            "Connecting to nlp.stanford.edu (nlp.stanford.edu)|171.64.67.140|:443... connected.\n",
            "HTTP request sent, awaiting response... 200 OK\n",
            "Length: 789539 (771K) [application/zip]\n",
            "Saving to: ‘trainDevTestTrees_PTB.zip’\n",
            "\n",
            "trainDevTestTrees_P 100%[===================>] 771.03K   452KB/s    in 1.7s    \n",
            "\n",
            "2019-12-10 09:08:16 (452 KB/s) - ‘trainDevTestTrees_PTB.zip’ saved [789539/789539]\n",
            "\n",
            "Archive:  trainDevTestTrees_PTB.zip\n",
            "   creating: trees/\n",
            "  inflating: trees/dev.txt           \n",
            "  inflating: trees/test.txt          \n",
            "  inflating: trees/train.txt         \n"
          ],
          "name": "stdout"
        }
      ]
    },
    {
      "cell_type": "code",
      "metadata": {
        "id": "0IpAphkBO5eW",
        "colab_type": "code",
        "colab": {}
      },
      "source": [
        "# this function reads in a textfile and fixes an issue with \\\\\n",
        "def filereader(path): \n",
        "  with open(path, mode=\"r\", encoding=\"utf-8\") as f:\n",
        "    for line in f:\n",
        "      yield line.strip().replace(\"\\\\\",\"\")"
      ],
      "execution_count": 0,
      "outputs": []
    },
    {
      "cell_type": "code",
      "metadata": {
        "id": "ylkIopm0QJML",
        "colab_type": "code",
        "outputId": "b1e0f4cf-1d16-43c8-93f0-00f552d17269",
        "colab": {
          "base_uri": "https://localhost:8080/",
          "height": 54
        }
      },
      "source": [
        "# Let's look at a data point.\n",
        "# If you look closely you will find that this is a flattened tree, \n",
        "# with sentiment scores at every node, and words as the leaves.\n",
        "s = next(filereader(\"trees/dev.txt\"))\n",
        "print(s)"
      ],
      "execution_count": 5,
      "outputs": [
        {
          "output_type": "stream",
          "text": [
            "(3 (2 It) (4 (4 (2 's) (4 (3 (2 a) (4 (3 lovely) (2 film))) (3 (2 with) (4 (3 (3 lovely) (2 performances)) (2 (2 by) (2 (2 (2 Buy) (2 and)) (2 Accorsi))))))) (2 .)))\n"
          ],
          "name": "stdout"
        }
      ]
    },
    {
      "cell_type": "code",
      "metadata": {
        "id": "7_U7HTFwdrWt",
        "colab_type": "code",
        "outputId": "edaaccec-5e3d-49d1-b4cf-6241295333df",
        "colab": {
          "base_uri": "https://localhost:8080/",
          "height": 391
        }
      },
      "source": [
        "# We can use NLTK to print the tree structure more nicely\n",
        "tree = Tree.fromstring(s)\n",
        "print(TreePrettyPrinter(tree))"
      ],
      "execution_count": 6,
      "outputs": [
        {
          "output_type": "stream",
          "text": [
            "              3                                                                     \n",
            "  ____________|____________________                                                  \n",
            " |                                 4                                                \n",
            " |        _________________________|______________________________________________   \n",
            " |       4                                                                        | \n",
            " |    ___|______________                                                          |  \n",
            " |   |                  4                                                         | \n",
            " |   |         _________|__________                                               |  \n",
            " |   |        |                    3                                              | \n",
            " |   |        |               _____|______________________                        |  \n",
            " |   |        |              |                            4                       | \n",
            " |   |        |              |            ________________|_______                |  \n",
            " |   |        |              |           |                        2               | \n",
            " |   |        |              |           |                 _______|___            |  \n",
            " |   |        3              |           |                |           2           | \n",
            " |   |    ____|_____         |           |                |        ___|_____      |  \n",
            " |   |   |          4        |           3                |       2         |     | \n",
            " |   |   |     _____|___     |      _____|_______         |    ___|___      |     |  \n",
            " 2   2   2    3         2    2     3             2        2   2       2     2     2 \n",
            " |   |   |    |         |    |     |             |        |   |       |     |     |  \n",
            " It  's  a  lovely     film with lovely     performances  by Buy     and Accorsi  . \n",
            "\n"
          ],
          "name": "stdout"
        }
      ]
    },
    {
      "cell_type": "markdown",
      "metadata": {
        "id": "ekAWKsji9t93",
        "colab_type": "text"
      },
      "source": [
        "You can see the sentiment annotations here **at every node**! 0 is very negative, 4 is very positive. For now, we will only use the sentiment score at the **root node**; this is the score for the complete sentence."
      ]
    },
    {
      "cell_type": "code",
      "metadata": {
        "id": "DKynLm0xPKr2",
        "colab_type": "code",
        "outputId": "521139f9-9bdb-4c06-c17a-7b0a515dca66",
        "colab": {
          "base_uri": "https://localhost:8080/",
          "height": 51
        }
      },
      "source": [
        "# Let's first make a function that extracts the tokens (the leaves).\n",
        "def tokens_from_treestring(s):\n",
        "  \"\"\"extract the tokens from a sentiment tree\"\"\"\n",
        "  return re.sub(r\"\\([0-9] |\\)\", \"\", s).split()\n",
        " \n",
        "# let's try it on our example tree\n",
        "tokens = tokens_from_treestring(s)\n",
        "print(tokens)\n",
        "print(len(tokens))"
      ],
      "execution_count": 7,
      "outputs": [
        {
          "output_type": "stream",
          "text": [
            "['It', \"'s\", 'a', 'lovely', 'film', 'with', 'lovely', 'performances', 'by', 'Buy', 'and', 'Accorsi', '.']\n",
            "13\n"
          ],
          "name": "stdout"
        }
      ]
    },
    {
      "cell_type": "markdown",
      "metadata": {
        "id": "B8vFkeqN-NLP",
        "colab_type": "text"
      },
      "source": [
        "> *Warning: you could also parse a treestring using NLTK and ask it to return the leaves, but there seems to be an issue with NLTK not always correctly parsing the input, so do not rely on it.*"
      ]
    },
    {
      "cell_type": "code",
      "metadata": {
        "id": "Akr9K_Mv4dym",
        "colab_type": "code",
        "colab": {}
      },
      "source": [
        "# We will also need the following function, but you can ignore this for now.\n",
        "# It is explained later on.\n",
        "SHIFT = 0\n",
        "REDUCE = 1\n",
        "\n",
        "def transitions_from_treestring(s):\n",
        "  s = re.sub(\"\\([0-5] ([^)]+)\\)\", \"0\", s)\n",
        "  s = re.sub(\"\\)\", \" )\", s)\n",
        "  s = re.sub(\"\\([0-4] \", \"\", s)\n",
        "  s = re.sub(\"\\([0-4] \", \"\", s)\n",
        "  s = re.sub(\"\\)\", \"1\", s)\n",
        "  return list(map(int, s.split()))"
      ],
      "execution_count": 0,
      "outputs": []
    },
    {
      "cell_type": "code",
      "metadata": {
        "id": "mNtPdlwPgRat",
        "colab_type": "code",
        "outputId": "f6bdb163-a43d-4eb2-ca47-b7afe54587c4",
        "colab": {
          "base_uri": "https://localhost:8080/",
          "height": 68
        }
      },
      "source": [
        "# Now let's first see how large our data sets are.\n",
        "for path in (\"trees/train.txt\", \"trees/dev.txt\", \"trees/test.txt\"):\n",
        "  print(\"{:16s} {:4d}\".format(path, sum(1 for _ in filereader(path))))"
      ],
      "execution_count": 9,
      "outputs": [
        {
          "output_type": "stream",
          "text": [
            "trees/train.txt  8544\n",
            "trees/dev.txt    1101\n",
            "trees/test.txt   2210\n"
          ],
          "name": "stdout"
        }
      ]
    },
    {
      "cell_type": "markdown",
      "metadata": {
        "id": "HexlSqTR_UrY",
        "colab_type": "text"
      },
      "source": [
        "You can see that this data set is not very large! That's probably because it required so much manual annotation. However, it's large enough to train a neural network on.\n",
        "\n",
        "It will be useful to store each data example in an `Example` object,\n",
        "containing everything that we may need for each data point.\n",
        "It will contain the tokens, the tree, the top-level sentiment label, and \n",
        "the transitions (explained later)."
      ]
    },
    {
      "cell_type": "code",
      "metadata": {
        "id": "4I07Hb_-q8wg",
        "colab_type": "code",
        "outputId": "65433d61-ff3a-4bf6-f045-2ecfadc9cd42",
        "colab": {
          "base_uri": "https://localhost:8080/",
          "height": 68
        }
      },
      "source": [
        "# A simple way to define a class is using namedtuple.\n",
        "Example = namedtuple(\"Example\", [\"tokens\", \"tree\", \"label\", \"transitions\"])\n",
        "\n",
        "def examplereader(path, lower=False):\n",
        "  \"\"\"Returns all examples in a file one by one.\"\"\"\n",
        "  for line in filereader(path):\n",
        "    line = line.lower() if lower else line\n",
        "    tokens = tokens_from_treestring(line)\n",
        "    tree = Tree.fromstring(line)  # use NLTK's Tree\n",
        "    label = int(line[1])\n",
        "    trans = transitions_from_treestring(line)\n",
        "    yield Example(tokens=tokens, tree=tree, label=label, transitions=trans)\n",
        "  \n",
        "# Let's load the data into memory.\n",
        "LOWER = False  # we will keep the original casing\n",
        "train_data = list(examplereader(\"trees/train.txt\", lower=LOWER))\n",
        "dev_data = list(examplereader(\"trees/dev.txt\", lower=LOWER))\n",
        "test_data = list(examplereader(\"trees/test.txt\", lower=LOWER))\n",
        "\n",
        "print(\"train\", len(train_data))\n",
        "print(\"dev\", len(dev_data))\n",
        "print(\"test\", len(test_data))"
      ],
      "execution_count": 10,
      "outputs": [
        {
          "output_type": "stream",
          "text": [
            "train 8544\n",
            "dev 1101\n",
            "test 2210\n"
          ],
          "name": "stdout"
        }
      ]
    },
    {
      "cell_type": "code",
      "metadata": {
        "id": "HhnyHhiBfvYT",
        "colab_type": "code",
        "outputId": "2437fdfd-4c1e-404c-b0aa-3ea54c4a3133",
        "colab": {
          "base_uri": "https://localhost:8080/",
          "height": 34
        }
      },
      "source": [
        "def examplereader_sub(path, lower=False):\n",
        "  \"\"\"Returns all examples in a file one by one.\"\"\"\n",
        "  for line in filereader(path):\n",
        "    line = line.lower() if lower else line\n",
        "    tokens = tokens_from_treestring(line)\n",
        "    tree = Tree.fromstring(line)  # use NLTK's Tree\n",
        "    label = int(line[1])\n",
        "    trans = transitions_from_treestring(line)\n",
        "    yield Example(tokens=tokens, tree=tree, label=label, transitions=trans)\n",
        "    \n",
        "    for line_s in tree.subtrees():\n",
        "      line_s = ' '.join(str(line_s).split())\n",
        "      tokens = tokens_from_treestring(line_s)\n",
        "      tree=Tree.fromstring(line_s)\n",
        "      label = int(line_s[1])\n",
        "      trans = transitions_from_treestring(line_s)\n",
        "      yield Example(tokens=tokens, tree=tree, label=label, transitions=trans)\n",
        "  \n",
        "LOWER = False  # we will keep the original casing\n",
        "train_data_sub = list(examplereader_sub(\"trees/train.txt\", lower=LOWER))\n",
        "print(\"train_sub\", len(train_data_sub))"
      ],
      "execution_count": 11,
      "outputs": [
        {
          "output_type": "stream",
          "text": [
            "train_sub 327126\n"
          ],
          "name": "stdout"
        }
      ]
    },
    {
      "cell_type": "markdown",
      "metadata": {
        "id": "6KM0bDyeVZtP",
        "colab_type": "text"
      },
      "source": [
        "Let's check out an example object."
      ]
    },
    {
      "cell_type": "code",
      "metadata": {
        "id": "J8mwcaZwxP1c",
        "colab_type": "code",
        "outputId": "e290fca1-0557-48fb-9771-aa61e277e4b6",
        "colab": {
          "base_uri": "https://localhost:8080/",
          "height": 88
        }
      },
      "source": [
        "example = dev_data[0]\n",
        "print(\"First train example:\", example)\n",
        "print(\"First train example tokens:\", example.tokens)\n",
        "print(\"First train example label:\",  example.label)"
      ],
      "execution_count": 12,
      "outputs": [
        {
          "output_type": "stream",
          "text": [
            "First train example: Example(tokens=['It', \"'s\", 'a', 'lovely', 'film', 'with', 'lovely', 'performances', 'by', 'Buy', 'and', 'Accorsi', '.'], tree=Tree('3', [Tree('2', ['It']), Tree('4', [Tree('4', [Tree('2', [\"'s\"]), Tree('4', [Tree('3', [Tree('2', ['a']), Tree('4', [Tree('3', ['lovely']), Tree('2', ['film'])])]), Tree('3', [Tree('2', ['with']), Tree('4', [Tree('3', [Tree('3', ['lovely']), Tree('2', ['performances'])]), Tree('2', [Tree('2', ['by']), Tree('2', [Tree('2', [Tree('2', ['Buy']), Tree('2', ['and'])]), Tree('2', ['Accorsi'])])])])])])]), Tree('2', ['.'])])]), label=3, transitions=[0, 0, 0, 0, 0, 1, 1, 0, 0, 0, 1, 0, 0, 0, 1, 0, 1, 1, 1, 1, 1, 1, 0, 1, 1])\n",
            "First train example tokens: ['It', \"'s\", 'a', 'lovely', 'film', 'with', 'lovely', 'performances', 'by', 'Buy', 'and', 'Accorsi', '.']\n",
            "First train example label: 3\n"
          ],
          "name": "stdout"
        }
      ]
    },
    {
      "cell_type": "markdown",
      "metadata": {
        "id": "-WDSprDBVcr-",
        "colab_type": "text"
      },
      "source": [
        "#### Vocabulary \n",
        "To work with this data we will need a vocabulary.\n",
        "The job of the vocabulary is to map each word to a unique ID.\n"
      ]
    },
    {
      "cell_type": "code",
      "metadata": {
        "id": "VvNgKx7usRSt",
        "colab_type": "code",
        "colab": {}
      },
      "source": [
        "# Here we first define a class that can map a word to \n",
        "# an ID (w2i) and back (i2w).\n",
        "class OrderedCounter(Counter, OrderedDict):\n",
        "  \"\"\"Counter that remembers the order elements are first seen\"\"\"\n",
        "  def __repr__(self):\n",
        "    return '%s(%r)' % (self.__class__.__name__,\n",
        "                      OrderedDict(self))\n",
        "  def __reduce__(self):\n",
        "    return self.__class__, (OrderedDict(self),)\n",
        "\n",
        "class Vocabulary:\n",
        "  \"\"\"A vocabulary, assigns IDs to tokens\"\"\"\n",
        "  \n",
        "  def __init__(self):\n",
        "    self.freqs = OrderedCounter()\n",
        "    self.w2i = {}\n",
        "    self.i2w = []\n",
        "\n",
        "  def count_token(self, t):\n",
        "    self.freqs[t] += 1\n",
        "    \n",
        "  def add_token(self, t):\n",
        "    self.w2i[t] = len(self.w2i)\n",
        "    self.i2w.append(t)    \n",
        "    \n",
        "  def build(self, min_freq=0):\n",
        "    self.add_token(\"<unk>\")  # reserve 0 for <unk> (unknown words)\n",
        "    self.add_token(\"<pad>\")  # reserve 1 for <pad> (discussed later)   \n",
        "    \n",
        "    tok_freq = list(self.freqs.items())\n",
        "    tok_freq.sort(key=lambda x: x[1], reverse=True)\n",
        "    for tok, freq in tok_freq:\n",
        "      if freq >= min_freq:\n",
        "        self.add_token(tok)"
      ],
      "execution_count": 0,
      "outputs": []
    },
    {
      "cell_type": "markdown",
      "metadata": {
        "id": "kOvkH_llVsoW",
        "colab_type": "text"
      },
      "source": [
        "Let's build the token vocabulary!\n",
        "\n",
        "When randomly initializing word vectors, we take the words in our training\n",
        "set and assign them unique IDs, and assign all other words to $<$unk$>$, \n",
        "because those we cannot learn a vector for based on our training data.\n"
      ]
    },
    {
      "cell_type": "code",
      "metadata": {
        "id": "GwGQgQQBNUSq",
        "colab_type": "code",
        "outputId": "1f53d3e6-b89d-417c-868a-54a69e54799f",
        "colab": {
          "base_uri": "https://localhost:8080/",
          "height": 34
        }
      },
      "source": [
        "# This process should be deterministic and should have the same result \n",
        "# if run multiple times on the same data set.\n",
        "v = Vocabulary()\n",
        "for data_set in (train_data,):\n",
        "  for ex in data_set:\n",
        "    for token in ex.tokens:\n",
        "      v.count_token(token)\n",
        "\n",
        "v.build()\n",
        "print(\"Vocabulary size:\", len(v.w2i))"
      ],
      "execution_count": 14,
      "outputs": [
        {
          "output_type": "stream",
          "text": [
            "Vocabulary size: 18280\n"
          ],
          "name": "stdout"
        }
      ]
    },
    {
      "cell_type": "markdown",
      "metadata": {
        "id": "-UNIedPrPdCw",
        "colab_type": "text"
      },
      "source": [
        "Let's have a closer look at the properties of our vocabulary. Having a good idea of what it is like can facilitate data analysis and debugging later on."
      ]
    },
    {
      "cell_type": "code",
      "metadata": {
        "id": "oJyuogmh0CA7",
        "colab_type": "code",
        "outputId": "6dda75ac-5efd-4987-eabf-cd0c880c00c2",
        "colab": {
          "base_uri": "https://localhost:8080/",
          "height": 34
        }
      },
      "source": [
        "# What is the ID for \"century?\"\n",
        "print(v.w2i['century'])"
      ],
      "execution_count": 15,
      "outputs": [
        {
          "output_type": "stream",
          "text": [
            "1973\n"
          ],
          "name": "stdout"
        }
      ]
    },
    {
      "cell_type": "code",
      "metadata": {
        "id": "O8OkPQ8Zv-rI",
        "colab_type": "code",
        "outputId": "e94a9d84-358e-47ca-acf8-07b062464245",
        "colab": {
          "base_uri": "https://localhost:8080/",
          "height": 34
        }
      },
      "source": [
        "# What are the first 10 words in the vocabulary?\n",
        "print(v.i2w[:10])"
      ],
      "execution_count": 16,
      "outputs": [
        {
          "output_type": "stream",
          "text": [
            "['<unk>', '<pad>', '.', ',', 'the', 'and', 'a', 'of', 'to', \"'s\"]\n"
          ],
          "name": "stdout"
        }
      ]
    },
    {
      "cell_type": "code",
      "metadata": {
        "id": "kmXwu02lOLWI",
        "colab_type": "code",
        "outputId": "b30229fc-87f4-4af2-ace9-0b45e16000c8",
        "colab": {
          "base_uri": "https://localhost:8080/",
          "height": 54
        }
      },
      "source": [
        "# What are the 10 most common words?\n",
        "print(v.freqs.most_common(10))"
      ],
      "execution_count": 17,
      "outputs": [
        {
          "output_type": "stream",
          "text": [
            "[('.', 8024), (',', 7131), ('the', 6037), ('and', 4431), ('a', 4403), ('of', 4386), ('to', 2995), (\"'s\", 2544), ('is', 2536), ('that', 1915)]\n"
          ],
          "name": "stdout"
        }
      ]
    },
    {
      "cell_type": "code",
      "metadata": {
        "id": "__NDPaCeOT_m",
        "colab_type": "code",
        "outputId": "79cdb4ae-c9c6-4a0d-e92f-6b43a5a94cbb",
        "colab": {
          "base_uri": "https://localhost:8080/",
          "height": 34
        }
      },
      "source": [
        "# And how many words are there with frequency 1?\n",
        "freq1 = [w for w in v.freqs if v.freqs[w] == 1]\n",
        "len(freq1)"
      ],
      "execution_count": 18,
      "outputs": [
        {
          "output_type": "execute_result",
          "data": {
            "text/plain": [
              "9543"
            ]
          },
          "metadata": {
            "tags": []
          },
          "execution_count": 18
        }
      ]
    },
    {
      "cell_type": "markdown",
      "metadata": {
        "id": "nGWaZahKV_dH",
        "colab_type": "text"
      },
      "source": [
        "#### Sentiment label vocabulary"
      ]
    },
    {
      "cell_type": "code",
      "metadata": {
        "id": "AmTC-rvQelpl",
        "colab_type": "code",
        "outputId": "90e78a2e-0d53-4f89-b9a2-1a4ba779a711",
        "colab": {
          "base_uri": "https://localhost:8080/",
          "height": 34
        }
      },
      "source": [
        "# Now let's map the sentiment labels 0-4 to a more readable form\n",
        "i2t = [\"very negative\", \"negative\", \"neutral\", \"positive\", \"very positive\"]\n",
        "i2t"
      ],
      "execution_count": 19,
      "outputs": [
        {
          "output_type": "execute_result",
          "data": {
            "text/plain": [
              "['very negative', 'negative', 'neutral', 'positive', 'very positive']"
            ]
          },
          "metadata": {
            "tags": []
          },
          "execution_count": 19
        }
      ]
    },
    {
      "cell_type": "code",
      "metadata": {
        "id": "D7UI26DP2dr2",
        "colab_type": "code",
        "outputId": "a274276e-c38e-4859-b5ba-249a7aea1bad",
        "colab": {
          "base_uri": "https://localhost:8080/",
          "height": 102
        }
      },
      "source": [
        "# And let's also create the opposite mapping.\n",
        "# We won't use a Vocabulary for this (although we could), since the labels\n",
        "# are already numeric.\n",
        "t2i = OrderedDict({p : i for p, i in zip(i2t, range(len(i2t)))})\n",
        "t2i"
      ],
      "execution_count": 20,
      "outputs": [
        {
          "output_type": "execute_result",
          "data": {
            "text/plain": [
              "OrderedDict([('very negative', 0),\n",
              "             ('negative', 1),\n",
              "             ('neutral', 2),\n",
              "             ('positive', 3),\n",
              "             ('very positive', 4)])"
            ]
          },
          "metadata": {
            "tags": []
          },
          "execution_count": 20
        }
      ]
    },
    {
      "cell_type": "markdown",
      "metadata": {
        "id": "uWBTzkuE3CtZ",
        "colab_type": "text"
      },
      "source": [
        "# BOW"
      ]
    },
    {
      "cell_type": "markdown",
      "metadata": {
        "id": "TBAjYYySOA5W",
        "colab_type": "text"
      },
      "source": [
        "Our first model is a super simple neural **bag-of-words (BOW) model**.\n",
        "Unlike the bag-of-words model that you used in the previous lab, here we associate each word with a vector of size 5, exactly our number of sentiment classes. \n",
        "\n",
        "To make a classification, we simply **sum** the vectors of the words in our sentence and a bias vector. Because we sum the vectors, we lose word order: that's why we call this a neural bag-of-words model.\n",
        "\n",
        "```\n",
        "this   [0.0, 0.1, 0.1, 0.1, 0.0]\n",
        "movie  [0.0, 0.1, 0.1, 0.2, 0.1]\n",
        "is     [0.0, 0.1, 0.0, 0.0, 0.0]\n",
        "stupid [0.9, 0.5, 0.1, 0.0, 0.0]\n",
        "\n",
        "bias   [0.0, 0.0, 0.0, 0.0, 0.0]\n",
        "--------------------------------\n",
        "sum    [0.9, 0.8, 0.3, 0.3, 0.1]\n",
        "\n",
        "argmax: 0 (very negative)\n",
        "```\n",
        "\n",
        "Now, the **argmax** of this sum is our predicted label.\n",
        "\n",
        "We initialize all vectors *randomly* and train them using cross-entropy loss."
      ]
    },
    {
      "cell_type": "markdown",
      "metadata": {
        "id": "rLtBAIQGynkB",
        "colab_type": "text"
      },
      "source": [
        "#### Model class"
      ]
    },
    {
      "cell_type": "code",
      "metadata": {
        "id": "QZfNklWf3tvs",
        "colab_type": "code",
        "colab": {}
      },
      "source": [
        "class BOW(nn.Module):\n",
        "  \"\"\"A simple bag-of-words model\"\"\"\n",
        "\n",
        "  def __init__(self, vocab_size, embedding_dim, vocab):\n",
        "    super(BOW, self).__init__()\n",
        "    self.vocab = vocab\n",
        "    \n",
        "    # this is a trained look-up table with word embeddings\n",
        "    self.embed = nn.Embedding(vocab_size, embedding_dim)\n",
        "    \n",
        "    # this is a trained bias term\n",
        "    self.bias = nn.Parameter(torch.zeros(embedding_dim), requires_grad=True)        \n",
        "\n",
        "  def forward(self, inputs):\n",
        "    # this is the forward pass of the neural network\n",
        "    # given inputs, it computes the output\n",
        "\n",
        "    # this looks up the embeddings for each word ID in inputs\n",
        "    # the result is a sequence of word embeddings\n",
        "    embeds = self.embed(inputs)\n",
        "    \n",
        "    # the output is the sum across the time dimension (1)\n",
        "    # with the bias term added\n",
        "    logits = embeds.sum(1) + self.bias\n",
        "\n",
        "    return logits"
      ],
      "execution_count": 0,
      "outputs": []
    },
    {
      "cell_type": "code",
      "metadata": {
        "colab_type": "code",
        "id": "eKHvBnoBAr6z",
        "outputId": "a27389cc-9edc-4694-c238-1103e80f0862",
        "colab": {
          "base_uri": "https://localhost:8080/",
          "height": 68
        }
      },
      "source": [
        "# Let's create a model.\n",
        "vocab_size = len(v.w2i)\n",
        "n_classes = len(t2i)\n",
        "bow_model = BOW(vocab_size, n_classes, v)\n",
        "print(bow_model)"
      ],
      "execution_count": 22,
      "outputs": [
        {
          "output_type": "stream",
          "text": [
            "BOW(\n",
            "  (embed): Embedding(18280, 5)\n",
            ")\n"
          ],
          "name": "stdout"
        }
      ]
    },
    {
      "cell_type": "markdown",
      "metadata": {
        "id": "vfCx-HvMH1qQ",
        "colab_type": "text"
      },
      "source": [
        "> **Hey, wait, where is the bias vector?**\n",
        "> PyTorch does not print Parameters, only Modules!\n",
        "\n",
        "> We can print it ourselves though, to check that it is there."
      ]
    },
    {
      "cell_type": "code",
      "metadata": {
        "colab_type": "code",
        "id": "Fhvk5HenAroT",
        "outputId": "461e1adb-0be6-4f03-fb4c-fec4b62cb0b4",
        "colab": {
          "base_uri": "https://localhost:8080/",
          "height": 102
        }
      },
      "source": [
        "# Here we print each parameter name, shape, and if it is trainable.\n",
        "def print_parameters(model):\n",
        "  total = 0\n",
        "  for name, p in model.named_parameters():\n",
        "    total += np.prod(p.shape)\n",
        "    print(\"{:24s} {:12s} requires_grad={}\".format(name, str(list(p.shape)), p.requires_grad))\n",
        "  print(\"\\nTotal parameters: {}\\n\".format(total))\n",
        "    \n",
        "print_parameters(bow_model)"
      ],
      "execution_count": 23,
      "outputs": [
        {
          "output_type": "stream",
          "text": [
            "bias                     [5]          requires_grad=True\n",
            "embed.weight             [18280, 5]   requires_grad=True\n",
            "\n",
            "Total parameters: 91405\n",
            "\n"
          ],
          "name": "stdout"
        }
      ]
    },
    {
      "cell_type": "markdown",
      "metadata": {
        "id": "WSAw292WxuP4",
        "colab_type": "text"
      },
      "source": [
        "#### Preparing an example for input\n",
        "\n",
        "To feed sentences to our PyTorch model, we need to convert a sequence of tokens to a sequence of IDs. The `prepare_example` function below takes care of this for us. With these IDs we index the word embedding table. "
      ]
    },
    {
      "cell_type": "code",
      "metadata": {
        "id": "YWeGTC_OGReV",
        "colab_type": "code",
        "colab": {}
      },
      "source": [
        "def prepare_example(example, vocab):\n",
        "  \"\"\"\n",
        "  Map tokens to their IDs for 1 example\n",
        "  \"\"\"\n",
        "  \n",
        "  # vocab returns 0 if the word is not there\n",
        "  x = [vocab.w2i.get(t, 0) for t in example.tokens]\n",
        "  \n",
        "  x = torch.LongTensor([x])\n",
        "  x = x.to(device)\n",
        "  \n",
        "  y = torch.LongTensor([example.label])\n",
        "  y = y.to(device)\n",
        "  \n",
        "  return x, y"
      ],
      "execution_count": 0,
      "outputs": []
    },
    {
      "cell_type": "markdown",
      "metadata": {
        "id": "oKNQjEc0yXnJ",
        "colab_type": "text"
      },
      "source": [
        "#### Evaluation\n",
        "We will need one more thing: an evaluation metric.\n",
        "How many predictions do we get right? The accuracy will tell us.\n",
        "Make sure that you understand this code block.\n"
      ]
    },
    {
      "cell_type": "code",
      "metadata": {
        "id": "yGmQLcVYKZsh",
        "colab_type": "code",
        "colab": {}
      },
      "source": [
        "def simple_evaluate(model, data, per_length, prep_fn=prepare_example, **kwargs):\n",
        "  \"\"\"Accuracy of a model on given data set.\"\"\"\n",
        "  correct = 0\n",
        "  total = 0\n",
        "  model.eval()  # disable dropout (explained later)\n",
        "  lengths_correct = defaultdict(int)\n",
        "  lengths_total = defaultdict(int)\n",
        "  lengths_accuracies = []\n",
        "\n",
        "  for example in data:\n",
        "    # convert the example input and label to PyTorch tensors\n",
        "    x, target = prep_fn(example, model.vocab)\n",
        "\n",
        "    # forward pass\n",
        "    with torch.no_grad():\n",
        "      logits = model(x)\n",
        "    \n",
        "    # Compute accuracies\n",
        "    prediction = logits.argmax(dim=-1)\n",
        "    correct += (prediction == target).sum().item()\n",
        "    total += 1\n",
        "    \n",
        "    if per_length == True:\n",
        "      lengths_total[len(example.tokens)] += 1\n",
        "      lengths_correct[len(example.tokens)] += (prediction == target).sum().item()\n",
        "  \n",
        "  if per_length == True:\n",
        "    for l in range(max(lengths_total, key=int)):\n",
        "      if lengths_total[l] > 0:\n",
        "        lengths_accuracies.append(lengths_correct[l]/lengths_total[l])\n",
        "      else: \n",
        "        lengths_accuracies.append(np.nan)\n",
        "\n",
        "  return correct, total, correct / float(total), lengths_accuracies"
      ],
      "execution_count": 0,
      "outputs": []
    },
    {
      "cell_type": "markdown",
      "metadata": {
        "id": "dIk6OtSdzGRP",
        "colab_type": "text"
      },
      "source": [
        "#### Example feed\n",
        "For stochastic gradient descent (SGD) we will need a random training example for every update.\n",
        "We implement this by shuffling the training data and returning examples one by one using `yield`.\n",
        "\n",
        "Shuffling is optional so that we get to use this to get validation and test examples, too."
      ]
    },
    {
      "cell_type": "code",
      "metadata": {
        "id": "dxDFOZLfCXvJ",
        "colab_type": "code",
        "colab": {}
      },
      "source": [
        "def get_examples(data, shuffle=True, **kwargs):\n",
        "  \"\"\"Shuffle data set and return 1 example at a time (until nothing left)\"\"\"\n",
        "  if shuffle:\n",
        "    random.shuffle(data)  # shuffle training data each epoch\n",
        "  for example in data:\n",
        "    yield example"
      ],
      "execution_count": 0,
      "outputs": []
    },
    {
      "cell_type": "markdown",
      "metadata": {
        "id": "g09SM8yb2cjx",
        "colab_type": "text"
      },
      "source": [
        "#### Exercise: Training function\n",
        "\n",
        "Your task is now to complete the training loop below.\n",
        "Before you do so, please read the section about optimization."
      ]
    },
    {
      "cell_type": "markdown",
      "metadata": {
        "id": "TVfUukVdM_1c",
        "colab_type": "text"
      },
      "source": [
        "**Optimization**\n",
        "\n",
        "As mentioned in the \"Introduction to PyTorch\" notebook, one of the perks of using PyTorch are its automatic differentiation abilities. We will use these to train our BOW model. \n",
        "\n",
        "We train our model by feeding it an input and performing **forward** pass, which results in an output for which we obtain a **loss** with our loss function.\n",
        "After the gradients are calculated in the **backward** pass, we can take a step on the loss surface towards more optimal parameter settings (e.g. gradient descent). \n",
        "\n",
        "The package we will use to do this optimization is [torch.optim](https://pytorch.org/docs/stable/optim.html). Besides implementations of stochastic gradient descent (SGD), this package also implements the optimization algorithm Adam, which we'll be using in this practical. \n",
        "For the purposes of this assignment you do not need to know what Adam does besides that it uses gradient information to update our model parameters by calling: \n",
        "\n",
        "```\n",
        "optimizer.step()\n",
        "```\n",
        "Remember when we updated our parameters in the PyTorch tutorial in a loop?\n",
        "\n",
        "\n",
        "```python\n",
        "# update weights\n",
        "learning_rate = 0.5\n",
        "for f in net.parameters():\n",
        "    # for each parameter, take a small step in the opposite dir of the gradient\n",
        "    p.data = p.data - p.grad.data * learning_rate\n",
        "\n",
        "```\n",
        "The function call optimizer.step() does effectively the same thing.\n",
        "\n",
        "*(If you want to know more about optimization algorithms using gradient information [this blog](http://ruder.io/optimizing-gradient-descent/.) gives a nice intuitive overview.)*"
      ]
    },
    {
      "cell_type": "code",
      "metadata": {
        "id": "Q0Tjpp-mUlFI",
        "colab_type": "code",
        "colab": {}
      },
      "source": [
        "def train_model(model, optimizer, num_iterations, \n",
        "                print_every, eval_every,\n",
        "                batch_fn=get_examples, \n",
        "                prep_fn=prepare_example,\n",
        "                eval_fn=simple_evaluate,\n",
        "                batch_size=1, eval_batch_size=None):\n",
        "  \"\"\"Train a model.\"\"\"  \n",
        "  iter_i = 0\n",
        "  train_loss = 0.\n",
        "  print_num = 0\n",
        "  start = time.time()\n",
        "  criterion = nn.CrossEntropyLoss() # loss function\n",
        "  best_eval = 0.\n",
        "  best_iter = 0\n",
        "\n",
        "  # store train loss and validation accuracy during training\n",
        "  # so we can plot them afterwards\n",
        "  losses = []\n",
        "  accuracies = []  \n",
        "  iterations = []\n",
        "  \n",
        "  if eval_batch_size is None:\n",
        "    eval_batch_size = batch_size\n",
        "  \n",
        "  while True:  # when we run out of examples, shuffle and continue\n",
        "    for batch in batch_fn(train_data, batch_size=batch_size):\n",
        "\n",
        "      # forward pass\n",
        "      model.train()\n",
        "      x, targets = prep_fn(batch, model.vocab)\n",
        "      logits = model(x)\n",
        "\n",
        "      B = targets.size(0)  # later we will use B examples per update\n",
        "      \n",
        "      # compute cross-entropy loss (our criterion)\n",
        "      # note that the cross entropy loss function computes the softmax for us\n",
        "      loss = criterion(logits.view([B, -1]), targets.view(-1))\n",
        "      train_loss += loss.item()\n",
        "\n",
        "      # backward pass\n",
        "\n",
        "      # erase previous gradients\n",
        "      model.zero_grad()\n",
        "      \n",
        "      # compute gradients\n",
        "      loss.backward()\n",
        "\n",
        "      # update weights - take a small step in the opposite dir of the gradient\n",
        "      optimizer.step()\n",
        "\n",
        "      print_num += 1\n",
        "      iter_i += 1\n",
        "\n",
        "      # print info\n",
        "      if iter_i % print_every == 0:\n",
        "        #print(\"Iter %r: loss=%.4f, time=%.2fs\" % \n",
        "        #      (iter_i, train_loss, time.time()-start))\n",
        "        \n",
        "        losses.append(train_loss)\n",
        "        iterations.append(iter_i)\n",
        "        print_num = 0        \n",
        "        train_loss = 0.\n",
        "\n",
        "      # evaluate\n",
        "      if iter_i % eval_every == 0:\n",
        "        _, _, accuracy, _ = eval_fn(model, dev_data, batch_size=eval_batch_size,\n",
        "                                 batch_fn=batch_fn, prep_fn=prep_fn, per_length = False)\n",
        "        accuracies.append(accuracy)\n",
        "        if iter_i % 10000 == 0:  \n",
        "          print(\"iter %r: dev acc=%.4f\" % (iter_i, accuracy))   \n",
        "        \n",
        "        # save best model parameters\n",
        "        if accuracy > best_eval:\n",
        "          best_eval = accuracy\n",
        "          best_iter = iter_i\n",
        "          path = \"{}.pt\".format(model.__class__.__name__)\n",
        "          ckpt = {\n",
        "              \"state_dict\": model.state_dict(),\n",
        "              \"optimizer_state_dict\": optimizer.state_dict(),\n",
        "              \"best_eval\": best_eval,\n",
        "              \"best_iter\": best_iter\n",
        "          }\n",
        "          torch.save(ckpt, path)\n",
        "\n",
        "      # done training\n",
        "      if iter_i == num_iterations:\n",
        "        print(\"Done training\")\n",
        "        \n",
        "        # evaluate on train, dev, and test with best model\n",
        "        print(\"Loading best model\")\n",
        "        path = \"{}.pt\".format(model.__class__.__name__)        \n",
        "        ckpt = torch.load(path)\n",
        "        model.load_state_dict(ckpt[\"state_dict\"])\n",
        "        \n",
        "        _, _, train_acc, _ = eval_fn(\n",
        "            model, train_data, batch_size=eval_batch_size, \n",
        "            batch_fn=batch_fn, prep_fn=prep_fn, per_length = False)\n",
        "        _, _, dev_acc, _ = eval_fn(\n",
        "            model, dev_data, batch_size=eval_batch_size,\n",
        "            batch_fn=batch_fn, prep_fn=prep_fn, per_length = False)\n",
        "        correct, total, test_acc, lengths_accuracies = eval_fn(\n",
        "            model, test_data, batch_size=eval_batch_size, \n",
        "            batch_fn=batch_fn, prep_fn=prep_fn, per_length = True)\n",
        "        \n",
        "        test_predictions = [1]*correct + [0]*(total-correct)\n",
        "        \n",
        "        print(\"best model iter {:d}: \"\n",
        "              \"train acc={:.4f}, dev acc={:.4f}, test acc={:.4f}\".format(\n",
        "                  best_iter, train_acc, dev_acc, test_acc))\n",
        "        \n",
        "        lengths = [232131]\n",
        "        return losses, accuracies, test_predictions, lengths_accuracies, test_acc, iterations "
      ],
      "execution_count": 0,
      "outputs": []
    },
    {
      "cell_type": "code",
      "metadata": {
        "id": "ljJkROpGfI1U",
        "colab_type": "code",
        "colab": {}
      },
      "source": [
        "# Alternative training function (on train_data_sub instread of on train_data)\n",
        "def train_model_sub(model, optimizer, num_iterations, \n",
        "                    print_every, eval_every,\n",
        "                    batch_fn=get_examples, \n",
        "                    prep_fn=prepare_example,\n",
        "                    eval_fn=simple_evaluate,\n",
        "                    batch_size=1, eval_batch_size=None):\n",
        "  \"\"\"Train a model.\"\"\"  \n",
        "  iter_i = 0\n",
        "  train_loss = 0.\n",
        "  print_num = 0\n",
        "  start = time.time()\n",
        "  criterion = nn.CrossEntropyLoss() # loss function\n",
        "  best_eval = 0.\n",
        "  best_iter = 0\n",
        "\n",
        "  # store train loss and validation accuracy during training\n",
        "  # so we can plot them afterwards\n",
        "  losses = []\n",
        "  accuracies = []  \n",
        "  iterations = []\n",
        "  \n",
        "  if eval_batch_size is None:\n",
        "    eval_batch_size = batch_size\n",
        "  \n",
        "  while True:  # when we run out of examples, shuffle and continue\n",
        "    for batch in batch_fn(train_data_sub, batch_size=batch_size):\n",
        "\n",
        "      # forward pass\n",
        "      model.train()\n",
        "      x, targets = prep_fn(batch, model.vocab)\n",
        "      logits = model(x)\n",
        "\n",
        "      B = targets.size(0)  # later we will use B examples per update\n",
        "      \n",
        "      # compute cross-entropy loss (our criterion)\n",
        "      # note that the cross entropy loss function computes the softmax for us\n",
        "      loss = criterion(logits.view([B, -1]), targets.view(-1))\n",
        "      train_loss += loss.item()\n",
        "\n",
        "      # backward pass\n",
        "\n",
        "      # erase previous gradients\n",
        "      model.zero_grad()\n",
        "      \n",
        "      # compute gradients\n",
        "      loss.backward()\n",
        "\n",
        "      # update weights - take a small step in the opposite dir of the gradient\n",
        "      optimizer.step()\n",
        "\n",
        "      print_num += 1\n",
        "      iter_i += 1\n",
        "\n",
        "      # print info\n",
        "      if iter_i % print_every == 0:\n",
        "        #print(\"Iter %r: loss=%.4f, time=%.2fs\" % \n",
        "        #      (iter_i, train_loss, time.time()-start))\n",
        "        \n",
        "        losses.append(train_loss)\n",
        "        iterations.append(iter_i)\n",
        "        print_num = 0        \n",
        "        train_loss = 0.\n",
        "\n",
        "      # evaluate\n",
        "      if iter_i % eval_every == 0:\n",
        "        _, _, accuracy, _ = eval_fn(model, dev_data, batch_size=eval_batch_size,\n",
        "                                 batch_fn=batch_fn, prep_fn=prep_fn, per_length = False)\n",
        "        accuracies.append(accuracy)\n",
        "        if iter_i % 10000 == 0:  \n",
        "          print(\"iter %r: dev acc=%.4f\" % (iter_i, accuracy))     \n",
        "        \n",
        "        # save best model parameters\n",
        "        if accuracy > best_eval:\n",
        "          best_eval = accuracy\n",
        "          best_iter = iter_i\n",
        "          path = \"{}.pt\".format(model.__class__.__name__)\n",
        "          ckpt = {\n",
        "              \"state_dict\": model.state_dict(),\n",
        "              \"optimizer_state_dict\": optimizer.state_dict(),\n",
        "              \"best_eval\": best_eval,\n",
        "              \"best_iter\": best_iter\n",
        "          }\n",
        "          torch.save(ckpt, path)\n",
        "\n",
        "      # done training\n",
        "      if iter_i == num_iterations:\n",
        "        print(\"Done training\")\n",
        "        \n",
        "        # evaluate on train, dev, and test with best model\n",
        "        print(\"Loading best model\")\n",
        "        path = \"{}.pt\".format(model.__class__.__name__)        \n",
        "        ckpt = torch.load(path)\n",
        "        model.load_state_dict(ckpt[\"state_dict\"])\n",
        "        \n",
        "        _, _, train_acc, _ = eval_fn(\n",
        "            model, train_data_sub, batch_size=eval_batch_size, \n",
        "            batch_fn=batch_fn, prep_fn=prep_fn, per_length = False)\n",
        "        _, _, dev_acc, _ = eval_fn(\n",
        "            model, dev_data, batch_size=eval_batch_size,\n",
        "            batch_fn=batch_fn, prep_fn=prep_fn, per_length = False)\n",
        "        correct, total, test_acc, lengths_accuracies = eval_fn(\n",
        "            model, test_data, batch_size=eval_batch_size, \n",
        "            batch_fn=batch_fn, prep_fn=prep_fn, per_length = True)\n",
        "        \n",
        "        test_predictions = [1]*correct + [0]*(total-correct)\n",
        "        \n",
        "        print(\"best model iter {:d}: \"\n",
        "              \"train acc={:.4f}, dev acc={:.4f}, test acc={:.4f}\".format(\n",
        "                  best_iter, train_acc, dev_acc, test_acc))\n",
        "        \n",
        "        lengths = [232131]\n",
        "        return losses, accuracies, test_predictions, lengths_accuracies, test_acc, iterations"
      ],
      "execution_count": 0,
      "outputs": []
    },
    {
      "cell_type": "markdown",
      "metadata": {
        "id": "XEPsLvI-3D5b",
        "colab_type": "text"
      },
      "source": [
        "### Training the BOW model"
      ]
    },
    {
      "cell_type": "code",
      "metadata": {
        "id": "9luJnNuN_d3q",
        "colab_type": "code",
        "outputId": "95fb8cab-ecf0-45e2-819c-123eee816af8",
        "colab": {
          "base_uri": "https://localhost:8080/",
          "height": 578
        }
      },
      "source": [
        "test_accuracies = []\n",
        "BOW_test_predictions = []\n",
        "\n",
        "for seed in range(3):\n",
        "  print(\"\\nSEED {}\\n\".format(seed+1))\n",
        "  BOW_model = BOW(len(v.w2i), 300, vocab=v)\n",
        "  BOW_model = BOW_model.to(device)\n",
        "  optimizer = optim.Adam(BOW_model.parameters(), lr=0.0005)\n",
        "\n",
        "  BOW_losses, BOW_accuracies, test_predictions, BOW_lengths_accuracies, \\\n",
        "    test_accuracy, BOW_iterations = train_model(\n",
        "      BOW_model, optimizer, num_iterations=50000, \n",
        "      print_every=100, eval_every=100)\n",
        "  test_accuracies.append(test_accuracy)\n",
        "  BOW_test_predictions += test_predictions\n",
        "\n",
        "BOW_test_accuracy_mean = statistics.mean(test_accuracies)\n",
        "BOW_test_accuracy_sd = statistics.stdev(test_accuracies)"
      ],
      "execution_count": 0,
      "outputs": [
        {
          "output_type": "stream",
          "text": [
            "\n",
            "SEED 1\n",
            "\n",
            "iter 10000: dev acc=0.1717\n",
            "iter 20000: dev acc=0.2343\n",
            "iter 30000: dev acc=0.2616\n",
            "iter 40000: dev acc=0.2752\n",
            "iter 50000: dev acc=0.2888\n",
            "Done training\n",
            "Loading best model\n",
            "best model iter 49300: train acc=0.3816, dev acc=0.2916, test acc=0.2860\n",
            "\n",
            "SEED 2\n",
            "\n",
            "iter 10000: dev acc=0.1989\n",
            "iter 20000: dev acc=0.2452\n",
            "iter 30000: dev acc=0.2661\n",
            "iter 40000: dev acc=0.2770\n",
            "iter 50000: dev acc=0.2852\n",
            "Done training\n",
            "Loading best model\n",
            "best model iter 49000: train acc=0.3859, dev acc=0.2870, test acc=0.2751\n",
            "\n",
            "SEED 3\n",
            "\n",
            "iter 10000: dev acc=0.1480\n",
            "iter 20000: dev acc=0.2234\n",
            "iter 30000: dev acc=0.2543\n",
            "iter 40000: dev acc=0.2707\n",
            "iter 50000: dev acc=0.2797\n",
            "Done training\n",
            "Loading best model\n",
            "best model iter 42500: train acc=0.3620, dev acc=0.2861, test acc=0.2833\n"
          ],
          "name": "stdout"
        }
      ]
    },
    {
      "cell_type": "code",
      "metadata": {
        "id": "IBtiuyp-YYAw",
        "colab_type": "code",
        "colab": {}
      },
      "source": [
        "np.save(\"BOW_losses\", BOW_losses)\n",
        "np.save(\"BOW_accuracies\", BOW_accuracies)\n",
        "np.save(\"BOW_iterations\", BOW_iterations)\n",
        "np.save(\"BOW_test_accuracy_mean\", BOW_test_accuracy_mean)\n",
        "np.save(\"BOW_test_accuracy_sd\", BOW_test_accuracy_sd)\n",
        "np.save(\"BOW_test_predictions\", BOW_test_predictions)\n",
        "np.save(\"BOW_lengths_accuracies\", BOW_lengths_accuracies)\n",
        "np.save(\"BOW_lengths_accuracies\", BOW_lengths_accuracies)"
      ],
      "execution_count": 0,
      "outputs": []
    },
    {
      "cell_type": "markdown",
      "metadata": {
        "id": "E9mB1_XhMPNN",
        "colab_type": "text"
      },
      "source": [
        "# CBOW"
      ]
    },
    {
      "cell_type": "markdown",
      "metadata": {
        "id": "pWk78FvNMw4o",
        "colab_type": "text"
      },
      "source": [
        "We now continue with a **continuous bag-of-words (CBOW)** model.\n",
        "It is similar to the BOW model, but now embeddings can have a dimension of *arbitrary size*. \n",
        "This means that we can make them bigger and learn more aspects of each word. We will still sum the vectors to get a sentence representation, but now the result is no longer conveniently the number of sentiment classes. \n",
        "\n",
        "*Note that this is not the same as word2vec CBOW.* Both models take a few words as input, sum and make a prediction. However, in word2vec the prediction is the word in the middle of the input words. Here, the prediction is a sentiment class (1 out of 5 possible numbers 0-4).\n",
        "\n",
        "So what can we do? We can *learn* a parameter matrix $W$ that turns our summed vector into the number of output classes, by matrix-multiplying it: $$Wx$$\n",
        "If the size of $W$ is `5 x d`, and $x$ is `d x 1` and , then the result will be `5x1`, and then we can again find our prediction using an argmax."
      ]
    },
    {
      "cell_type": "markdown",
      "metadata": {
        "id": "gIjrCPfCwsXI",
        "colab_type": "text"
      },
      "source": [
        "## Exercise: write CBOW class & train it\n",
        "\n",
        "Write a class `CBOW` that:\n",
        "\n",
        "- has word embeddings with size 300\n",
        "- sums the word vectors for the input words (just like in `BOW`)\n",
        "- projects the resulting vector down to 5 units using a linear layer (including a bias term)\n",
        "\n",
        "Train your CBOW model and plot the validation accuracy and training loss over time."
      ]
    },
    {
      "cell_type": "code",
      "metadata": {
        "id": "PEV22aR2MP0Q",
        "colab_type": "code",
        "colab": {}
      },
      "source": [
        "class CBOW(nn.Module):\n",
        "  \"\"\"A continuous bag-of-words model\"\"\"\n",
        "\n",
        "  def __init__(self, vocab_size, embedding_dim, vocab):\n",
        "    super(CBOW, self).__init__()\n",
        "    self.vocab = vocab\n",
        "    \n",
        "    # this is a trained look-up table with word embeddings\n",
        "    self.embed = nn.Embedding(vocab_size, embedding_dim)\n",
        "    \n",
        "    # this is a trained bias term\n",
        "    self.bias = nn.Parameter(torch.zeros(embedding_dim), requires_grad=True)  \n",
        "\n",
        "    # Linear module for reducing the output vector to demension 5\n",
        "    self.LM = nn.Linear(embedding_dim, 5, bias=True)      \n",
        "\n",
        "  def forward(self, inputs):\n",
        "    # this is the forward pass of the neural network\n",
        "    # given inputs, it computes the output\n",
        "\n",
        "    # this looks up the embeddings for each word ID in inputs\n",
        "    # the result is a sequence of word embeddings\n",
        "    embeds = self.embed(inputs)\n",
        "    \n",
        "    # the output is the sum across the time dimension (1)\n",
        "    # with the bias term added\n",
        "    logits = embeds.sum(1) + self.bias\n",
        "\n",
        "    # project the resulting vector down to 5 units using a linear layer (including a bias term)\n",
        "    logits = self.LM(logits)\n",
        "\n",
        "    return logits"
      ],
      "execution_count": 0,
      "outputs": []
    },
    {
      "cell_type": "code",
      "metadata": {
        "id": "GesSQyL3WH_i",
        "colab_type": "code",
        "outputId": "53c6057d-e1d8-40db-e20a-95c198356c0e",
        "colab": {
          "base_uri": "https://localhost:8080/",
          "height": 578
        }
      },
      "source": [
        "test_accuracies = []\n",
        "CBOW_test_predictions = []\n",
        "\n",
        "for seed in range(3):\n",
        "  print(\"\\nSEED {}\\n\".format(seed+1))\n",
        "  CBOW_model = CBOW(len(v.w2i), 300, vocab=v)\n",
        "  CBOW_model = CBOW_model.to(device)\n",
        "  optimizer = optim.Adam(CBOW_model.parameters(), lr=0.0005)\n",
        "\n",
        "  CBOW_losses, CBOW_accuracies, test_predictions, CBOW_lengths_accuracies, \\\n",
        "    test_accuracy, CBOW_iterations = train_model(\n",
        "      CBOW_model, optimizer, num_iterations=50000, \n",
        "      print_every=100, eval_every=100)\n",
        "  test_accuracies.append(test_accuracy)\n",
        "  CBOW_test_predictions += test_predictions\n",
        "\n",
        "CBOW_test_accuracy_mean = statistics.mean(test_accuracies)\n",
        "CBOW_test_accuracy_sd = statistics.stdev(test_accuracies)"
      ],
      "execution_count": 0,
      "outputs": [
        {
          "output_type": "stream",
          "text": [
            "\n",
            "SEED 1\n",
            "\n",
            "iter 10000: dev acc=0.2979\n",
            "iter 20000: dev acc=0.3243\n",
            "iter 30000: dev acc=0.3106\n",
            "iter 40000: dev acc=0.3161\n",
            "iter 50000: dev acc=0.3152\n",
            "Done training\n",
            "Loading best model\n",
            "best model iter 28400: train acc=0.6955, dev acc=0.3560, test acc=0.3611\n",
            "\n",
            "SEED 2\n",
            "\n",
            "iter 10000: dev acc=0.2879\n",
            "iter 20000: dev acc=0.3324\n",
            "iter 30000: dev acc=0.3315\n",
            "iter 40000: dev acc=0.3542\n",
            "iter 50000: dev acc=0.3424\n",
            "Done training\n",
            "Loading best model\n",
            "best model iter 42800: train acc=0.8402, dev acc=0.3688, test acc=0.3824\n",
            "\n",
            "SEED 3\n",
            "\n",
            "iter 10000: dev acc=0.3188\n",
            "iter 20000: dev acc=0.3006\n",
            "iter 30000: dev acc=0.3361\n",
            "iter 40000: dev acc=0.3451\n",
            "iter 50000: dev acc=0.3206\n",
            "Done training\n",
            "Loading best model\n",
            "best model iter 48400: train acc=0.8521, dev acc=0.3688, test acc=0.3729\n"
          ],
          "name": "stdout"
        }
      ]
    },
    {
      "cell_type": "code",
      "metadata": {
        "id": "pN2hK1nIY_Nm",
        "colab_type": "code",
        "colab": {}
      },
      "source": [
        "np.save(\"CBOW_losses\", CBOW_losses)\n",
        "np.save(\"CBOW_accuracies\", CBOW_accuracies)\n",
        "np.save(\"CBOW_iterations\", CBOW_iterations)\n",
        "np.save(\"CBOW_test_accuracy_mean\", CBOW_test_accuracy_mean)\n",
        "np.save(\"CBOW_test_accuracy_sd\", CBOW_test_accuracy_sd)\n",
        "np.save(\"CBOW_test_predictions\", CBOW_test_predictions)\n",
        "np.save(\"CBOW_lengths_accuracies\", CBOW_lengths_accuracies)"
      ],
      "execution_count": 0,
      "outputs": []
    },
    {
      "cell_type": "markdown",
      "metadata": {
        "id": "zpFt_Fo2TdN0",
        "colab_type": "text"
      },
      "source": [
        "# Deep CBOW"
      ]
    },
    {
      "cell_type": "markdown",
      "metadata": {
        "id": "iZanOMesTfEZ",
        "colab_type": "text"
      },
      "source": [
        "To see if we can squeeze some more performance out of the CBOW model, we can make it deeper and non-linear: add more layers and tanh-activations.\n",
        "By using more parameters we can learn more aspects of the data, and by using more layers and non-linearities, we can try to learn a more complex function. \n",
        "This is not something that always works. If the input-output mapping of your data is simple, then a complicated function could easily overfit on your training set, which will lead to poor generalization. \n",
        "\n",
        "We will use E for the size of the word embeddings (use: 300) and D for the size of a hidden layer (use: 100).\n",
        "\n",
        "#### Exercise: write Deep CBOW class and train it\n",
        "\n",
        "Write a class `DeepCBOW`.\n",
        "\n",
        "In your code, make sure that your `output_layer` consists of the following:\n",
        "- A linear transformation from E units to D units.\n",
        "- A Tanh activation\n",
        "- A linear transformation from D units to D units\n",
        "- A Tanh activation\n",
        "- A linear transformation from D units to 5 units (our output classes).\n",
        "\n",
        "We recommend using [nn.Sequential](https://pytorch.org/docs/stable/nn.html?highlight=sequential#torch.nn.Sequential) to implement this exercise."
      ]
    },
    {
      "cell_type": "code",
      "metadata": {
        "id": "l8Z1igvpTrZq",
        "colab_type": "code",
        "colab": {}
      },
      "source": [
        "class DeepCBOW(nn.Module):\n",
        "\n",
        "  def __init__(self, vocab_size, embedding_dim, vocab):\n",
        "    super(DeepCBOW, self).__init__()\n",
        "    self.vocab = vocab\n",
        "    self.embed = nn.Embedding(vocab_size, embedding_dim)\n",
        "    self.bias = nn.Parameter(torch.zeros(embedding_dim), requires_grad=True)  \n",
        "    self.network = nn.Sequential(\n",
        "          nn.Linear(embedding_dim, 100, bias=True)  , \n",
        "          nn.Tanh(),\n",
        "          nn.Linear(100, 100, bias=True),   \n",
        "          nn.Tanh(),\n",
        "          nn.Linear(100, 5, bias=True)  \n",
        "        ).to(device)\n",
        "\n",
        "  def forward(self, inputs):\n",
        "    embeds = self.embed(inputs)\n",
        "    logits = embeds.sum(1) + self.bias\n",
        "    logits = self.network(logits)\n",
        "\n",
        "    return logits"
      ],
      "execution_count": 0,
      "outputs": []
    },
    {
      "cell_type": "code",
      "metadata": {
        "id": "Gfk7kwkPWLzb",
        "colab_type": "code",
        "outputId": "5b7a721a-2b07-415f-90fc-b8445012612c",
        "colab": {
          "base_uri": "https://localhost:8080/",
          "height": 578
        }
      },
      "source": [
        "test_accuracies = []\n",
        "DCBOW_test_predictions = []\n",
        "\n",
        "for seed in range(3):\n",
        "  print(\"\\nSEED {}\\n\".format(seed+1))\n",
        "  DCBOW_model = DeepCBOW(len(v.w2i), 300, vocab=v)\n",
        "  DCBOW_model = DCBOW_model.to(device)\n",
        "  optimizer = optim.Adam(DCBOW_model.parameters(), lr=0.0005)\n",
        "\n",
        "  DCBOW_losses, DCBOW_accuracies, test_predictions, DCBOW_lengths_accuracies, \\\n",
        "    test_accuracy, DCBOW_iterations = train_model(\n",
        "      DCBOW_model, optimizer, num_iterations=50000, \n",
        "      print_every=100, eval_every=100)\n",
        "  test_accuracies.append(test_accuracy)\n",
        "  DCBOW_test_predictions += test_predictions\n",
        "\n",
        "DCBOW_test_accuracy_mean = statistics.mean(test_accuracies)\n",
        "DCBOW_test_accuracy_sd = statistics.stdev(test_accuracies)"
      ],
      "execution_count": 0,
      "outputs": [
        {
          "output_type": "stream",
          "text": [
            "\n",
            "SEED 1\n",
            "\n",
            "iter 10000: dev acc=0.3406\n",
            "iter 20000: dev acc=0.3706\n",
            "iter 30000: dev acc=0.3379\n",
            "iter 40000: dev acc=0.3124\n",
            "iter 50000: dev acc=0.3342\n",
            "Done training\n",
            "Loading best model\n",
            "best model iter 25800: train acc=0.5765, dev acc=0.3769, test acc=0.3624\n",
            "\n",
            "SEED 2\n",
            "\n",
            "iter 10000: dev acc=0.3606\n",
            "iter 20000: dev acc=0.3297\n",
            "iter 30000: dev acc=0.3488\n",
            "iter 40000: dev acc=0.3524\n",
            "iter 50000: dev acc=0.3551\n",
            "Done training\n",
            "Loading best model\n",
            "best model iter 23700: train acc=0.5737, dev acc=0.3924, test acc=0.3842\n",
            "\n",
            "SEED 3\n",
            "\n",
            "iter 10000: dev acc=0.3633\n",
            "iter 20000: dev acc=0.3324\n",
            "iter 30000: dev acc=0.3697\n",
            "iter 40000: dev acc=0.3560\n",
            "iter 50000: dev acc=0.3524\n",
            "Done training\n",
            "Loading best model\n",
            "best model iter 14000: train acc=0.4874, dev acc=0.3869, test acc=0.3575\n"
          ],
          "name": "stdout"
        }
      ]
    },
    {
      "cell_type": "code",
      "metadata": {
        "id": "nmbapWUvZP3h",
        "colab_type": "code",
        "colab": {}
      },
      "source": [
        "np.save(\"DCBOW_losses\", DCBOW_losses)\n",
        "np.save(\"DCBOW_accuracies\", DCBOW_accuracies)\n",
        "np.save(\"DCBOW_iterations\", DCBOW_iterations)\n",
        "np.save(\"DCBOW_test_accuracy_mean\", DCBOW_test_accuracy_mean)\n",
        "np.save(\"DCBOW_test_accuracy_sd\", DCBOW_test_accuracy_sd)\n",
        "np.save(\"DCBOW_test_predictions\", DCBOW_test_predictions)\n",
        "np.save(\"DCBOW_lengths_accuracies\", DCBOW_lengths_accuracies)"
      ],
      "execution_count": 0,
      "outputs": []
    },
    {
      "cell_type": "markdown",
      "metadata": {
        "id": "MQZ5flHwiiHY",
        "colab_type": "text"
      },
      "source": [
        "# Pre-trained word embeddings"
      ]
    },
    {
      "cell_type": "markdown",
      "metadata": {
        "id": "9NX35vecmHy6",
        "colab_type": "text"
      },
      "source": [
        "The Stanford sentiment treebank is a very small data set, since it was manually annotated. This makes it difficult for the model to learn good word embeddings, to learn the \"meaning\" of the words in our vocabulary.\n",
        "\n",
        "Think for a moment about the fact that the only error signal that the network receives is from predicting the sentiment!\n",
        "\n",
        "To mitigate our data sparsity, we can download **pre-trained word embeddings**. \n",
        "You can choose which pre-trained word embeddings to use:\n",
        "\n",
        "- **Glove**. The \"original\" Stanford Sentiment classification [paper](http://aclweb.org/anthology/P/P15/P15-1150.pdf) used Glove embeddings, which are just another method (like *word2vec*) to get word embeddings from unannotated text. Glove is described in the following paper which you should cite if you use them:\n",
        "> Jeffrey Pennington, Richard Socher, and Christopher Manning. [\"Glove: Global vectors for word representation.\"](https://nlp.stanford.edu/pubs/glove.pdf) EMNLP 2014. \n",
        "\n",
        "- **word2vec**. This is the method that you learned about in class, described in:\n",
        "> Mikolov, Tomas, et al. [\"Distributed representations of words and phrases and their compositionality.\"](https://papers.nips.cc/paper/5021-distributed-representations-of-words-and-phrases-and-their-compositionality.pdf) Advances in neural information processing systems. 2013.\n",
        "\n",
        "With these pre-trained word embeddings, we can initialize our word embedding lookup table and start form a point where similar words are already close to one another. \n",
        "\n",
        "You can choose to keep the word embeddings **fixed** or to train them further.\n",
        "We will keep them fixed for now.\n",
        "\n",
        "For the purposes of this lab, it is enough if you understand how word2vec works (whichever vectors you use). If you are interested you may also check out the Glove paper.\n",
        "\n",
        "You can either download the word2vec vectors, or the Glove vectors.\n",
        "If you want to compare your results to the Stanford paper later on, then you should use Glove. \n",
        "**At the end of this lab you have the option to compare which vectors give you the best performance. For now, simply choose one of them and continue with that.**\n",
        "\n",
        "[**OPTIONAL in case you don't want to mount Google Drive:** instead of running all the 5 boxes below, you can 1) download the Glove and word2vec in your local machine, 2) upload them on your Drive folder (\"My Drive\"). Then, uncomment the first 2 lines in box 6 before writing your code!]\n"
      ]
    },
    {
      "cell_type": "code",
      "metadata": {
        "id": "lGYr02WWO993",
        "colab_type": "code",
        "outputId": "6ad50956-0b3a-49a0-91b1-32fba7fbf983",
        "colab": {
          "base_uri": "https://localhost:8080/",
          "height": 224
        }
      },
      "source": [
        "# This downloads the Glove 840B 300d embeddings.\n",
        "# The original file is at http://nlp.stanford.edu/data/glove.840B.300d.zip\n",
        "# Since that file is 2GB, we provide you with a *filtered version*\n",
        "# which contains all the words you need for this data set.\n",
        "\n",
        "# You only need to do this once.\n",
        "# Please comment this cell out after downloading.\n",
        "\n",
        "!wget https://gist.githubusercontent.com/bastings/b094de2813da58056a05e8e7950d4ad1/raw/3fbd3976199c2b88de2ae62afc0ecc6f15e6f7ce/glove.840B.300d.sst.txt"
      ],
      "execution_count": 29,
      "outputs": [
        {
          "output_type": "stream",
          "text": [
            "--2019-12-10 09:09:20--  https://gist.githubusercontent.com/bastings/b094de2813da58056a05e8e7950d4ad1/raw/3fbd3976199c2b88de2ae62afc0ecc6f15e6f7ce/glove.840B.300d.sst.txt\n",
            "Resolving gist.githubusercontent.com (gist.githubusercontent.com)... 151.101.0.133, 151.101.64.133, 151.101.128.133, ...\n",
            "Connecting to gist.githubusercontent.com (gist.githubusercontent.com)|151.101.0.133|:443... connected.\n",
            "HTTP request sent, awaiting response... 200 OK\n",
            "Length: 53933315 (51M) [text/plain]\n",
            "Saving to: ‘glove.840B.300d.sst.txt’\n",
            "\n",
            "glove.840B.300d.sst 100%[===================>]  51.43M   271MB/s    in 0.2s    \n",
            "\n",
            "2019-12-10 09:09:22 (271 MB/s) - ‘glove.840B.300d.sst.txt’ saved [53933315/53933315]\n",
            "\n"
          ],
          "name": "stdout"
        }
      ]
    },
    {
      "cell_type": "code",
      "metadata": {
        "id": "6NLsgFGiTjmI",
        "colab_type": "code",
        "outputId": "1df60afc-c452-4a2b-fefa-6d3fc5c6380e",
        "colab": {
          "base_uri": "https://localhost:8080/",
          "height": 224
        }
      },
      "source": [
        "# This downloads the word2vec 300D Google News vectors \n",
        "# The file has been truncated to only contain words that appear in our data set.\n",
        "# You can find the original file here: https://code.google.com/archive/p/word2vec/\n",
        "\n",
        "# You only need to do this once.\n",
        "# Please comment this out after downloading.\n",
        "!wget https://gist.githubusercontent.com/bastings/4d1c346c68969b95f2c34cfbc00ba0a0/raw/76b4fefc9ef635a79d0d8002522543bc53ca2683/googlenews.word2vec.300d.txt"
      ],
      "execution_count": 30,
      "outputs": [
        {
          "output_type": "stream",
          "text": [
            "--2019-12-10 09:09:24--  https://gist.githubusercontent.com/bastings/4d1c346c68969b95f2c34cfbc00ba0a0/raw/76b4fefc9ef635a79d0d8002522543bc53ca2683/googlenews.word2vec.300d.txt\n",
            "Resolving gist.githubusercontent.com (gist.githubusercontent.com)... 151.101.0.133, 151.101.64.133, 151.101.128.133, ...\n",
            "Connecting to gist.githubusercontent.com (gist.githubusercontent.com)|151.101.0.133|:443... connected.\n",
            "HTTP request sent, awaiting response... 200 OK\n",
            "Length: 66209703 (63M) [text/plain]\n",
            "Saving to: ‘googlenews.word2vec.300d.txt’\n",
            "\n",
            "googlenews.word2vec 100%[===================>]  63.14M   282MB/s    in 0.2s    \n",
            "\n",
            "2019-12-10 09:09:25 (282 MB/s) - ‘googlenews.word2vec.300d.txt’ saved [66209703/66209703]\n",
            "\n"
          ],
          "name": "stdout"
        }
      ]
    },
    {
      "cell_type": "code",
      "metadata": {
        "id": "GXBITzPRQUQb",
        "colab_type": "code",
        "cellView": "both",
        "outputId": "d41ab238-22d4-4453-97dd-2a8790afc980",
        "colab": {
          "base_uri": "https://localhost:8080/",
          "height": 122
        }
      },
      "source": [
        "# Mount Google Drive (to save the downloaded files)\n",
        "from google.colab import drive\n",
        "drive.mount('/gdrive')"
      ],
      "execution_count": 31,
      "outputs": [
        {
          "output_type": "stream",
          "text": [
            "Go to this URL in a browser: https://accounts.google.com/o/oauth2/auth?client_id=947318989803-6bn6qk8qdgf4n4g3pfee6491hc0brc4i.apps.googleusercontent.com&redirect_uri=urn%3aietf%3awg%3aoauth%3a2.0%3aoob&response_type=code&scope=email%20https%3a%2f%2fwww.googleapis.com%2fauth%2fdocs.test%20https%3a%2f%2fwww.googleapis.com%2fauth%2fdrive%20https%3a%2f%2fwww.googleapis.com%2fauth%2fdrive.photos.readonly%20https%3a%2f%2fwww.googleapis.com%2fauth%2fpeopleapi.readonly\n",
            "\n",
            "Enter your authorization code:\n",
            "··········\n",
            "Mounted at /gdrive\n"
          ],
          "name": "stdout"
        }
      ]
    },
    {
      "cell_type": "code",
      "metadata": {
        "id": "uFvzPuiKSCbl",
        "colab_type": "code",
        "colab": {}
      },
      "source": [
        "# Copy word vectors *to* Google Drive\n",
        "# You only need to do this once.\n",
        "# Please comment this out after running it. \n",
        "!cp \"glove.840B.300d.sst.txt\" \"/gdrive/My Drive/\"\n",
        "!cp \"googlenews.word2vec.300d.txt\" \"/gdrive/My Drive/\""
      ],
      "execution_count": 0,
      "outputs": []
    },
    {
      "cell_type": "code",
      "metadata": {
        "id": "kUMH0bM6BuY9",
        "colab_type": "code",
        "colab": {}
      },
      "source": [
        "# If you copied the word vectors to your Drive before,\n",
        "# here is where you copy them back to the Colab notebook.\n",
        "# Copy Glove vectors *from* Google Drive\n",
        "!cp \"/gdrive/My Drive/glove.840B.300d.sst.txt\" .\n",
        "!cp \"/gdrive/My Drive/googlenews.word2vec.300d.txt\" ."
      ],
      "execution_count": 0,
      "outputs": []
    },
    {
      "cell_type": "markdown",
      "metadata": {
        "id": "MX2GJVHILM8n",
        "colab_type": "text"
      },
      "source": [
        "At this point you have the pre-trained word embedding files, but what do they look like?"
      ]
    },
    {
      "cell_type": "code",
      "metadata": {
        "id": "ChsChH14Ruxn",
        "colab_type": "code",
        "colab": {}
      },
      "source": [
        "# Uncomment these 2 lines below if went for the OPTIONAL method described above\n",
        "# !cp \"glove.840B.300d.sst.txt\" \"./\"\n",
        "# !cp \"googlenews.word2vec.300d.txt\" \"./\"\n",
        "\n",
        "# Exercise: Print the first 4 lines of the files that you downloaded.\n",
        "# What do you see?"
      ],
      "execution_count": 0,
      "outputs": []
    },
    {
      "cell_type": "code",
      "metadata": {
        "id": "E_w-s0jOoBhX",
        "colab_type": "code",
        "colab": {}
      },
      "source": [
        "glove = open(\"glove.840B.300d.sst.txt\", \"r\") \n",
        "glove = glove.readlines()"
      ],
      "execution_count": 0,
      "outputs": []
    },
    {
      "cell_type": "markdown",
      "metadata": {
        "id": "WIVCkUkE_IjR",
        "colab_type": "text"
      },
      "source": [
        "#### Exercise: New Vocabulary\n",
        "\n",
        "Since we now use pre-trained word embeddings, we need to create a new vocabulary. \n",
        "This is because of two reasons:\n",
        "\n",
        "1. Not all words in our training set are in the set of pre-trained word embeddings. We do not want words in our vocabulary that are not in that set.\n",
        "2. We get to look up the pre-trained word embedding for words in the validation and test set, even if we don't know them from training. \n",
        "\n",
        "Now, create a new vocabulary object `v` and load the pre-trained vectors into a `vectors`.\n",
        "\n",
        "The vocabulary `v` should consist of:\n",
        " - a  `<unk>` token at position 0,\n",
        " - a  `<pad>` token at position 1, \n",
        " - and then all words in the pre-trained vector set.\n",
        " \n",
        "\n",
        "After storing each vector in a list `vectors`, turn in into a numpy matrix like this:\n",
        "```python\n",
        " vectors = np.stack(vectors, axis=0)\n",
        "```\n",
        " \n",
        " \n"
      ]
    },
    {
      "cell_type": "code",
      "metadata": {
        "id": "ITyyCvDnCL4U",
        "colab_type": "code",
        "outputId": "338ab6b9-8547-40eb-ae08-66daaf2b9f68",
        "colab": {
          "base_uri": "https://localhost:8080/",
          "height": 34
        }
      },
      "source": [
        "v = Vocabulary()\n",
        "for i in range(len(glove)):\n",
        "  token = glove[i].split(' ')[0]\n",
        "  v.count_token(token)\n",
        "\n",
        "v.build()\n",
        "print(\"Vocabulary size:\", len(v.w2i))\n",
        "\n",
        "vectors = []\n",
        "\n",
        "unk_vector = np.random.uniform(-1,1,300)\n",
        "pad_vector = np.random.uniform(-1,1,300)\n",
        "\n",
        "vectors.append(unk_vector)\n",
        "vectors.append(pad_vector)\n",
        "\n",
        "for i in range(len(glove)):\n",
        "  vectors.append(glove[i].split(' ')[1:])\n",
        "\n",
        "for i in range(len(vectors)):\n",
        "  vectors[i] = np.array(vectors[i])\n",
        "  vectors[i] = vectors[i].astype(np.float)\n",
        "\n",
        "vectors = np.stack(vectors, axis=0)"
      ],
      "execution_count": 101,
      "outputs": [
        {
          "output_type": "stream",
          "text": [
            "Vocabulary size: 20727\n"
          ],
          "name": "stdout"
        }
      ]
    },
    {
      "cell_type": "markdown",
      "metadata": {
        "id": "xC-7mRyYNG9b",
        "colab_type": "text"
      },
      "source": [
        "#### Exercise: words not in our pre-trained set\n",
        "\n",
        "How many words in the training, dev, and test set are also in your vector set?\n",
        "How many words are not there?\n",
        "\n",
        "Store the words that are not in the word vector set in the set below."
      ]
    },
    {
      "cell_type": "code",
      "metadata": {
        "id": "K6MA3-wF_X5M",
        "colab_type": "code",
        "outputId": "341be50b-d21c-4eb3-b451-b80e905bf2f8",
        "colab": {
          "base_uri": "https://localhost:8080/",
          "height": 85
        }
      },
      "source": [
        "#set of words in pre-trained vector set\n",
        "PT_words = set()\n",
        "for i in range(20725):\n",
        "  PT_words.add(v.i2w[i])\n",
        "\n",
        "#total set of words from train, test and dev data\n",
        "v_TTD = Vocabulary()\n",
        "for data_set in (train_data,):\n",
        "  for ex in data_set:\n",
        "    for token in ex.tokens:\n",
        "      v_TTD.count_token(token)\n",
        "for data_set in (dev_data,):\n",
        "  for ex in data_set:\n",
        "    for token in ex.tokens:\n",
        "      v_TTD.count_token(token)\n",
        "for data_set in (test_data,):\n",
        "  for ex in data_set:\n",
        "    for token in ex.tokens:\n",
        "      v_TTD.count_token(token)\n",
        "\n",
        "v_TTD.build()\n",
        "\n",
        "TTD_words = set()\n",
        "for i in range(len(v_TTD.i2w)):\n",
        "  TTD_words.add(v_TTD.i2w[i])\n",
        "\n",
        "print('number of words in pre-trained set: ', len(PT_words))\n",
        "print('number of words in train/test/dev set: ', len(TTD_words))\n",
        "print('number of words that are in both pre-trained and train/test/dev sets: ', len(PT_words & TTD_words))\n",
        "print('number of words from train/test/dev that are not in pre-trained set: ', len(TTD_words - PT_words))\n",
        "\n",
        "words_not_found = set(TTD_words - PT_words)"
      ],
      "execution_count": 100,
      "outputs": [
        {
          "output_type": "stream",
          "text": [
            "number of words in pre-trained set:  20725\n",
            "number of words in train/test/dev set:  21701\n",
            "number of words that are in both pre-trained and train/test/dev sets:  20723\n",
            "number of words from train/test/dev that are not in pre-trained set:  978\n"
          ],
          "name": "stdout"
        }
      ]
    },
    {
      "cell_type": "markdown",
      "metadata": {
        "id": "BfEd38W0NnAI",
        "colab_type": "text"
      },
      "source": [
        "#### Exercise: train Deep CBOW with (fixed) pre-trained embeddings\n",
        "\n",
        "Now train Deep CBOW again using the pre-trained word vectors.\n"
      ]
    },
    {
      "cell_type": "code",
      "metadata": {
        "id": "z_6ooqgEsB20",
        "colab_type": "code",
        "colab": {}
      },
      "source": [
        "# We define a dummy class so that we save the model to a different file.\n",
        "class PTDeepCBOW(DeepCBOW):\n",
        "  def _init_(self, vocab_size, embedding_dim, vocab):\n",
        "    super(PTDeepCBOW, self)._init_(vocab_size, embedding_dim, vocab)"
      ],
      "execution_count": 0,
      "outputs": []
    },
    {
      "cell_type": "code",
      "metadata": {
        "id": "JfIh4Ni6yuAh",
        "colab_type": "code",
        "outputId": "f1fc6b0f-b290-40a2-e5bf-384d5425a8ea",
        "colab": {
          "base_uri": "https://localhost:8080/",
          "height": 578
        }
      },
      "source": [
        "test_accuracies = []\n",
        "PDCBOW_test_predictions = []\n",
        "\n",
        "for seed in range(3):\n",
        "  print(\"\\nSEED {}\\n\".format(seed+1))\n",
        "  PDCBOW_model = PTDeepCBOW(len(v.w2i), embedding_dim=300, vocab=v)\n",
        "  # copy pre-trained word vectors into embeddings table\n",
        "  PDCBOW_model.embed.weight.data.copy_(torch.from_numpy(vectors))\n",
        "  # disable training the pre-trained embeddings\n",
        "  PDCBOW_model.embed.weight.requires_grad = False\n",
        "  # move model to specified device\n",
        "  PDCBOW_model = PDCBOW_model.to(device)\n",
        "  # train the model\n",
        "  optimizer = optim.Adam(PDCBOW_model.parameters(), lr=0.0005)\n",
        "  \n",
        "  PDCBOW_losses, PDCBOW_accuracies, test_predictions, \\\n",
        "    PDCBOW_lengths_accuracies, test_accuracy, PDCBOW_iterations = train_model(\n",
        "      PDCBOW_model, optimizer, num_iterations=50000, \n",
        "      print_every=100, eval_every=100)\n",
        "  test_accuracies.append(test_accuracy)\n",
        "  PDCBOW_test_predictions += test_predictions\n",
        "\n",
        "PDCBOW_test_accuracy_mean = statistics.mean(test_accuracies)\n",
        "PDCBOW_test_accuracy_sd = statistics.stdev(test_accuracies)"
      ],
      "execution_count": 0,
      "outputs": [
        {
          "output_type": "stream",
          "text": [
            "\n",
            "SEED 1\n",
            "\n",
            "iter 10000: dev acc=0.4169\n",
            "iter 20000: dev acc=0.4233\n",
            "iter 30000: dev acc=0.4296\n",
            "iter 40000: dev acc=0.4105\n",
            "iter 50000: dev acc=0.4096\n",
            "Done training\n",
            "Loading best model\n",
            "best model iter 37100: train acc=0.4895, dev acc=0.4569, test acc=0.4448\n",
            "\n",
            "SEED 2\n",
            "\n",
            "iter 10000: dev acc=0.4078\n",
            "iter 20000: dev acc=0.4042\n",
            "iter 30000: dev acc=0.4223\n",
            "iter 40000: dev acc=0.4260\n",
            "iter 50000: dev acc=0.4233\n",
            "Done training\n",
            "Loading best model\n",
            "best model iter 47600: train acc=0.5040, dev acc=0.4569, test acc=0.4416\n",
            "\n",
            "SEED 3\n",
            "\n",
            "iter 10000: dev acc=0.3751\n",
            "iter 20000: dev acc=0.4169\n",
            "iter 30000: dev acc=0.3851\n",
            "iter 40000: dev acc=0.4387\n",
            "iter 50000: dev acc=0.4260\n",
            "Done training\n",
            "Loading best model\n",
            "best model iter 49600: train acc=0.4973, dev acc=0.4514, test acc=0.4462\n"
          ],
          "name": "stdout"
        }
      ]
    },
    {
      "cell_type": "code",
      "metadata": {
        "id": "oWqQsNefi0f6",
        "colab_type": "code",
        "colab": {}
      },
      "source": [
        "np.save(\"PDCBOW_losses\", PDCBOW_losses)\n",
        "np.save(\"PDCBOW_accuracies\", PDCBOW_accuracies)\n",
        "np.save(\"PDCBOW_iterations\", PDCBOW_iterations)\n",
        "np.save(\"PDCBOW_test_accuracy_mean\", PDCBOW_test_accuracy_mean)\n",
        "np.save(\"PDCBOW_test_accuracy_sd\", PDCBOW_test_accuracy_sd)\n",
        "np.save(\"PDCBOW_test_predictions\", PDCBOW_test_predictions)\n",
        "np.save(\"PDCBOW_lengths_accuracies\", PDCBOW_lengths_accuracies)"
      ],
      "execution_count": 0,
      "outputs": []
    },
    {
      "cell_type": "markdown",
      "metadata": {
        "id": "yFu8xzCy9XDW",
        "colab_type": "text"
      },
      "source": [
        "**It looks like we've hit what is possible with just using words.**\n",
        "Let's move on by incorporating word order!"
      ]
    },
    {
      "cell_type": "markdown",
      "metadata": {
        "id": "g41yW4PL9jG0",
        "colab_type": "text"
      },
      "source": [
        "# LSTM"
      ]
    },
    {
      "cell_type": "markdown",
      "metadata": {
        "id": "ODzXEH0MaGpa",
        "colab_type": "text"
      },
      "source": [
        "It is time to get more serious. Even with pre-trained word embeddings and multiple layers, we seem to do pretty badly at sentiment classification here. \n",
        "The next step we can take is to introduce word order again, and to get a representation of the sentence as a whole, without independence assumptions.\n",
        "\n",
        "We will get this representation using an **Long Short-Term Memory** (LSTM). As an exercise, we will code our own LSTM cell, so that we get comfortable with its inner workings.\n",
        "Once we have an LSTM cell, we can call it repeatedly, updating its hidden state one word at a time:\n",
        "\n",
        "```python\n",
        "rnn = MyLSTMCell(input_size, hidden_size)\n",
        "\n",
        "hx = torch.zeros(1, hidden_size)  # initial state\n",
        "cx = torch.zeros(1, hidden_size)  # initial memory cell\n",
        "output = []                       # to save intermediate LSTM states\n",
        "\n",
        "# feed one word at a time\n",
        "for i in range(n_timesteps):\n",
        "  hx, cx = rnn(input[i], (hx, cx))\n",
        "  output.append(hx)\n",
        "```\n",
        "\n",
        "If you need some more help understanding LSTMs, then check out these resources:\n",
        "- Blog post (highly recommended): http://colah.github.io/posts/2015-08-Understanding-LSTMs/\n",
        "- Paper covering LSTM formulas in detail: https://arxiv.org/abs/1503.04069 \n",
        "\n",
        "#### Exercise: Finish the LSTM cell below. \n",
        "You will need to implement the LSTM formulas:\n",
        "\n",
        "$$\n",
        "\\begin{array}{ll}\n",
        "        i = \\sigma(W_{ii} x + b_{ii} + W_{hi} h + b_{hi}) \\\\\n",
        "        f = \\sigma(W_{if} x + b_{if} + W_{hf} h + b_{hf}) \\\\\n",
        "        g = \\tanh(W_{ig} x + b_{ig} + W_{hg} h + b_{hg}) \\\\\n",
        "        o = \\sigma(W_{io} x + b_{io} + W_{ho} h + b_{ho}) \\\\\n",
        "        c' = f * c + i * g \\\\\n",
        "        h' = o \\tanh(c') \\\\\n",
        "\\end{array}\n",
        " $$\n",
        "\n",
        "where $\\sigma$ is the sigmoid function.\n",
        "\n",
        "*Note that the LSTM formulas can differ slightly between different papers. We use the PyTorch LSTM formulation here.*"
      ]
    },
    {
      "cell_type": "code",
      "metadata": {
        "id": "zJ9m5kLMd7-v",
        "colab_type": "code",
        "colab": {}
      },
      "source": [
        "class MyLSTMCell(nn.Module):\n",
        "  \"\"\"Our own LSTM cell\"\"\"\n",
        "\n",
        "  def __init__(self, input_size, hidden_size, bias=True):\n",
        "    \"\"\"Creates the weights for this LSTM\"\"\"\n",
        "    super(MyLSTMCell, self).__init__()\n",
        "\n",
        "    self.input_size = input_size\n",
        "    self.hidden_size = hidden_size\n",
        "    self.bias = bias\n",
        "    self.tanh = nn.Tanh()\n",
        "    self.sigmoid = nn.Sigmoid()\n",
        "\n",
        "    # I\n",
        "    self.W_ix = torch.nn.Parameter(torch.empty(input_size, hidden_size))\n",
        "    torch.nn.init.xavier_normal_(self.W_ix)\n",
        "    self.W_ih = torch.nn.Parameter(torch.empty(hidden_size, hidden_size))\n",
        "    torch.nn.init.xavier_normal_(self.W_ih)\n",
        "    self.b_i = torch.nn.Parameter(torch.zeros(hidden_size))\n",
        "\n",
        "    # F\n",
        "    self.W_fx = torch.nn.Parameter(torch.empty(input_size, hidden_size))\n",
        "    torch.nn.init.xavier_normal_(self.W_fx)\n",
        "    self.W_fh = torch.nn.Parameter(torch.empty(hidden_size, hidden_size))\n",
        "    torch.nn.init.xavier_normal_(self.W_fh)\n",
        "    self.b_f = torch.nn.Parameter(torch.zeros(hidden_size))\n",
        "\n",
        "    # G\n",
        "    self.W_gx = torch.nn.Parameter(torch.empty(input_size, hidden_size))\n",
        "    torch.nn.init.xavier_normal(self.W_gx)\n",
        "    self.W_gh = torch.nn.Parameter(torch.empty(hidden_size, hidden_size))\n",
        "    torch.nn.init.xavier_normal_(self.W_gh)\n",
        "    self.b_g = torch.nn.Parameter(torch.zeros(hidden_size))\n",
        "\n",
        "    # O\n",
        "    self.W_ox = torch.nn.Parameter(torch.empty(input_size, hidden_size))\n",
        "    torch.nn.init.xavier_normal_(self.W_ox)\n",
        "    self.W_oh = torch.nn.Parameter(torch.empty(hidden_size, hidden_size))\n",
        "    torch.nn.init.xavier_normal_(self.W_oh)\n",
        "    self.b_o = torch.nn.Parameter(torch.zeros(hidden_size))\n",
        "\n",
        "    self.reset_parameters()\n",
        "\n",
        "  def reset_parameters(self):\n",
        "    \"\"\"This is PyTorch's default initialization method\"\"\"\n",
        "    stdv = 1.0 / math.sqrt(self.hidden_size)\n",
        "    for weight in self.parameters():\n",
        "      weight.data.uniform_(-stdv, stdv)  \n",
        "\n",
        "  def forward(self, input_, hx, mask=None):\n",
        "    \"\"\"\n",
        "    input is (batch, input_size)\n",
        "    hx is ((batch, hidden_size), (batch, hidden_size))\n",
        "    \"\"\"\n",
        "    prev_h, prev_c = hx\n",
        "\n",
        "    # project input and prev state\n",
        "    # main LSTM computation    \n",
        "\n",
        "    i = self.sigmoid(torch.mm(input_, self.W_ix) + torch.mm(prev_h, self.W_ih) + self.b_i)\n",
        "    f = self.sigmoid(torch.mm(input_, self.W_fx) + torch.mm(prev_h, self.W_fh) + self.b_f)\n",
        "    g = self.tanh(torch.mm(input_, self.W_gx) + torch.mm(prev_h, self.W_gh) + self.b_g)\n",
        "    o = self.sigmoid(torch.mm(input_, self.W_ox) + torch.mm(prev_h, self.W_oh) + self.b_o)\n",
        "    \n",
        "    c = g*i + prev_c*f\n",
        "    h = self.tanh(c) * o\n",
        "\n",
        "    return h, c\n",
        "  \n",
        "  def __repr__(self):\n",
        "    return \"{}({:d}, {:d})\".format(\n",
        "        self.__class__.__name__, self.input_size, self.hidden_size)"
      ],
      "execution_count": 0,
      "outputs": []
    },
    {
      "cell_type": "markdown",
      "metadata": {
        "id": "4JM7xPhkQeE5",
        "colab_type": "text"
      },
      "source": [
        "#### Optional: Efficient Matrix Multiplication\n",
        "\n",
        "It is more efficient to do a few big matrix multiplications than to do many smaller ones.\n",
        "\n",
        "It is possible to implement the above cell using just **two** linear layers.\n",
        "\n",
        "This is because the eight linear transformations from one forward pass through an LSTM cell can be done in just two:\n",
        "$$W_h h + b_h$$\n",
        "$$W_i x + b_i $$ \n",
        "\n",
        "with $h = $ `prev_h` and $x = $ `input_`.\n",
        "\n",
        "and where: \n",
        "\n",
        "$W_h =  \\begin{pmatrix}\n",
        "W_{hi}\\\\ \n",
        "W_{hf}\\\\ \n",
        "W_{hg}\\\\ \n",
        "W_{ho}\n",
        "\\end{pmatrix}$, $b_h = \\begin{pmatrix}\n",
        "b_{hi}\\\\ \n",
        "b_{hf}\\\\ \n",
        "b_{hg}\\\\ \n",
        "b_{ho}\n",
        "\\end{pmatrix}$,  $W_i = \\begin{pmatrix}\n",
        "W_{ii}\\\\ \n",
        "W_{if}\\\\ \n",
        "W_{ig}\\\\ \n",
        "W_{io}\n",
        "\\end{pmatrix}$ and $b_i = \\begin{pmatrix}\n",
        "b_{ii}\\\\ \n",
        "b_{if}\\\\ \n",
        "b_{ig}\\\\ \n",
        "b_{io}\n",
        "\\end{pmatrix}$.\n",
        "\n",
        "Convince yourself that, after chunking with [torch.chunk](https://pytorch.org/docs/stable/torch.html?highlight=chunk#torch.chunk), the output of those two linear transformations is equivalent to the output of the eight linear transformations in the LSTM cell calculations above."
      ]
    },
    {
      "cell_type": "markdown",
      "metadata": {
        "id": "X9gA-UcqSBe0",
        "colab_type": "text"
      },
      "source": [
        "#### LSTM Classifier\n",
        "\n",
        "Having an LSTM cell is not enough: we still need some code that calls it repeatedly, and then makes a prediction from the final hidden state. \n",
        "You will find that code below. Make sure that you understand it."
      ]
    },
    {
      "cell_type": "code",
      "metadata": {
        "id": "3iuYZm5poEn5",
        "colab_type": "code",
        "colab": {}
      },
      "source": [
        "class LSTMClassifier(nn.Module):\n",
        "  \"\"\"Encodes sentence with an LSTM and projects final hidden state\"\"\"\n",
        "\n",
        "  def __init__(self, vocab_size, embedding_dim, hidden_dim, output_dim, vocab):\n",
        "    super(LSTMClassifier, self).__init__()\n",
        "    self.vocab = vocab\n",
        "    self.hidden_dim = hidden_dim\n",
        "    self.embed = nn.Embedding(vocab_size, embedding_dim, padding_idx=1)\n",
        "    self.rnn = MyLSTMCell(embedding_dim, hidden_dim)\n",
        "    \n",
        "    self.output_layer = nn.Sequential(     \n",
        "        nn.Dropout(p=0.5),  # explained later\n",
        "        nn.Linear(hidden_dim, output_dim))\n",
        "\n",
        "  def forward(self, x):\n",
        "    \n",
        "    B = x.size(0)  # batch size (this is 1 for now, i.e. 1 single example)\n",
        "    T = x.size(1)  # time (the number of words in the sentence)\n",
        "    \n",
        "    input_ = self.embed(x)\n",
        "\n",
        "    # here we create initial hidden states containing zeros\n",
        "    # we use a trick here so that, if input is on the GPU, then so are hx and cx\n",
        "    hx = input_.new_zeros(B, self.rnn.hidden_size)\n",
        "    cx = input_.new_zeros(B, self.rnn.hidden_size)\n",
        "    \n",
        "    # process input sentences one word/timestep at a time\n",
        "    # input is batch-major, so the first word(s) is/are input_[:, 0]\n",
        "    outputs = []   \n",
        "    for i in range(T):\n",
        "      hx, cx = self.rnn(input_[:, i], (hx, cx))\n",
        "      outputs.append(hx)\n",
        "    \n",
        "    # if we have a single example, our final LSTM state is the last hx\n",
        "    if B == 1:\n",
        "      final = hx\n",
        "    else:\n",
        "      #\n",
        "      # This part is explained in next section, ignore this else-block for now.\n",
        "      #\n",
        "      # we processed sentences with different lengths, so some of the sentences\n",
        "      # had already finished and we have been adding padding inputs to hx\n",
        "      # we select the final state based on the length of each sentence\n",
        "      \n",
        "      # two lines below not needed if using LSTM form pytorch\n",
        "      outputs = torch.stack(outputs, dim=0)          # [T, B, D]\n",
        "      outputs = outputs.transpose(0, 1).contiguous()  # [B, T, D]\n",
        "      \n",
        "      # to be super-sure we're not accidentally indexing the wrong state\n",
        "      # we zero out positions that are invalid\n",
        "      pad_positions = (x == 1).unsqueeze(-1)\n",
        "      \n",
        "      outputs = outputs.contiguous()      \n",
        "      outputs = outputs.masked_fill_(pad_positions, 0.)\n",
        "        \n",
        "      mask = (x != 1)  # true for valid positions [B, T]\n",
        "      lengths = mask.sum(dim=1)                  # [B, 1]\n",
        "\n",
        "      indexes = (lengths - 1) + torch.arange(B, device=x.device, dtype=x.dtype) * T\n",
        "      final = outputs.view(-1, self.hidden_dim)[indexes]  # [B, D]\n",
        "    \n",
        "    # we use the last hidden state to classify the sentence\n",
        "    logits = self.output_layer(final)\n",
        "    return logits"
      ],
      "execution_count": 0,
      "outputs": []
    },
    {
      "cell_type": "markdown",
      "metadata": {
        "id": "FxFoVpvMPB6g",
        "colab_type": "text"
      },
      "source": [
        "#### Dropout\n",
        "\n",
        "Besides not being able to learn meaningful word embeddings, there is another negative effect that can follow from data sparsity and a small data set: *overfitting*. This is a phenomenom that is very likely to occur when fitting strong and expressive models, like LSTMs, to small data. In practice, if your model overfits, this means that it will be very good at predicting (or: 'remembering') the sentiment of the training set, but unable to generalize to new, unseen data in the test set. This is undesirable and one technique to mitigate it is *dropout*. \n",
        "\n",
        "A dropout layer is defined by the following formula: $\\mathbf{d} \\in \\{0, 1\\}^n$, with $d_j \\sim \\text{Bernoulli}(p)$, and can be applied to for example a linear layer:\n",
        "\n",
        "$$\\text{tanh}(W(\\mathbf{h}\\odot \\mathbf{d}) + \\mathbf{b})$$\n",
        "\n",
        "\n",
        "These formulas simply mean that we *drop* certain parameters during training (by setting them to zero). Which parameters we drop is stochastically determined by a Bernoulli distribution and the probability of each parameter being dropped is set to $p = 0.5$ in our experiments (see the previous cell of code where we define our output layer). A dropout layer can be applied at many different places in our models. This technique helps against the undesirable effect where our model relies on single parameters for  prediction (e.g. if $h^{\\prime}_j$ is large, always predict positive). If we use dropout, the model needs to learn to rely on different parameters, which is desirable when generalizing to unseen data."
      ]
    },
    {
      "cell_type": "markdown",
      "metadata": {
        "id": "XQjEjLt9z0XW",
        "colab_type": "text"
      },
      "source": [
        "**Let's train our LSTM! ** Note that is will be a lot slower, because we need to do many more computations per sentence!\n",
        "\n",
        "#### Training"
      ]
    },
    {
      "cell_type": "code",
      "metadata": {
        "id": "LgZoSPD4fsf_",
        "colab_type": "code",
        "outputId": "ea328fa1-f7f6-43ad-e2f6-92a75ba152e6",
        "colab": {
          "base_uri": "https://localhost:8080/",
          "height": 411
        }
      },
      "source": [
        "test_accuracies = []\n",
        "LSTM_test_predictions = []\n",
        "\n",
        "for seed in range(3):\n",
        "  print(\"\\nSEED {}\\n\".format(seed+1))\n",
        "  LSTM_model = LSTMClassifier(len(v.w2i), 300, 168, len(t2i), v)\n",
        "  # copy pre-trained word vectors into embeddings table\n",
        "  with torch.no_grad():\n",
        "    LSTM_model.embed.weight.data.copy_(torch.from_numpy(vectors))\n",
        "    LSTM_model.embed.weight.requires_grad = False\n",
        "  LSTM_model = LSTM_model.to(device)\n",
        "  optimizer = optim.Adam(LSTM_model.parameters(), lr=3e-4)\n",
        "  \n",
        "  LSTM_losses, LSTM_accuracies, test_predictions, LSTM_lengths_accuracies, \\\n",
        "    test_accuracy, LSTM_iterations = train_model(\n",
        "      LSTM_model, optimizer, num_iterations=10000, \n",
        "      print_every=500, eval_every=500)\n",
        "  test_accuracies.append(test_accuracy)\n",
        "  LSTM_test_predictions += test_predictions\n",
        "\n",
        "LSTM_test_accuracy_mean = statistics.mean(test_accuracies)\n",
        "LSTM_test_accuracy_sd = statistics.stdev(test_accuracies)"
      ],
      "execution_count": 85,
      "outputs": [
        {
          "output_type": "stream",
          "text": [
            "\n",
            "SEED 1\n",
            "\n"
          ],
          "name": "stdout"
        },
        {
          "output_type": "stream",
          "text": [
            "/usr/local/lib/python3.6/dist-packages/ipykernel_launcher.py:30: UserWarning: nn.init.xavier_normal is now deprecated in favor of nn.init.xavier_normal_.\n"
          ],
          "name": "stderr"
        },
        {
          "output_type": "stream",
          "text": [
            "iter 10000: dev acc=0.4160\n",
            "Done training\n",
            "Loading best model\n",
            "best model iter 7000: train acc=0.4444, dev acc=0.4196, test acc=0.4140\n",
            "\n",
            "SEED 2\n",
            "\n",
            "iter 10000: dev acc=0.4078\n",
            "Done training\n",
            "Loading best model\n",
            "best model iter 9000: train acc=0.4522, dev acc=0.4305, test acc=0.4376\n",
            "\n",
            "SEED 3\n",
            "\n",
            "iter 10000: dev acc=0.4042\n",
            "Done training\n",
            "Loading best model\n",
            "best model iter 8500: train acc=0.4552, dev acc=0.4233, test acc=0.4385\n"
          ],
          "name": "stdout"
        }
      ]
    },
    {
      "cell_type": "code",
      "metadata": {
        "id": "pkMLNtnwjAJH",
        "colab_type": "code",
        "colab": {}
      },
      "source": [
        "np.save(\"LSTM_losses\", LSTM_losses)\n",
        "np.save(\"LSTM_accuracies\", LSTM_accuracies)\n",
        "np.save(\"LSTM_iterations\", LSTM_iterations)\n",
        "np.save(\"LSTM_test_accuracy_mean\", LSTM_test_accuracy_mean)\n",
        "np.save(\"LSTM_test_accuracy_sd\", LSTM_test_accuracy_sd)\n",
        "np.save(\"LSTM_test_predictions\", LSTM_test_predictions)\n",
        "np.save(\"LSTM_lengths_accuracies\", LSTM_lengths_accuracies)"
      ],
      "execution_count": 0,
      "outputs": []
    },
    {
      "cell_type": "markdown",
      "metadata": {
        "id": "YEw6XHQY_AAQ",
        "colab_type": "text"
      },
      "source": [
        "# Mini-batching\n",
        "\n"
      ]
    },
    {
      "cell_type": "markdown",
      "metadata": {
        "id": "FPf96wGzBTQJ",
        "colab_type": "text"
      },
      "source": [
        "**Why is the LSTM so slow?** Despite our best efforts, we still need to make a lot of matrix multiplications per example (linear in the length of the example) just to get a single classification, and we can only process the 2nd word once we have computed the hidden state for the 1st word (sequential computation).\n",
        "\n",
        "GPUs are more efficient if we do a few big matrix multiplications, rather than lots of small ones. If we could process multiple examples at the same time, then we could exploit that. We still process the input sequentially, but now we can do so for multiple sentences at the same time.\n",
        "\n",
        "Up to now our \"minibatch\" consisted of a single example. This was for a reason: the sentences in our data sets have **different lengths**, and this makes it difficult to process them at the same time.\n",
        "\n",
        "Consider a batch of 2 sentences:\n",
        "\n",
        "```\n",
        "this movie is bad\n",
        "this movie is super cool !\n",
        "```\n",
        "\n",
        "Let's say the IDs for these sentences are:\n",
        "\n",
        "```\n",
        "2 3 4 5\n",
        "2 3 4 6 7 8\n",
        "```\n",
        "\n",
        "We cannot feed PyTorch an object with variable length rows! We need to turn this into a matrix.\n",
        "\n",
        "The solution is to add **padding values** to our mini-batch:\n",
        "\n",
        "```\n",
        "2 3 4 5 1 1\n",
        "2 3 4 6 7 8\n",
        "```\n",
        "\n",
        "Whenever a sentence is shorter than the longest sentence in a mini-batch, we just use a padding value (here: 1) to fill the matrix.\n",
        "\n",
        "In our computation, we should **ignore** the padding positions (e.g. mask them out). Paddings should not contribute to the loss.\n",
        "\n",
        "#### Mini-batch feed\n",
        "We will now code a `get_minibatch` function that will replace our `get_example` function, and returns a mini-batch of the requested size."
      ]
    },
    {
      "cell_type": "code",
      "metadata": {
        "id": "IoAE2JBiXJ3P",
        "colab_type": "code",
        "colab": {}
      },
      "source": [
        "def get_minibatch(data, batch_size=16, shuffle=True):\n",
        "  \"\"\"Return minibatches, optional shuffling\"\"\"\n",
        "  \n",
        "  if shuffle:\n",
        "    random.shuffle(data)  # shuffle training data each epoch\n",
        "  \n",
        "  batch = []\n",
        "  \n",
        "  # yield minibatches\n",
        "  for example in data:\n",
        "    batch.append(example)\n",
        "    \n",
        "    if len(batch) == batch_size:\n",
        "      yield batch\n",
        "      batch = []\n",
        "      \n",
        "  # in case there is something left\n",
        "  if len(batch) > 0:\n",
        "    yield batch"
      ],
      "execution_count": 0,
      "outputs": []
    },
    {
      "cell_type": "markdown",
      "metadata": {
        "id": "DwZM-XYkT8Zx",
        "colab_type": "text"
      },
      "source": [
        "#### Pad function\n",
        "We will need a function that adds padding 1s to a sequence of IDs so that\n",
        "it becomes as long as the longest sequencen in the minibatch."
      ]
    },
    {
      "cell_type": "code",
      "metadata": {
        "id": "sp0sK1ghw4Ft",
        "colab_type": "code",
        "outputId": "44e4398d-63f0-44af-bd2d-6441caad17a7",
        "colab": {
          "base_uri": "https://localhost:8080/",
          "height": 34
        }
      },
      "source": [
        "def pad(tokens, length, pad_value=1):\n",
        "  \"\"\"add padding 1s to a sequence to that it has the desired length\"\"\"\n",
        "  return tokens + [pad_value] * (length - len(tokens))\n",
        "\n",
        "# example\n",
        "tokens = [2, 3, 4]\n",
        "pad(tokens, 5)"
      ],
      "execution_count": 41,
      "outputs": [
        {
          "output_type": "execute_result",
          "data": {
            "text/plain": [
              "[2, 3, 4, 1, 1]"
            ]
          },
          "metadata": {
            "tags": []
          },
          "execution_count": 41
        }
      ]
    },
    {
      "cell_type": "markdown",
      "metadata": {
        "id": "SL2iixMYUgfh",
        "colab_type": "text"
      },
      "source": [
        "#### New prepare function\n",
        "\n",
        "We will also need a new function that turns a mini-batch into PyTorch tensors."
      ]
    },
    {
      "cell_type": "code",
      "metadata": {
        "id": "ZID0cqozWks8",
        "colab_type": "code",
        "colab": {}
      },
      "source": [
        "def prepare_minibatch(mb, vocab):\n",
        "  \"\"\"\n",
        "  Minibatch is a list of examples.\n",
        "  This function converts words to IDs and returns\n",
        "  torch tensors to be used as input/targets.\n",
        "  \"\"\"\n",
        "  batch_size = len(mb)\n",
        "  maxlen = max([len(ex.tokens) for ex in mb])\n",
        "  \n",
        "  # vocab returns 0 if the word is not there\n",
        "  x = [pad([vocab.w2i.get(t, 0) for t in ex.tokens], maxlen) for ex in mb]\n",
        "  \n",
        "  x = torch.LongTensor(x)\n",
        "  x = x.to(device)\n",
        "  \n",
        "  y = [ex.label for ex in mb]\n",
        "  y = torch.LongTensor(y)\n",
        "  y = y.to(device)\n",
        "  \n",
        "  return x, y"
      ],
      "execution_count": 0,
      "outputs": []
    },
    {
      "cell_type": "code",
      "metadata": {
        "id": "OwDAtCv1x2hB",
        "colab_type": "code",
        "outputId": "bf548253-fed5-4c1e-89bd-a114046c314b",
        "colab": {
          "base_uri": "https://localhost:8080/",
          "height": 88
        }
      },
      "source": [
        "# Let's test our new function.\n",
        "# This should give us 3 examples.\n",
        "mb = next(get_minibatch(train_data, batch_size=3, shuffle=False))\n",
        "for ex in mb:\n",
        "  print(ex)"
      ],
      "execution_count": 43,
      "outputs": [
        {
          "output_type": "stream",
          "text": [
            "Example(tokens=['The', 'Rock', 'is', 'destined', 'to', 'be', 'the', '21st', 'Century', \"'s\", 'new', '``', 'Conan', \"''\", 'and', 'that', 'he', \"'s\", 'going', 'to', 'make', 'a', 'splash', 'even', 'greater', 'than', 'Arnold', 'Schwarzenegger', ',', 'Jean-Claud', 'Van', 'Damme', 'or', 'Steven', 'Segal', '.'], tree=Tree('3', [Tree('2', [Tree('2', ['The']), Tree('2', ['Rock'])]), Tree('4', [Tree('3', [Tree('2', ['is']), Tree('4', [Tree('2', ['destined']), Tree('2', [Tree('2', [Tree('2', [Tree('2', [Tree('2', ['to']), Tree('2', [Tree('2', ['be']), Tree('2', [Tree('2', ['the']), Tree('2', [Tree('2', ['21st']), Tree('2', [Tree('2', [Tree('2', ['Century']), Tree('2', [\"'s\"])]), Tree('2', [Tree('3', ['new']), Tree('2', [Tree('2', ['``']), Tree('2', ['Conan'])])])])])])])]), Tree('2', [\"''\"])]), Tree('2', ['and'])]), Tree('3', [Tree('2', ['that']), Tree('3', [Tree('2', ['he']), Tree('3', [Tree('2', [\"'s\"]), Tree('3', [Tree('2', ['going']), Tree('3', [Tree('2', ['to']), Tree('4', [Tree('3', [Tree('2', ['make']), Tree('3', [Tree('3', [Tree('2', ['a']), Tree('3', ['splash'])]), Tree('2', [Tree('2', ['even']), Tree('3', ['greater'])])])]), Tree('2', [Tree('2', ['than']), Tree('2', [Tree('2', [Tree('2', [Tree('2', [Tree('1', [Tree('2', ['Arnold']), Tree('2', ['Schwarzenegger'])]), Tree('2', [','])]), Tree('2', [Tree('2', ['Jean-Claud']), Tree('2', [Tree('2', ['Van']), Tree('2', ['Damme'])])])]), Tree('2', ['or'])]), Tree('2', [Tree('2', ['Steven']), Tree('2', ['Segal'])])])])])])])])])])])])]), Tree('2', ['.'])])]), label=3, transitions=[0, 0, 1, 0, 0, 0, 0, 0, 0, 0, 0, 1, 0, 0, 0, 1, 1, 1, 1, 1, 1, 1, 0, 1, 0, 1, 0, 0, 0, 0, 0, 0, 0, 0, 1, 0, 0, 1, 1, 1, 0, 0, 0, 1, 0, 1, 0, 0, 0, 1, 1, 1, 0, 1, 0, 0, 1, 1, 1, 1, 1, 1, 1, 1, 1, 1, 1, 1, 0, 1, 1])\n",
            "Example(tokens=['The', 'gorgeously', 'elaborate', 'continuation', 'of', '``', 'The', 'Lord', 'of', 'the', 'Rings', \"''\", 'trilogy', 'is', 'so', 'huge', 'that', 'a', 'column', 'of', 'words', 'can', 'not', 'adequately', 'describe', 'co-writer/director', 'Peter', 'Jackson', \"'s\", 'expanded', 'vision', 'of', 'J.R.R.', 'Tolkien', \"'s\", 'Middle-earth', '.'], tree=Tree('4', [Tree('4', [Tree('4', [Tree('2', ['The']), Tree('4', [Tree('3', ['gorgeously']), Tree('3', [Tree('2', ['elaborate']), Tree('2', ['continuation'])])])]), Tree('2', [Tree('2', [Tree('2', ['of']), Tree('2', ['``'])]), Tree('2', [Tree('2', ['The']), Tree('2', [Tree('2', [Tree('2', ['Lord']), Tree('2', [Tree('2', ['of']), Tree('2', [Tree('2', ['the']), Tree('2', ['Rings'])])])]), Tree('2', [Tree('2', [\"''\"]), Tree('2', ['trilogy'])])])])])]), Tree('2', [Tree('3', [Tree('2', [Tree('2', ['is']), Tree('2', [Tree('2', ['so']), Tree('2', ['huge'])])]), Tree('2', [Tree('2', ['that']), Tree('3', [Tree('2', [Tree('2', [Tree('2', ['a']), Tree('2', ['column'])]), Tree('2', [Tree('2', ['of']), Tree('2', ['words'])])]), Tree('2', [Tree('2', [Tree('2', [Tree('2', ['can']), Tree('1', ['not'])]), Tree('3', ['adequately'])]), Tree('2', [Tree('2', ['describe']), Tree('2', [Tree('3', [Tree('2', [Tree('2', ['co-writer/director']), Tree('2', [Tree('2', ['Peter']), Tree('3', [Tree('2', ['Jackson']), Tree('2', [\"'s\"])])])]), Tree('3', [Tree('2', ['expanded']), Tree('2', ['vision'])])]), Tree('2', [Tree('2', ['of']), Tree('2', [Tree('2', [Tree('2', ['J.R.R.']), Tree('2', [Tree('2', ['Tolkien']), Tree('2', [\"'s\"])])]), Tree('2', ['Middle-earth'])])])])])])])])]), Tree('2', ['.'])])]), label=4, transitions=[0, 0, 0, 0, 1, 1, 1, 0, 0, 1, 0, 0, 0, 0, 0, 1, 1, 1, 0, 0, 1, 1, 1, 1, 1, 0, 0, 0, 1, 1, 0, 0, 0, 1, 0, 0, 1, 1, 0, 0, 1, 0, 1, 0, 0, 0, 0, 0, 1, 1, 1, 0, 0, 1, 1, 0, 0, 0, 0, 1, 1, 0, 1, 1, 1, 1, 1, 1, 1, 1, 0, 1, 1])\n",
            "Example(tokens=['Singer/composer', 'Bryan', 'Adams', 'contributes', 'a', 'slew', 'of', 'songs', '--', 'a', 'few', 'potential', 'hits', ',', 'a', 'few', 'more', 'simply', 'intrusive', 'to', 'the', 'story', '--', 'but', 'the', 'whole', 'package', 'certainly', 'captures', 'the', 'intended', ',', 'er', ',', 'spirit', 'of', 'the', 'piece', '.'], tree=Tree('3', [Tree('3', [Tree('2', [Tree('2', [Tree('2', [Tree('2', [Tree('2', ['Singer/composer']), Tree('2', [Tree('2', ['Bryan']), Tree('2', ['Adams'])])]), Tree('2', [Tree('2', ['contributes']), Tree('2', [Tree('2', [Tree('2', ['a']), Tree('2', ['slew'])]), Tree('2', [Tree('2', ['of']), Tree('2', ['songs'])])])])]), Tree('2', [Tree('2', ['--']), Tree('2', [Tree('2', [Tree('2', [Tree('2', ['a']), Tree('2', [Tree('2', ['few']), Tree('3', ['potential'])])]), Tree('2', [Tree('2', [Tree('2', ['hits']), Tree('2', [','])]), Tree('2', [Tree('2', [Tree('2', ['a']), Tree('2', ['few'])]), Tree('1', [Tree('1', [Tree('2', ['more']), Tree('1', [Tree('2', ['simply']), Tree('2', ['intrusive'])])]), Tree('2', [Tree('2', ['to']), Tree('2', [Tree('2', ['the']), Tree('2', ['story'])])])])])])]), Tree('2', ['--'])])])]), Tree('2', ['but'])]), Tree('3', [Tree('4', [Tree('2', ['the']), Tree('3', [Tree('2', ['whole']), Tree('2', ['package'])])]), Tree('2', [Tree('3', ['certainly']), Tree('3', [Tree('2', ['captures']), Tree('2', [Tree('1', [Tree('2', ['the']), Tree('2', [Tree('2', [Tree('2', ['intended']), Tree('2', [Tree('2', [',']), Tree('2', [Tree('2', ['er']), Tree('2', [','])])])]), Tree('3', ['spirit'])])]), Tree('2', [Tree('2', ['of']), Tree('2', [Tree('2', ['the']), Tree('2', ['piece'])])])])])])])]), Tree('2', ['.'])]), label=3, transitions=[0, 0, 0, 1, 1, 0, 0, 0, 1, 0, 0, 1, 1, 1, 1, 0, 0, 0, 0, 1, 1, 0, 0, 1, 0, 0, 1, 0, 0, 0, 1, 1, 0, 0, 0, 1, 1, 1, 1, 1, 1, 0, 1, 1, 1, 0, 1, 0, 0, 0, 1, 1, 0, 0, 0, 0, 0, 0, 0, 1, 1, 1, 0, 1, 1, 0, 0, 0, 1, 1, 1, 1, 1, 1, 1, 0, 1])\n"
          ],
          "name": "stdout"
        }
      ]
    },
    {
      "cell_type": "code",
      "metadata": {
        "id": "dg8zEK8zyUCH",
        "colab_type": "code",
        "colab": {
          "base_uri": "https://localhost:8080/",
          "height": 255
        },
        "outputId": "c37ae1b4-3e43-493d-be01-f114a950e4d7"
      },
      "source": [
        "# We should find 1s at the end where padding is.\n",
        "x, y = prepare_minibatch(mb, v)\n",
        "print(\"x\", x)\n",
        "print(\"y\", y)"
      ],
      "execution_count": 44,
      "outputs": [
        {
          "output_type": "stream",
          "text": [
            "x tensor([[   23,  1414,    11,  8222,     6,    27,     4,  2826,  3764,    21,\n",
            "            92,  5233,  8558, 15010,     5,    16,    53,    21,   183,     6,\n",
            "           107,     8,  7409,   148,  1552,    97,  6000, 10464,     2,     0,\n",
            "          2740, 15451,    33,  4008, 12925,     3,     1,     1,     1],\n",
            "        [   23, 15300,  6665,  8307,     7,  5233,    23,  1383,     7,     4,\n",
            "          4884, 15010,  8681,    11,    59,   933,    16,     8,  3045,     7,\n",
            "           566,    42,    36,  7800,  2886, 20302,  1433,  1977,    21,  4360,\n",
            "          2274,     7, 15256, 10099,    21, 15561,     3,     1,     1],\n",
            "        [    0,  5314,  3878,  7735,     8,  9726,     7,  1261,   158,     8,\n",
            "           219,  1060,  2187,     2,     8,   219,    50,   688, 11605,     6,\n",
            "             4,   414,   158,    43,     4,   494,  1568,  1214,  6985,     4,\n",
            "          2243,     2,  5986,     2,  2320,     7,     4,   982,     3]],\n",
            "       device='cuda:0')\n",
            "y tensor([3, 4, 3], device='cuda:0')\n"
          ],
          "name": "stdout"
        }
      ]
    },
    {
      "cell_type": "markdown",
      "metadata": {
        "id": "xYBJEoSNUwI0",
        "colab_type": "text"
      },
      "source": [
        "#### Evaluate (mini-batch version)\n",
        "\n",
        "We can now update our evaluation function to use minibatches"
      ]
    },
    {
      "cell_type": "code",
      "metadata": {
        "id": "eiZZpEghzqou",
        "colab_type": "code",
        "colab": {}
      },
      "source": [
        "def evaluate(model, data, per_length,\n",
        "             batch_fn=get_minibatch, prep_fn=prepare_minibatch,\n",
        "             batch_size=32):\n",
        "  \"\"\"Accuracy of a model on given data set (using minibatches)\"\"\"\n",
        "  correct = 0\n",
        "  total = 0\n",
        "  model.eval()  # disable dropout\n",
        "  lengths_correct = defaultdict(int)\n",
        "  lengths_total = defaultdict(int)\n",
        "  lengths_accuracies = []\n",
        "\n",
        "  for mb in batch_fn(data, batch_size=batch_size, shuffle=False):\n",
        "    # convert the example input and label to PyTorch tensors\n",
        "    x, targets = prep_fn(mb, model.vocab)\n",
        "    # forward pass\n",
        "    with torch.no_grad():\n",
        "      logits = model(x)\n",
        "      \n",
        "    predictions = logits.argmax(dim=-1).view(-1)\n",
        "    \n",
        "    # Compute accuracies\n",
        "    correct += (predictions == targets.view(-1)).sum().item()\n",
        "    total += targets.size(0)\n",
        "\n",
        "    if per_length == True:\n",
        "      for example in mb:\n",
        "        lengths_total[len(example.tokens)] += 1\n",
        "        if ((predictions == targets.view(-1))[0]).item() == True:\n",
        "          lengths_correct[len(example.tokens)] += 1\n",
        "  \n",
        "  if per_length == True:\n",
        "    for l in range(max(lengths_total, key=int)):\n",
        "      if lengths_total[l] > 0:\n",
        "        lengths_accuracies.append(lengths_correct[l]/lengths_total[l])\n",
        "      else: \n",
        "        lengths_accuracies.append(np.nan)\n",
        "\n",
        "  return correct, total, correct / float(total), lengths_accuracies"
      ],
      "execution_count": 0,
      "outputs": []
    },
    {
      "cell_type": "markdown",
      "metadata": {
        "id": "23wAZomozh_2",
        "colab_type": "text"
      },
      "source": [
        "# LSTM (Mini-batched)"
      ]
    },
    {
      "cell_type": "markdown",
      "metadata": {
        "id": "B-gkPU7jzBe2",
        "colab_type": "text"
      },
      "source": [
        "With this, let's run the LSTM again but now using minibatches!"
      ]
    },
    {
      "cell_type": "code",
      "metadata": {
        "id": "226Xg9OPzFbA",
        "colab_type": "code",
        "colab": {
          "base_uri": "https://localhost:8080/",
          "height": 411
        },
        "outputId": "73a2219a-71b5-4076-80a3-cf512f5181a8"
      },
      "source": [
        "test_accuracies = []\n",
        "MLSTM_test_predictions = []\n",
        "\n",
        "for seed in range(3):\n",
        "  print(\"\\nSEED {}\\n\".format(seed+1))\n",
        "  LSTM_model = LSTMClassifier(\n",
        "      len(v.w2i), 300, 168, len(t2i), v)\n",
        "  # copy pre-trained vectors into embeddings table\n",
        "  with torch.no_grad():\n",
        "    LSTM_model.embed.weight.data.copy_(torch.from_numpy(vectors))\n",
        "    LSTM_model.embed.weight.requires_grad = False\n",
        "  LSTM_model = LSTM_model.to(device)\n",
        "  batch_size = 16\n",
        "  optimizer = optim.Adam(LSTM_model.parameters(), lr=2e-4)\n",
        "  \n",
        "  MLSTM_losses, MLSTM_accuracies, test_predictions, MLSTM_lengths_accuracies, \\\n",
        "    test_accuracy, MLSTM_iterations = train_model(\n",
        "      LSTM_model, optimizer, num_iterations=10000, \n",
        "      print_every=500, eval_every=500,\n",
        "      batch_size=batch_size,\n",
        "      batch_fn=get_minibatch, \n",
        "      prep_fn=prepare_minibatch,\n",
        "      eval_fn=evaluate)\n",
        "  test_accuracies.append(test_accuracy)\n",
        "  MLSTM_test_predictions += test_predictions\n",
        "\n",
        "MLSTM_test_accuracy_mean = statistics.mean(test_accuracies)\n",
        "MLSTM_test_accuracy_sd = statistics.stdev(test_accuracies)"
      ],
      "execution_count": 81,
      "outputs": [
        {
          "output_type": "stream",
          "text": [
            "\n",
            "SEED 1\n",
            "\n"
          ],
          "name": "stdout"
        },
        {
          "output_type": "stream",
          "text": [
            "/usr/local/lib/python3.6/dist-packages/ipykernel_launcher.py:30: UserWarning: nn.init.xavier_normal is now deprecated in favor of nn.init.xavier_normal_.\n"
          ],
          "name": "stderr"
        },
        {
          "output_type": "stream",
          "text": [
            "iter 10000: dev acc=0.4378\n",
            "Done training\n",
            "Loading best model\n",
            "best model iter 6000: train acc=0.5995, dev acc=0.4668, test acc=0.4661\n",
            "\n",
            "SEED 2\n",
            "\n",
            "iter 10000: dev acc=0.4369\n",
            "Done training\n",
            "Loading best model\n",
            "best model iter 7500: train acc=0.6483, dev acc=0.4596, test acc=0.4489\n",
            "\n",
            "SEED 3\n",
            "\n",
            "iter 10000: dev acc=0.4332\n",
            "Done training\n",
            "Loading best model\n",
            "best model iter 5000: train acc=0.5579, dev acc=0.4587, test acc=0.4765\n"
          ],
          "name": "stdout"
        }
      ]
    },
    {
      "cell_type": "code",
      "metadata": {
        "id": "RRyXyT9OjQ6-",
        "colab_type": "code",
        "colab": {}
      },
      "source": [
        "np.save(\"MLSTM_losses\", MLSTM_losses)\n",
        "np.save(\"MLSTM_accuracies\", MLSTM_accuracies)\n",
        "np.save(\"MLSTM_iterations\", MLSTM_iterations)\n",
        "np.save(\"MLSTM_test_accuracy_mean\", MLSTM_test_accuracy_mean)\n",
        "np.save(\"MLSTM_test_accuracy_sd\", MLSTM_test_accuracy_sd)\n",
        "np.save(\"MLSTM_test_predictions\", MLSTM_test_predictions)\n",
        "np.save(\"MLSTM_lengths_accuracies\", MLSTM_lengths_accuracies)"
      ],
      "execution_count": 0,
      "outputs": []
    },
    {
      "cell_type": "markdown",
      "metadata": {
        "id": "q7WjcxXntMi5",
        "colab_type": "text"
      },
      "source": [
        "# Tree LSTM"
      ]
    },
    {
      "cell_type": "markdown",
      "metadata": {
        "id": "jyj_UD6GtO5M",
        "colab_type": "text"
      },
      "source": [
        "In the final part of this lab we will exploit the tree-structure of our data. \n",
        "Until now we only used the surface tokens, but remember that our data examples include trees with a sentiment score at every node.\n",
        "\n",
        "In particular, we will implement **N-ary Tree-LSTMs** which are described in:\n",
        "\n",
        "> Kai Sheng Tai, Richard Socher, and Christopher D. Manning. [Improved Semantic Representations From Tree-Structured Long Short-Term Memory Networks](http://aclweb.org/anthology/P/P15/P15-1150.pdf) ACL 2015.\n",
        "\n",
        "Since our trees are binary, N=2, and we can refer to these as *Binary Tree-LSTMs*.\n",
        "\n",
        "You should read this paper carefully and make sure that you understand the approach. You will also find our LSTM baseline there.\n",
        "Note however that Tree LSTMs were also invented around the same time by two other groups:\n",
        "\n",
        "> Phong Le and Willem Zuidema. [Compositional distributional semantics with long short term memory](http://anthology.aclweb.org/S/S15/S15-1002.pdf). *SEM 2015.\n",
        "\n",
        "> Xiaodan Zhu, Parinaz Sobihani,  and Hongyu Guo. [Long short-term memory over recursive structures](http://proceedings.mlr.press/v37/zhub15.pdf). ICML 2015.\n",
        "\n",
        "It is good scientific practice to cite all three papers in your report.\n",
        "\n",
        "If you study equations (9) to (14) in the paper, you will find that they are not all too different from the original LSTM that you already have.\n",
        "\n",
        "\n"
      ]
    },
    {
      "cell_type": "markdown",
      "metadata": {
        "id": "1rDzvSos3JFp",
        "colab_type": "text"
      },
      "source": [
        "## Computation\n",
        "\n",
        "Do you remember the `transitions_from_treestring` function all the way in the beginning of this lab? Every example contains a **transition sequence** made by this function. Let's look at it again:\n",
        "\n"
      ]
    },
    {
      "cell_type": "code",
      "metadata": {
        "id": "5pg0Xumc3ZUS",
        "colab_type": "code",
        "colab": {
          "base_uri": "https://localhost:8080/",
          "height": 425
        },
        "outputId": "7562b464-6068-4adb-efc3-105d4a4aa9a5"
      },
      "source": [
        "ex = next(examplereader(\"trees/dev.txt\"))\n",
        "print(TreePrettyPrinter(ex.tree))\n",
        "print(\"Transitions:\")\n",
        "print(ex.transitions)"
      ],
      "execution_count": 46,
      "outputs": [
        {
          "output_type": "stream",
          "text": [
            "              3                                                                     \n",
            "  ____________|____________________                                                  \n",
            " |                                 4                                                \n",
            " |        _________________________|______________________________________________   \n",
            " |       4                                                                        | \n",
            " |    ___|______________                                                          |  \n",
            " |   |                  4                                                         | \n",
            " |   |         _________|__________                                               |  \n",
            " |   |        |                    3                                              | \n",
            " |   |        |               _____|______________________                        |  \n",
            " |   |        |              |                            4                       | \n",
            " |   |        |              |            ________________|_______                |  \n",
            " |   |        |              |           |                        2               | \n",
            " |   |        |              |           |                 _______|___            |  \n",
            " |   |        3              |           |                |           2           | \n",
            " |   |    ____|_____         |           |                |        ___|_____      |  \n",
            " |   |   |          4        |           3                |       2         |     | \n",
            " |   |   |     _____|___     |      _____|_______         |    ___|___      |     |  \n",
            " 2   2   2    3         2    2     3             2        2   2       2     2     2 \n",
            " |   |   |    |         |    |     |             |        |   |       |     |     |  \n",
            " It  's  a  lovely     film with lovely     performances  by Buy     and Accorsi  . \n",
            "\n",
            "Transitions:\n",
            "[0, 0, 0, 0, 0, 1, 1, 0, 0, 0, 1, 0, 0, 0, 1, 0, 1, 1, 1, 1, 1, 1, 0, 1, 1]\n"
          ],
          "name": "stdout"
        }
      ]
    },
    {
      "cell_type": "markdown",
      "metadata": {
        "id": "ceBFe9fU4BI_",
        "colab_type": "text"
      },
      "source": [
        "Note that the tree is **binary**. Every node has two children, except for pre-terminal nodes.\n",
        "\n",
        "A tree like this can be described by a sequence of **SHIFT (0)** and **REDUCE (1)** actions.\n",
        "\n",
        "We can use the transitions like this to construct the tree:\n",
        "- **reverse** the sentence (a list of tokens) and call this the **buffer**\n",
        "   - the first word is now on top (last in the list), and we would get it when calling pop() on the buffer\n",
        "- create an empty list and call it the **stack**\n",
        "- iterate through the transition sequence:\n",
        "  - if it says SHIFT(0), we pop a word from the buffer, and push it to the stack\n",
        "  - if it says REDUCE(1), we pop the **top two items** from the stack, and combine them (e.g. with a tree LSTM!), creating a new node that we push back on the stack\n",
        "  \n",
        "Convince yourself that going through the transition sequence above will result in the tree that you see.\n",
        "For example, we would start by putting the following words on the stack (by shifting 5 times, starting with `It`):\n",
        "\n",
        "```\n",
        "Top of the stack:\n",
        "-----------------\n",
        "film\n",
        "lovely\n",
        "a \n",
        "'s  \n",
        "It\n",
        "```\n",
        "Now we find a REDUCE in the transition sequence, so we get the top two words (film and lovely), and combine them, so our new stack becomes:\n",
        "```\n",
        "Top of the stack:\n",
        "-----------------\n",
        "lovely film\n",
        "a \n",
        "'s  \n",
        "It\n",
        "```\n",
        "\n",
        "We will use this approach when encoding sentences with our Tree LSTM.\n",
        "Now, our sentence is a (reversed) list of word embeddings.\n",
        "When we shift, we move a word embedding to the stack.\n",
        "When we reduce, we apply a Tree LSTM to the top two vectors, and the result is a single vector that we put back on the stack.\n",
        "After going through the whole transition sequence, we will have the root node on our stack! We can use that to classify the sentence.\n",
        "\n"
      ]
    },
    {
      "cell_type": "markdown",
      "metadata": {
        "id": "pDWKShm1AfmR",
        "colab_type": "text"
      },
      "source": [
        "## Obtaining the transition sequence\n"
      ]
    },
    {
      "cell_type": "markdown",
      "metadata": {
        "id": "fO7VKWVpAbWj",
        "colab_type": "text"
      },
      "source": [
        "\n",
        "So what goes on in the `transitions_from_treestring` function?\n",
        "\n",
        "The idea ([explained in this blog post](https://devblogs.nvidia.com/recursive-neural-networks-pytorch/)) is that, if we had a tree, we could traverse through the tree, and every time that we find a node containing only a word, we output a SHIFT.\n",
        "Every time **after** we have finished visiting the children of a node, we output a REDUCE.\n",
        "(What is this tree traversal called?)\n",
        "\n",
        "However, our `transitions_from_treestring` function operates directly on the string representation. It works as follows.\n",
        "\n",
        "We start with the representation:\n",
        "\n",
        "```\n",
        "(3 (2 It) (4 (4 (2 's) (4 (3 (2 a) (4 (3 lovely) (2 film))) (3 (2 with) (4 (3 (3 lovely) (2 performances)) (2 (2 by) (2 (2 (2 Buy) (2 and)) (2 Accorsi))))))) (2 .)))\n",
        "```\n",
        "\n",
        "First we remove pre-terminal nodes (and add spaces before closing brackets):\n",
        "\n",
        "```\n",
        "(3 It (4 (4 's (4 (3 a (4 lovely film ) ) (3 with (4 (3 lovely performances ) (2 by (2 (2 Buy and )  Accorsi ) ) ) ) ) ) . ) )\n",
        "```\n",
        "\n",
        "Then we remove node labels:\n",
        "\n",
        "```\n",
        "( It ( ( 's ( ( a ( lovely film ) ) ( with ( ( lovely performances) ( by ( ( Buy and )  Accorsi ) ) ) ) ) ) . ) )\n",
        "```\n",
        "\n",
        "Then we remove opening brackets:\n",
        "\n",
        "```\n",
        "It 's a lovely film ) ) with lovely performances ) by Buy and ) Accorsi ) ) ) ) ) ) . ) )\n",
        "```\n",
        "\n",
        "Now we replace words by S (for SHIFT), and closing brackets by R (for REDUCE):\n",
        "\n",
        "```\n",
        "S S S S S R R S S S R S S S R S R R R R R R S R R\n",
        "0 0 0 0 0 1 1 0 0 0 1 0 0 0 1 0 1 1 1 1 1 1 0 1 1 \n",
        "```\n",
        "\n",
        "Et voila. We just obtained the transition sequence!"
      ]
    },
    {
      "cell_type": "code",
      "metadata": {
        "id": "1y069gM4_v64",
        "colab_type": "code",
        "colab": {
          "base_uri": "https://localhost:8080/",
          "height": 51
        },
        "outputId": "7b7b4c6f-530f-4471-a729-14e8cc0aa429"
      },
      "source": [
        "# for comparison\n",
        "seq = ex.transitions\n",
        "s = \" \".join([\"S\" if t == 0 else \"R\" for t in seq])\n",
        "print(s)\n",
        "print(\" \".join(map(str, seq)))"
      ],
      "execution_count": 47,
      "outputs": [
        {
          "output_type": "stream",
          "text": [
            "S S S S S R R S S S R S S S R S R R R R R R S R R\n",
            "0 0 0 0 0 1 1 0 0 0 1 0 0 0 1 0 1 1 1 1 1 1 0 1 1\n"
          ],
          "name": "stdout"
        }
      ]
    },
    {
      "cell_type": "markdown",
      "metadata": {
        "id": "d-qOuKbDAiBn",
        "colab_type": "text"
      },
      "source": [
        "## Coding the Tree LSTM\n",
        "\n",
        "The code below contains a Binary Tree LSTM cell.\n",
        "It is used in the TreeLSTM class below it, which in turn is used in the TreeLSTMClassifier.\n",
        "The job of the TreeLSTM class is to encode a complete sentence and return the root node.\n",
        "The job of the TreeLSTMCell is to return a new state when provided with two children (a reduce action). By repeatedly calling the TreeLSTMCell, the TreeLSTM will encode a sentence. This can be done for multiple sentences at the same time.\n",
        "\n",
        "\n",
        "#### Exercise \n",
        "Check the `forward` function and complete the Tree LSTM formulas.\n",
        "You can see that we defined a large linear layer for you, that projects the *concatenation* of the left and right child into the input gate, left forget gate, right forget gate, candidate, and output gate."
      ]
    },
    {
      "cell_type": "code",
      "metadata": {
        "id": "J9b9mjMlN7Pb",
        "colab_type": "code",
        "colab": {}
      },
      "source": [
        "class TreeLSTMCell(nn.Module):\n",
        "  \"\"\"A Binary Tree LSTM cell\"\"\"\n",
        "\n",
        "  def __init__(self, input_size, hidden_size, bias=True):\n",
        "    \"\"\"Creates the weights for this LSTM\"\"\"\n",
        "    super(TreeLSTMCell, self).__init__()\n",
        "\n",
        "    self.input_size = input_size\n",
        "    self.hidden_size = hidden_size\n",
        "    self.bias = bias\n",
        "\n",
        "    self.reduce_layer = nn.Linear(2 * hidden_size, 5 * hidden_size)\n",
        "    self.dropout_layer = nn.Dropout(p=0.25)\n",
        "\n",
        "    self.reset_parameters()\n",
        "\n",
        "  def reset_parameters(self):\n",
        "    \"\"\"This is PyTorch's default initialization method\"\"\"\n",
        "    stdv = 1.0 / math.sqrt(self.hidden_size)\n",
        "    for weight in self.parameters():\n",
        "      weight.data.uniform_(-stdv, stdv)  \n",
        "\n",
        "  def forward(self, hx_l, hx_r, mask=None):\n",
        "    \"\"\"\n",
        "    hx_l is ((batch, hidden_size), (batch, hidden_size))\n",
        "    hx_r is ((batch, hidden_size), (batch, hidden_size))    \n",
        "    \"\"\"\n",
        "    prev_h_l, prev_c_l = hx_l  # left child\n",
        "    prev_h_r, prev_c_r = hx_r  # right child\n",
        "\n",
        "    B = prev_h_l.size(0)\n",
        "\n",
        "    # we concatenate the left and right children\n",
        "    # you can also project from them separately and then sum\n",
        "    children = torch.cat([prev_h_l, prev_h_r], dim=1)\n",
        "    \n",
        "    # project the combined children into a 5D tensor for i,fl,fr,g,o\n",
        "    # this is done for speed, and you could also do it separately\n",
        "    proj = self.reduce_layer(children)  # shape: B x 5D\n",
        "\n",
        "    # each shape: B x D\n",
        "    i, f_l, f_r, g, o = torch.chunk(proj, 5, dim=-1)\n",
        "\n",
        "    # main Tree LSTM computation\n",
        "  \n",
        "    # The shape of each of these is [batch_size, hidden_size]\n",
        "\n",
        "    i = i.sigmoid()\n",
        "    f_l = f_l.sigmoid ()\n",
        "    f_r = f_r.sigmoid()\n",
        "    g = g.tanh()\n",
        "    o = o.sigmoid()\n",
        "\n",
        "    c = i*g + f_l*prev_c_l + f_r*prev_c_r\n",
        "    h = o*c.tanh()\n",
        "\n",
        "    return h, c\n",
        "  \n",
        "  def __repr__(self):\n",
        "    return \"{}({:d}, {:d})\".format(\n",
        "        self.__class__.__name__, self.input_size, self.hidden_size)"
      ],
      "execution_count": 0,
      "outputs": []
    },
    {
      "cell_type": "markdown",
      "metadata": {
        "id": "Dj5dYSGh_643",
        "colab_type": "text"
      },
      "source": [
        "## Explanation of the TreeLSTM class\n",
        "\n",
        "\n",
        "The code below contains the TreeLSTM class, which implements everything we need in order to encode a sentence from word embeddings. The calculations are the same as in the paper, implemented such that the class `TreeLSTMCell` above is as general as possible and only takes two children to reduce them into a parent. \n",
        "\n",
        "\n",
        "**Initialize $\\mathbf{h}$ and $\\mathbf{c}$ outside of the cell for the leaves**\n",
        "\n",
        "At the leaves of each tree the children nodes are **empty**, whereas in higher levels the nodes are binary tree nodes that *do* have a left and right child (but no input $x$). By initializing the leaf nodes outside of the cell class (`TreeLSTMCell`), we avoid if-else statements in the forward pass.\n",
        "\n",
        "The `TreeLSTM` class (among other things) pre-calculates an initial $h$ and $c$ for every word in the sentence. Since the initial left and right child are 0, the only calculations we need to do are based on $x$, and we can drop the forget gate calculation (`prev_c_l` and `prev_c_r` are zero). The calculations we do in order to initalize $h$ and $c$ are then:\n",
        "\n",
        "$$\n",
        "c_1 =  W^{(u)}x_1 \\\\\n",
        "o_1 = \\sigma (W^{(i)}x_1) \\\\\n",
        "h_1 = o_1 \\odot \\text{tanh}(c_1)$$\n",
        "*NB: note that these equations are chosen as initializations of $c$ and $h$, other initializations are possible and might work equally well.*\n",
        "\n",
        "**Sentence Representations**\n",
        "\n",
        "All our leaf nodes are now initialized, so we can start processing the sentence in its tree form. Each sentence is represented by a buffer (initially a list with a concatenation of $[h_1, c_1]$ for every word in the reversed sentence), a stack (initially an empty list) and a transition sequence. To encode our sentence, we construct the tree from its transition sequence as explained earlier. \n",
        "\n",
        "*A short example that constructs a tree:*\n",
        "\n",
        "We loop over the time dimension of the batched transition sequences (i.e. row by row), which contain values of 0's, 1's and 2's (representing SHIFT, REDUCE and padding respectively). If we have a batch of size 2 where the first example has a transition sequence given by [0, 0, 1, 0, 0, 0, 1] and the second by [0, 0, 1, 0, 0, 1], our transition batch will be given by the following two-dimensional numpy array:\n",
        "\n",
        "$$\n",
        "\\text{transitions} = \n",
        "\\begin{pmatrix}\n",
        "0 & 0\\\\ \n",
        "0 & 0\\\\ \n",
        "1 & 1\\\\ \n",
        "0 & 0\\\\ \n",
        "0 & 0\\\\ \n",
        "0 & 1\\\\ \n",
        "1 & 2\n",
        "\\end{pmatrix}\n",
        "$$\n",
        "The inner loop (`for transition, buffer, stack in zip(t_batch, buffers, stacks)`) goes over each example in the batch and updates its buffer and stack. The nested loop for this example will then do roughy the following:\n",
        "\n",
        "```\n",
        "Time = 0:  t_batch = [0, 0], the inner loop performs 2 SHIFTs. \n",
        "\n",
        "Time = 1:  t_batch = [0, 0], \"..\"\n",
        "\n",
        "Time = 2:  t_batch = [1, 1], causing the inner loop to fill the list child_l and child_r for both examples in the batch. Now the statement if child_l will return True, triggering a REDUCE action to be performed by our Tree LSTM cell with a batch size of 2. \n",
        "\n",
        "Time = 3:  t_batch = [0, 0], \"..\".\n",
        "\n",
        "Time = 4:  t_batch = [0, 0], \"..\"\n",
        "\n",
        "Time = 5:  t_batch = [0, 1], one SHIFT will be done and another REDUCE action will be performed by our Tree LSTM, this time of batch size 1.  \n",
        "\n",
        "Time = 6:  t_batch = [1, 2], triggering another REDUCE action with batch size 1.\n",
        "```\n",
        "*NB: note that this was an artificial example for the purpose of demonstrating parts of the code, the transition sequences do not necessarily represent actual trees.*\n",
        "\n",
        "**Batching and Unbatching**\n",
        "\n",
        "Within the body of the outer loop over time, we use the functions for batching and unbatching. \n",
        "\n",
        "*Batching*\n",
        "\n",
        "Before passing two lists of children to the reduce layer (an instance of `TreeLSTMCell`), we batch the children as they are at this point a list of tensors of variable length based on how many REDUCE actions there are to perform at a certain time step across the batch (let's call the length `L`). To do an efficient forward pass we want to transform the list to a pair of tensors of shape `([L, D], [L, D])`, which the function `batch` achieves. \n",
        "\n",
        "*Unbatching*\n",
        "\n",
        "In the same line where we batched the children, we unbatch the output of the forward pass to become a list of states of length `L` again. We do this because we need to loop over each example's transition at the current time step and push the children that are reduced into a parent to the stack.\n",
        "\n",
        "*The batch and unbatch functions let us switch between the \"PyTorch world\" (Tensors) and the Python world (easy to manipulate lists).*\n"
      ]
    },
    {
      "cell_type": "code",
      "metadata": {
        "id": "5PixvTd4AqsQ",
        "colab_type": "code",
        "colab": {}
      },
      "source": [
        "# Helper functions for batching and unbatching states\n",
        "# For speed we want to combine computations by batching, but \n",
        "# for processing logic we want to turn the output into lists again\n",
        "# to easily manipulate.\n",
        "\n",
        "def batch(states):\n",
        "  \"\"\"\n",
        "  Turns a list of states into a single tensor for fast processing. \n",
        "  This function also chunks (splits) each state into a (h, c) pair\"\"\"\n",
        "  return torch.cat(states, 0).chunk(2, 1)\n",
        "\n",
        "def unbatch(state):\n",
        "  \"\"\"\n",
        "  Turns a tensor back into a list of states.\n",
        "  First, (h, c) are merged into a single state.\n",
        "  Then the result is split into a list of sentences.\n",
        "  \"\"\"\n",
        "  return torch.split(torch.cat(state, 1), 1, 0)"
      ],
      "execution_count": 0,
      "outputs": []
    },
    {
      "cell_type": "markdown",
      "metadata": {
        "id": "CynltDasaLPt",
        "colab_type": "text"
      },
      "source": [
        "Take some time to understand the class below, having read the explanation above."
      ]
    },
    {
      "cell_type": "code",
      "metadata": {
        "id": "rQOqMXG4gX5G",
        "colab_type": "code",
        "colab": {}
      },
      "source": [
        "class TreeLSTM(nn.Module):\n",
        "  \"\"\"Encodes a sentence using a TreeLSTMCell\"\"\"\n",
        "\n",
        "  def __init__(self, input_size, hidden_size, bias=True):\n",
        "    \"\"\"Creates the weights for this LSTM\"\"\"\n",
        "    super(TreeLSTM, self).__init__()\n",
        "\n",
        "    self.input_size = input_size\n",
        "    self.hidden_size = hidden_size\n",
        "    self.bias = bias\n",
        "    self.reduce = TreeLSTMCell(input_size, hidden_size)\n",
        "\n",
        "    # project word to initial c\n",
        "    self.proj_x = nn.Linear(input_size, hidden_size)\n",
        "    self.proj_x_gate = nn.Linear(input_size, hidden_size)\n",
        "    \n",
        "    self.buffers_dropout = nn.Dropout(p=0.5)\n",
        "\n",
        "  def forward(self, x, transitions):\n",
        "    \"\"\"\n",
        "    WARNING: assuming x is reversed!\n",
        "    :param x: word embeddings [B, T, E]\n",
        "    :param transitions: [2T-1, B]\n",
        "    :return: root states\n",
        "    \"\"\"\n",
        "\n",
        "    B = x.size(0)  # batch size\n",
        "    T = x.size(1)  # time\n",
        "\n",
        "    # compute an initial c and h for each word\n",
        "    # Note: this corresponds to input x in the Tai et al. Tree LSTM paper.\n",
        "    # We do not handle input x in the TreeLSTMCell itself.\n",
        "    buffers_c = self.proj_x(x)\n",
        "    buffers_h = buffers_c.tanh()\n",
        "    buffers_h_gate = self.proj_x_gate(x).sigmoid()\n",
        "    buffers_h = buffers_h_gate * buffers_h\n",
        "    \n",
        "    # concatenate h and c for each word\n",
        "    buffers = torch.cat([buffers_h, buffers_c], dim=-1)\n",
        "\n",
        "    D = buffers.size(-1) // 2\n",
        "\n",
        "    # we turn buffers into a list of stacks (1 stack for each sentence)\n",
        "    # first we split buffers so that it is a list of sentences (length B)\n",
        "    # then we split each sentence to be a list of word vectors\n",
        "    buffers = buffers.split(1, dim=0)  # Bx[T, 2D]\n",
        "    buffers = [list(b.squeeze(0).split(1, dim=0)) for b in buffers]  # BxTx[2D]\n",
        "\n",
        "    # create B empty stacks\n",
        "    stacks = [[] for _ in buffers]\n",
        "\n",
        "    # t_batch holds 1 transition for each sentence\n",
        "    for t_batch in transitions:\n",
        "\n",
        "      child_l = []  # contains the left child for each sentence with reduce action\n",
        "      child_r = []  # contains the corresponding right child\n",
        "\n",
        "      # iterate over sentences in the batch\n",
        "      # each has a transition t, a buffer and a stack\n",
        "      for transition, buffer, stack in zip(t_batch, buffers, stacks):\n",
        "        if transition == SHIFT:\n",
        "          stack.append(buffer.pop())\n",
        "        elif transition == REDUCE:\n",
        "          assert len(stack) >= 2, \\\n",
        "            \"Stack too small! Should not happen with valid transition sequences\"\n",
        "          child_r.append(stack.pop())  # right child is on top\n",
        "          child_l.append(stack.pop())\n",
        "\n",
        "      # if there are sentences with reduce transition, perform them batched\n",
        "      if child_l:\n",
        "        reduced = iter(unbatch(self.reduce(batch(child_l), batch(child_r))))\n",
        "        for transition, stack in zip(t_batch, stacks):\n",
        "          if transition == REDUCE:\n",
        "            stack.append(next(reduced))\n",
        "\n",
        "    final = [stack.pop().chunk(2, -1)[0] for stack in stacks]\n",
        "    final = torch.cat(final, dim=0)  # tensor [B, D]\n",
        "\n",
        "    return final"
      ],
      "execution_count": 0,
      "outputs": []
    },
    {
      "cell_type": "markdown",
      "metadata": {
        "id": "s4EzbVzqaXkw",
        "colab_type": "text"
      },
      "source": [
        "Just like the LSTM before, we will need an extra class that does the classifications."
      ]
    },
    {
      "cell_type": "code",
      "metadata": {
        "id": "nLxpYRvtQKge",
        "colab_type": "code",
        "colab": {}
      },
      "source": [
        "class TreeLSTMClassifier(nn.Module):\n",
        "  \"\"\"Encodes sentence with a TreeLSTM and projects final hidden state\"\"\"\n",
        "\n",
        "  def __init__(self, vocab_size, embedding_dim, hidden_dim, output_dim, vocab):\n",
        "    super(TreeLSTMClassifier, self).__init__()\n",
        "    self.vocab = vocab\n",
        "    self.hidden_dim = hidden_dim\n",
        "    self.embed = nn.Embedding(vocab_size, embedding_dim, padding_idx=1)\n",
        "    self.treelstm = TreeLSTM(embedding_dim, hidden_dim)\n",
        "    self.output_layer = nn.Sequential(     \n",
        "        nn.Dropout(p=0.5),\n",
        "        nn.Linear(hidden_dim, output_dim, bias=True))\n",
        "\n",
        "  def forward(self, x):\n",
        "    # x is a pair here of words and transitions; we unpack it here.\n",
        "    # x is batch-major: [B, T], transitions is time major [2T-1, B]\n",
        "    x, transitions = x\n",
        "    emb = self.embed(x)\n",
        "    \n",
        "    # we use the root/top state of the Tree LSTM to classify the sentence\n",
        "    root_states = self.treelstm(emb, transitions)\n",
        "\n",
        "    # we use the last hidden state to classify the sentence\n",
        "    logits = self.output_layer(root_states)\n",
        "    return logits"
      ],
      "execution_count": 0,
      "outputs": []
    },
    {
      "cell_type": "markdown",
      "metadata": {
        "id": "gh9RbhGwaiLg",
        "colab_type": "text"
      },
      "source": [
        "## Special prepare function for Tree LSTM\n",
        "\n",
        "We need yet another prepare function. For our implementation our sentences to be *reversed*. We will do that here."
      ]
    },
    {
      "cell_type": "code",
      "metadata": {
        "id": "DiqH-_2xdm9H",
        "colab_type": "code",
        "colab": {}
      },
      "source": [
        "def prepare_treelstm_minibatch(mb, vocab):\n",
        "  \"\"\"\n",
        "  Returns sentences reversed (last word first)\n",
        "  Returns transitions together with the sentences.  \n",
        "  \"\"\"\n",
        "  batch_size = len(mb)\n",
        "  maxlen = max([len(ex.tokens) for ex in mb])\n",
        "    \n",
        "  # vocab returns 0 if the word is not there\n",
        "  # NOTE: reversed sequence!\n",
        "  x = [pad([vocab.w2i.get(t, 0) for t in ex.tokens], maxlen)[::-1] for ex in mb]\n",
        "  \n",
        "  x = torch.LongTensor(x)\n",
        "  x = x.to(device)\n",
        "  \n",
        "  y = [ex.label for ex in mb]\n",
        "  y = torch.LongTensor(y)\n",
        "  y = y.to(device)\n",
        "  \n",
        "  maxlen_t = max([len(ex.transitions) for ex in mb])\n",
        "  transitions = [pad(ex.transitions, maxlen_t, pad_value=2) for ex in mb]\n",
        "  transitions = np.array(transitions)\n",
        "  transitions = transitions.T  # time-major\n",
        "  \n",
        "  return (x, transitions), y"
      ],
      "execution_count": 0,
      "outputs": []
    },
    {
      "cell_type": "markdown",
      "metadata": {
        "id": "IMUsrlL9ayVe",
        "colab_type": "text"
      },
      "source": [
        "## Training"
      ]
    },
    {
      "cell_type": "code",
      "metadata": {
        "id": "IpOYUdg2D3v0",
        "colab_type": "code",
        "colab": {
          "base_uri": "https://localhost:8080/",
          "height": 374
        },
        "outputId": "d7aad8ef-8fe6-4473-8e11-c84d9de42ccd"
      },
      "source": [
        "def do_train(model):\n",
        "  model = model.to(device)\n",
        "  optimizer = optim.Adam(model.parameters(), lr=2e-4)\n",
        "\n",
        "  return train_model(\n",
        "      model, optimizer, num_iterations=10000, \n",
        "      print_every=500, eval_every=500,\n",
        "      prep_fn=prepare_treelstm_minibatch,\n",
        "      eval_fn=evaluate,\n",
        "      batch_fn=get_minibatch,\n",
        "      batch_size=16, eval_batch_size=16)\n",
        "\n",
        "test_accuracies = []\n",
        "TLSTM_test_predictions = []\n",
        "\n",
        "for seed in range(3):\n",
        "  print(\"\\nSEED {}\\n\".format(seed+1))\n",
        "  TLSTM = TreeLSTMClassifier(\n",
        "      len(v.w2i), 300, 150, len(t2i), v)\n",
        "  with torch.no_grad():\n",
        "    TLSTM.embed.weight.data.copy_(torch.from_numpy(vectors))\n",
        "    TLSTM.embed.weight.requires_grad = False\n",
        "\n",
        "  results = do_train(TLSTM)\n",
        "  TLSTM_losses, TLSTM_accuracies, test_predictions, TLSTM_lengths_accuracies, \\\n",
        "    test_accuracy, TLSTM_iterations = results\n",
        "  test_accuracies.append(test_accuracy)\n",
        "  TLSTM_test_predictions += test_predictions\n",
        "\n",
        "TLSTM_test_accuracy_mean = statistics.mean(test_accuracies)\n",
        "TLSTM_test_accuracy_sd = statistics.stdev(test_accuracies)"
      ],
      "execution_count": 80,
      "outputs": [
        {
          "output_type": "stream",
          "text": [
            "\n",
            "SEED 1\n",
            "\n",
            "iter 10000: dev acc=0.4178\n",
            "Done training\n",
            "Loading best model\n",
            "best model iter 7000: train acc=0.6101, dev acc=0.4659, test acc=0.4742\n",
            "\n",
            "SEED 2\n",
            "\n",
            "iter 10000: dev acc=0.4378\n",
            "Done training\n",
            "Loading best model\n",
            "best model iter 6500: train acc=0.6014, dev acc=0.4705, test acc=0.4769\n",
            "\n",
            "SEED 3\n",
            "\n",
            "iter 10000: dev acc=0.4260\n",
            "Done training\n",
            "Loading best model\n",
            "best model iter 5000: train acc=0.5641, dev acc=0.4678, test acc=0.4805\n"
          ],
          "name": "stdout"
        }
      ]
    },
    {
      "cell_type": "code",
      "metadata": {
        "id": "28N3udTbjeGF",
        "colab_type": "code",
        "colab": {}
      },
      "source": [
        "np.save(\"TLSTM_losses\", TLSTM_losses)\n",
        "np.save(\"TLSTM_accuracies\", TLSTM_accuracies)\n",
        "np.save(\"TLSTM_iterations\", TLSTM_iterations)\n",
        "np.save(\"TLSTM_test_accuracy_mean\", TLSTM_test_accuracy_mean)\n",
        "np.save(\"TLSTM_test_accuracy_sd\", TLSTM_test_accuracy_sd)\n",
        "np.save(\"TLSTM_test_predictions\", TLSTM_test_predictions)\n",
        "np.save(\"TLSTM_lengths_accuracies\", TLSTM_lengths_accuracies)"
      ],
      "execution_count": 0,
      "outputs": []
    },
    {
      "cell_type": "markdown",
      "metadata": {
        "id": "pSoEUDYefTKr",
        "colab_type": "text"
      },
      "source": [
        "# SubTree LSTM"
      ]
    },
    {
      "cell_type": "code",
      "metadata": {
        "id": "It6nW2lRgeIL",
        "colab_type": "code",
        "colab": {
          "base_uri": "https://localhost:8080/",
          "height": 374
        },
        "outputId": "bf9cb2ea-98f2-4535-f182-1c1c8cb74835"
      },
      "source": [
        "def do_train(model):\n",
        "  model = model.to(device)\n",
        "  optimizer = optim.Adam(model.parameters(), lr=2e-4)\n",
        "\n",
        "  return train_model_sub(\n",
        "      model, optimizer, num_iterations=10000, \n",
        "      print_every=500, eval_every=500,\n",
        "      prep_fn=prepare_treelstm_minibatch,\n",
        "      eval_fn=evaluate,\n",
        "      batch_fn=get_minibatch,\n",
        "      batch_size=16, eval_batch_size=16)\n",
        "\n",
        "test_accuracies = []\n",
        "STLSTM_test_predictions = []\n",
        "\n",
        "for seed in range(3):\n",
        "  print(\"\\nSEED {}\\n\".format(seed+1))\n",
        "  STLSTM = TreeLSTMClassifier(\n",
        "      len(v.w2i), 300, 150, len(t2i), v)\n",
        "  with torch.no_grad():\n",
        "    STLSTM.embed.weight.data.copy_(torch.from_numpy(vectors))\n",
        "    STLSTM.embed.weight.requires_grad = False\n",
        "\n",
        "  results = do_train(STLSTM)\n",
        "  STLSTM_losses, STLSTM_accuracies, test_predictions, \\\n",
        "    STLSTM_lengths_accuracies, test_accuracy, STLSTM_iterations = results\n",
        "  test_accuracies.append(test_accuracy)\n",
        "  STLSTM_test_predictions += test_predictions\n",
        "\n",
        "STLSTM_test_accuracy_mean = statistics.mean(test_accuracies)\n",
        "STLSTM_test_accuracy_sd = statistics.stdev(test_accuracies)"
      ],
      "execution_count": 54,
      "outputs": [
        {
          "output_type": "stream",
          "text": [
            "\n",
            "SEED 1\n",
            "\n",
            "iter 10000: dev acc=0.4523\n",
            "Done training\n",
            "Loading best model\n",
            "best model iter 8000: train acc=0.7616, dev acc=0.4650, test acc=0.4692\n",
            "\n",
            "SEED 2\n",
            "\n",
            "iter 10000: dev acc=0.4460\n",
            "Done training\n",
            "Loading best model\n",
            "best model iter 8000: train acc=0.7618, dev acc=0.4596, test acc=0.4656\n",
            "\n",
            "SEED 3\n",
            "\n",
            "iter 10000: dev acc=0.4369\n",
            "Done training\n",
            "Loading best model\n",
            "best model iter 6000: train acc=0.7556, dev acc=0.4505, test acc=0.4593\n"
          ],
          "name": "stdout"
        }
      ]
    },
    {
      "cell_type": "code",
      "metadata": {
        "id": "0Q6zSZedjtj5",
        "colab_type": "code",
        "colab": {}
      },
      "source": [
        "np.save(\"STLSTM_losses\", STLSTM_losses)\n",
        "np.save(\"STLSTM_accuracies\", STLSTM_accuracies)\n",
        "np.save(\"STLSTM_iterations\", STLSTM_iterations)\n",
        "np.save(\"STLSTM_test_accuracy_mean\", STLSTM_test_accuracy_mean)\n",
        "np.save(\"STLSTM_test_accuracy_sd\", STLSTM_test_accuracy_sd)\n",
        "np.save(\"STLSTM_test_predictions\", STLSTM_test_predictions)\n",
        "np.save(\"STLSTM_lengths_accuracies\", STLSTM_lengths_accuracies)"
      ],
      "execution_count": 0,
      "outputs": []
    },
    {
      "cell_type": "markdown",
      "metadata": {
        "id": "Oii65ptzcobU",
        "colab_type": "text"
      },
      "source": [
        "# Results"
      ]
    },
    {
      "cell_type": "markdown",
      "metadata": {
        "id": "PMuycGoM0SQS",
        "colab_type": "text"
      },
      "source": [
        "## Load"
      ]
    },
    {
      "cell_type": "code",
      "metadata": {
        "id": "v9cHxYc9j80O",
        "colab_type": "code",
        "colab": {}
      },
      "source": [
        "BOW_losses = np.load('BOW_losses.npy')\n",
        "BOW_accuracies = np.load('BOW_accuracies.npy')\n",
        "BOW_iterations = np.load('BOW_iterations.npy')\n",
        "BOW_test_accuracy_mean = np.load('BOW_test_accuracy_mean.npy')\n",
        "BOW_test_accuracy_sd = np.load('BOW_test_accuracy_sd.npy')\n",
        "BOW_test_predictions = np.load('BOW_test_predictions.npy')\n",
        "BOW_lengths_accuracies = np.load('BOW_lengths_accuracies.npy')\n",
        "\n",
        "CBOW_losses = np.load('CBOW_losses.npy')\n",
        "CBOW_accuracies = np.load('CBOW_accuracies.npy')\n",
        "CBOW_iterations = np.load('CBOW_iterations.npy')\n",
        "CBOW_test_accuracy_mean = np.load('CBOW_test_accuracy_mean.npy')\n",
        "CBOW_test_accuracy_sd = np.load('CBOW_test_accuracy_sd.npy')\n",
        "CBOW_test_predictions = np.load('CBOW_test_predictions.npy')\n",
        "CBOW_lengths_accuracies = np.load('CBOW_lengths_accuracies.npy')\n",
        "\n",
        "DCBOW_losses = np.load('DCBOW_losses.npy')\n",
        "DCBOW_accuracies = np.load('DCBOW_accuracies.npy')\n",
        "DCBOW_iterations = np.load('DCBOW_iterations.npy')\n",
        "DCBOW_test_accuracy_mean = np.load('DCBOW_test_accuracy_mean.npy')\n",
        "DCBOW_test_accuracy_sd = np.load('DCBOW_test_accuracy_sd.npy')\n",
        "DCBOW_test_predictions = np.load('DCBOW_test_predictions.npy')\n",
        "DCBOW_lengths_accuracies = np.load('DCBOW_lengths_accuracies.npy')\n",
        "\n",
        "PDCBOW_losses = np.load('PDCBOW_losses.npy')\n",
        "PDCBOW_accuracies = np.load('PDCBOW_accuracies.npy')\n",
        "PDCBOW_iterations = np.load('PDCBOW_iterations.npy')\n",
        "PDCBOW_test_accuracy_mean = np.load('PDCBOW_test_accuracy_mean.npy')\n",
        "PDCBOW_test_accuracy_sd = np.load('PDCBOW_test_accuracy_sd.npy')\n",
        "PDCBOW_test_predictions = np.load('PDCBOW_test_predictions.npy')\n",
        "PDCBOW_lengths_accuracies = np.load('PDCBOW_lengths_accuracies.npy')\n",
        "\n",
        "LSTM_losses = np.load('LSTM_losses.npy')\n",
        "LSTM_accuracies = np.load('LSTM_accuracies.npy')\n",
        "LSTM_iterations = np.load('LSTM_iterations.npy')\n",
        "LSTM_test_accuracy_mean = np.load('LSTM_test_accuracy_mean.npy')\n",
        "LSTM_test_accuracy_sd = np.load('LSTM_test_accuracy_sd.npy')\n",
        "LSTM_test_predictions = np.load('LSTM_test_predictions.npy')\n",
        "LSTM_lengths_accuracies = np.load('LSTM_lengths_accuracies.npy')\n",
        "\n",
        "MLSTM_losses = np.load('MLSTM_losses.npy')\n",
        "MLSTM_accuracies = np.load('MLSTM_accuracies.npy')\n",
        "MLSTM_iterations = np.load('MLSTM_iterations.npy')\n",
        "MLSTM_test_accuracy_mean = np.load('MLSTM_test_accuracy_mean.npy')\n",
        "MLSTM_test_accuracy_sd = np.load('MLSTM_test_accuracy_sd.npy')\n",
        "MLSTM_test_predictions = np.load('MLSTM_test_predictions.npy')\n",
        "MLSTM_lengths_accuracies = np.load('MLSTM_lengths_accuracies.npy')\n",
        "\n",
        "TLSTM_losses = np.load('TLSTM_losses.npy')\n",
        "TLSTM_accuracies = np.load('TLSTM_accuracies.npy')\n",
        "TLSTM_iterations = np.load('TLSTM_iterations.npy')\n",
        "TLSTM_test_accuracy_mean = np.load('TLSTM_test_accuracy_mean.npy')\n",
        "TLSTM_test_accuracy_sd = np.load('TLSTM_test_accuracy_sd.npy')\n",
        "TLSTM_test_predictions = np.load('TLSTM_test_predictions.npy')\n",
        "TLSTM_lengths_accuracies = np.load('TLSTM_lengths_accuracies.npy')\n",
        "\n",
        "\n",
        "STLSTM_losses = np.load('STLSTM_losses.npy')\n",
        "STLSTM_accuracies = np.load('STLSTM_accuracies.npy')\n",
        "STLSTM_iterations = np.load('STLSTM_iterations.npy')\n",
        "STLSTM_test_accuracy_mean = np.load('STLSTM_test_accuracy_mean.npy')\n",
        "STLSTM_test_accuracy_sd = np.load('STLSTM_test_accuracy_sd.npy')\n",
        "STLSTM_test_predictions = np.load('STLSTM_test_predictions.npy')\n",
        "STLSTM_lengths_accuracies = np.load('STLSTM_lengths_accuracies.npy')"
      ],
      "execution_count": 0,
      "outputs": []
    },
    {
      "cell_type": "markdown",
      "metadata": {
        "id": "jgVo3vQfjO5-",
        "colab_type": "text"
      },
      "source": [
        "## BOW models plot"
      ]
    },
    {
      "cell_type": "code",
      "metadata": {
        "id": "8ayLcpyxFWoL",
        "colab_type": "code",
        "outputId": "09783a03-4c98-4fae-96aa-080c01085f05",
        "colab": {
          "base_uri": "https://localhost:8080/",
          "height": 633
        }
      },
      "source": [
        "plt.rcParams[\"figure.figsize\"] = [10,10]\n",
        "\n",
        "plt.subplot(2, 1, 1)\n",
        "plt.plot(BOW_iterations, BOW_accuracies, label=\"BOW\")\n",
        "plt.plot(CBOW_iterations, CBOW_accuracies, label=\"CBOW\")\n",
        "plt.plot(DCBOW_iterations, DCBOW_accuracies, label=\"DCBOW\")\n",
        "plt.plot(PDCBOW_iterations, PDCBOW_accuracies, label=\"PDCBOW\")\n",
        "plt.ylabel('validation accuracy')\n",
        "plt.xlabel('iterations')\n",
        "\n",
        "plt.legend(loc='lower right', bbox_to_anchor=(0., 1.02, 1., .102), ncol=4)\n",
        "\n",
        "plt.subplot(2, 1, 2)\n",
        "plt.plot(BOW_iterations, BOW_losses, label=\"BOW\")\n",
        "plt.plot(CBOW_iterations, CBOW_losses, label=\"CBOW\")\n",
        "plt.plot(DCBOW_iterations, DCBOW_losses, label=\"DCBOW\")\n",
        "plt.plot(PDCBOW_iterations, PDCBOW_losses, label=\"PDCBOW\")\n",
        "plt.ylabel('training loss')\n",
        "plt.xlabel('iterations')\n",
        "\n",
        "mpl.rc(\"savefig\", dpi=150)\n",
        "plt.savefig(\"bow_models\")"
      ],
      "execution_count": 92,
      "outputs": [
        {
          "output_type": "display_data",
          "data": {
            "image/png": "[encoded data removed]",
            "text/plain": [
              "<Figure size 720x720 with 2 Axes>"
            ]
          },
          "metadata": {
            "tags": []
          }
        }
      ]
    },
    {
      "cell_type": "markdown",
      "metadata": {
        "id": "9pjNCD0Dc-bL",
        "colab_type": "text"
      },
      "source": [
        "## Sequential models plot"
      ]
    },
    {
      "cell_type": "code",
      "metadata": {
        "id": "DHcHHaLtguUg",
        "colab_type": "code",
        "outputId": "351bbbc9-6f2f-413e-b8f6-e4a1e81c29ed",
        "colab": {
          "base_uri": "https://localhost:8080/",
          "height": 524
        }
      },
      "source": [
        "plt.rcParams[\"figure.figsize\"] = [10,8]\n",
        "\n",
        "plt.subplot(2, 1, 1)\n",
        "plt.plot(LSTM_iterations, LSTM_accuracies, label=\"LSTM\")\n",
        "plt.plot(MLSTM_iterations, MLSTM_accuracies, label=\"MLSTM\")\n",
        "plt.plot(TLSTM_iterations, TLSTM_accuracies, label=\"TLSTM\")\n",
        "plt.plot(STLSTM_iterations, STLSTM_accuracies, label=\"STLSTM\")\n",
        "\n",
        "plt.ylabel('validation accuracy')\n",
        "plt.xlabel('iterations')\n",
        "\n",
        "plt.legend(loc='lower right', bbox_to_anchor=(0., 1.02, 1., .102), ncol=4)\n",
        "\n",
        "plt.subplot(2, 1, 2)\n",
        "plt.plot(LSTM_iterations, LSTM_losses, label=\"LSTM\")\n",
        "plt.plot(MLSTM_iterations, MLSTM_losses, label=\"MLSTM\")\n",
        "plt.plot(TLSTM_iterations, TLSTM_losses, label=\"TLSTM\")\n",
        "plt.plot(STLSTM_iterations, STLSTM_losses, label=\"STLSTM\")\n",
        "plt.ylabel('training loss')\n",
        "plt.xlabel('iterations')\n",
        "\n",
        "mpl.rc(\"savefig\", dpi=150)\n",
        "plt.savefig(\"sequential_models\")"
      ],
      "execution_count": 93,
      "outputs": [
        {
          "output_type": "display_data",
          "data": {
            "image/png": "[encoded data removed]",
            "text/plain": [
              "<Figure size 720x576 with 2 Axes>"
            ]
          },
          "metadata": {
            "tags": []
          }
        }
      ]
    },
    {
      "cell_type": "markdown",
      "metadata": {
        "id": "PBW9_GL-jYa5",
        "colab_type": "text"
      },
      "source": [
        "## Test accuracies"
      ]
    },
    {
      "cell_type": "code",
      "metadata": {
        "id": "QbNOYz9h0jMg",
        "colab_type": "code",
        "outputId": "1b18619e-8932-467f-b480-d68785159e54",
        "colab": {
          "base_uri": "https://localhost:8080/",
          "height": 335
        }
      },
      "source": [
        "plt.rcParams[\"figure.figsize\"] = [10,5]\n",
        "models = [\"BOW\", \"CBOW\", \"DCBOW\", \"PDCBOW\", \"LSTM\", \"MLSTM\", \"TLSTM\", \"STLSTM\"]\n",
        "\n",
        "test_accuracies_mean = [BOW_test_accuracy_mean, CBOW_test_accuracy_mean,\n",
        "                        DCBOW_test_accuracy_mean, PDCBOW_test_accuracy_mean, \n",
        "                        LSTM_test_accuracy_mean, MLSTM_test_accuracy_mean, \n",
        "                        TLSTM_test_accuracy_mean, STLSTM_test_accuracy_mean]\n",
        "\n",
        "test_accuracies_sd = [BOW_test_accuracy_sd, CBOW_test_accuracy_sd,\n",
        "                      DCBOW_test_accuracy_sd, PDCBOW_test_accuracy_sd, \n",
        "                      LSTM_test_accuracy_sd, MLSTM_test_accuracy_sd, \n",
        "                      TLSTM_test_accuracy_sd, STLSTM_test_accuracy_sd] \n",
        "\n",
        "colors = [285, 348]#, 365, 443, 435, 466, 472]\n",
        "colors = [c / max(colors) for c in colors]\n",
        "cmap = plt.cm.get_cmap('GnBu')\n",
        "colors = cmap(colors)\n",
        "\n",
        "plot = plt.bar(models, test_accuracies_mean, color=colors, \n",
        "               yerr=test_accuracies_sd)\n",
        "\n",
        "def autolabel(rects):\n",
        "    for idx, rect in enumerate(plot):\n",
        "        height = rect.get_height()\n",
        "        plt.text(rect.get_x() + rect.get_width()/2., 0.05*height,\n",
        "                round(float(test_accuracies_mean[idx]),3),\n",
        "                ha='center', va='bottom', rotation=0, color='w')\n",
        "\n",
        "autolabel(plot)\n",
        "plt.xlabel('model')\n",
        "plt.ylabel('test accuracy')\n",
        "\n",
        "mpl.rc(\"savefig\", dpi=150)\n",
        "plt.savefig(\"test_accuracies\")"
      ],
      "execution_count": 94,
      "outputs": [
        {
          "output_type": "display_data",
          "data": {
            "image/png": "[encoded data removed]",
            "text/plain": [
              "<Figure size 720x360 with 1 Axes>"
            ]
          },
          "metadata": {
            "tags": []
          }
        }
      ]
    },
    {
      "cell_type": "markdown",
      "metadata": {
        "id": "eh1YSX-Ic7Pb",
        "colab_type": "text"
      },
      "source": [
        "## Significance test"
      ]
    },
    {
      "cell_type": "code",
      "metadata": {
        "id": "q547sCxdwcXd",
        "colab_type": "code",
        "colab": {}
      },
      "source": [
        "def sign_test(results_1, results_2):\n",
        "  ties, plus, minus = 0, 0, 0\n",
        "\n",
        "  # \"-\" carries the error\n",
        "  for i in range(0, len(results_1)):\n",
        "    if results_1[i]==results_2[i]:\n",
        "      ties += 1\n",
        "    elif results_1[i]==0: \n",
        "      plus += 1\n",
        "    elif results_2[i]==0: \n",
        "      minus += 1\n",
        "\n",
        "  n = 2 * math.ceil(ties / 2) + plus + minus\n",
        "  k = math.ceil(ties / 2) + min(plus, minus)\n",
        "  \n",
        "  summation = Decimal(0.0)\n",
        "  \n",
        "  for i in range(0,int(k)+1):\n",
        "      summation += (comb(n,i, exact=True))\n",
        "\n",
        "  # use two-tailed version of test\n",
        "  summation *= 2\n",
        "  summation *= (Decimal(0.5)**Decimal(n))\n",
        "\n",
        "  return summation"
      ],
      "execution_count": 0,
      "outputs": []
    },
    {
      "cell_type": "code",
      "metadata": {
        "id": "_FVsJvU4uQLD",
        "colab_type": "code",
        "outputId": "d38f1fb0-2cf4-499d-fd53-8a7701a1fca6",
        "colab": {
          "base_uri": "https://localhost:8080/",
          "height": 731
        }
      },
      "source": [
        "models = [\"BOW\", \"CBOW\", \"DCBOW\", \"PDCBOW\", \"LSTM\", \"MLSTM\", \"TLSTM\", \"STLSTM\"]\n",
        "\n",
        "test_predictions = [BOW_test_predictions, CBOW_test_predictions,\n",
        "                    DCBOW_test_predictions, PDCBOW_test_predictions, \n",
        "                    LSTM_test_predictions, MLSTM_test_predictions,\n",
        "                    TLSTM_test_predictions, STLSTM_test_predictions]\n",
        "\n",
        "# Printing p-values\n",
        "for i, predictions in enumerate(test_predictions[:-1]):\n",
        "  for j in range(i+1, len(test_predictions)):\n",
        "    p = sign_test(predictions, test_predictions[j]) \n",
        "    p = format(p, '.2e')\n",
        "    if float(p) <= 0.05:\n",
        "      significant = 'significant'\n",
        "    else:\n",
        "      significant = 'not_significant'\n",
        "    print(\"{} vs {}: {} ({})\".format(models[i], models[j], p, significant))  \n",
        "  print(\"\\n\")"
      ],
      "execution_count": 96,
      "outputs": [
        {
          "output_type": "stream",
          "text": [
            "BOW vs CBOW: 1.67e-13 (significant)\n",
            "BOW vs DCBOW: 1.90e-12 (significant)\n",
            "BOW vs PDCBOW: 3.57e-40 (significant)\n",
            "BOW vs LSTM: 9.81e-34 (significant)\n",
            "BOW vs MLSTM: 4.72e-50 (significant)\n",
            "BOW vs TLSTM: 1.76e-57 (significant)\n",
            "BOW vs STLSTM: 1.55e-50 (significant)\n",
            "\n",
            "\n",
            "CBOW vs DCBOW: 7.50e-1 (not_significant)\n",
            "CBOW vs PDCBOW: 4.61e-9 (significant)\n",
            "CBOW vs LSTM: 2.54e-6 (significant)\n",
            "CBOW vs MLSTM: 8.66e-14 (significant)\n",
            "CBOW vs TLSTM: 1.18e-17 (significant)\n",
            "CBOW vs STLSTM: 4.93e-14 (significant)\n",
            "\n",
            "\n",
            "DCBOW vs PDCBOW: 5.93e-10 (significant)\n",
            "DCBOW vs LSTM: 4.74e-7 (significant)\n",
            "DCBOW vs MLSTM: 6.62e-15 (significant)\n",
            "DCBOW vs TLSTM: 6.22e-19 (significant)\n",
            "DCBOW vs STLSTM: 3.68e-15 (significant)\n",
            "\n",
            "\n",
            "PDCBOW vs LSTM: 2.53e-1 (not_significant)\n",
            "PDCBOW vs MLSTM: 1.13e-1 (not_significant)\n",
            "PDCBOW vs TLSTM: 7.42e-3 (significant)\n",
            "PDCBOW vs STLSTM: 9.73e-2 (not_significant)\n",
            "\n",
            "\n",
            "LSTM vs MLSTM: 6.16e-3 (significant)\n",
            "LSTM vs TLSTM: 1.27e-4 (significant)\n",
            "LSTM vs STLSTM: 4.91e-3 (significant)\n",
            "\n",
            "\n",
            "MLSTM vs TLSTM: 2.80e-1 (not_significant)\n",
            "MLSTM vs STLSTM: 9.51e-1 (not_significant)\n",
            "\n",
            "\n",
            "TLSTM vs STLSTM: 3.14e-1 (not_significant)\n",
            "\n",
            "\n"
          ],
          "name": "stdout"
        }
      ]
    },
    {
      "cell_type": "markdown",
      "metadata": {
        "id": "CEizBTyMpNlQ",
        "colab_type": "text"
      },
      "source": [
        "## Sentence length"
      ]
    },
    {
      "cell_type": "code",
      "metadata": {
        "id": "YX4O2eh64IQf",
        "colab_type": "code",
        "colab": {}
      },
      "source": [
        "lengths_frequency = defaultdict(int)\n",
        "for example in test_data:\n",
        "  lengths_frequency[len(example.tokens)] += 1\n",
        "lengths_frequency = collections.OrderedDict(sorted(lengths_frequency.items()))\n",
        "lengths = list(lengths_frequency.keys())\n",
        "frequency = list(lengths_frequency.values())"
      ],
      "execution_count": 0,
      "outputs": []
    },
    {
      "cell_type": "code",
      "metadata": {
        "id": "_57pxqhiDg2T",
        "colab_type": "code",
        "outputId": "64359cba-e743-4a7c-9ffb-0c819f6022ba",
        "colab": {
          "base_uri": "https://localhost:8080/",
          "height": 648
        }
      },
      "source": [
        "# Plot accuracies\n",
        "plt.rcParams[\"figure.figsize\"] = [10,10]\n",
        "\n",
        "plt.subplot(2, 1, 1)\n",
        "plt.plot(BOW_lengths_accuracies, label=\"BOW\")\n",
        "plt.plot(CBOW_lengths_accuracies, label=\"CBOW\")\n",
        "plt.plot(DCBOW_lengths_accuracies, label=\"DCBOW\")\n",
        "plt.plot(PDCBOW_lengths_accuracies, label=\"PDCBOW\")\n",
        "plt.plot(LSTM_lengths_accuracies, label=\"LSTM\")\n",
        "plt.plot(MLSTM_lengths_accuracies, label=\"MLSTM\")\n",
        "plt.plot(TLSTM_lengths_accuracies, label=\"TLSTM\")\n",
        "plt.plot(STLSTM_lengths_accuracies, label=\"STLSTM\")\n",
        "\n",
        "plt.ylabel('test accuracy')\n",
        "plt.xlabel('length')\n",
        "plt.legend(loc='lower right', bbox_to_anchor=(0., 1.02, 1., .102), ncol=4)\n",
        "\n",
        "# Plot frequencies\n",
        "plt.subplot(2, 1, 2)\n",
        "plt.fill_between(lengths, 0, frequency)\n",
        "\n",
        "plt.ylabel('frequency in test set')\n",
        "plt.xlabel('length')\n",
        "\n",
        "mpl.rc(\"savefig\", dpi=150)\n",
        "plt.savefig(\"sentence_lengths\")"
      ],
      "execution_count": 98,
      "outputs": [
        {
          "output_type": "display_data",
          "data": {
            "image/png": "[encoded data removed]",
            "text/plain": [
              "<Figure size 720x720 with 2 Axes>"
            ]
          },
          "metadata": {
            "tags": []
          }
        }
      ]
    },
    {
      "cell_type": "markdown",
      "metadata": {
        "id": "f7QZZH86eHqu",
        "colab_type": "text"
      },
      "source": [
        "# Further experiments and report\n",
        "\n",
        "For your report, you are expected to answer research questions by doing further experiments.\n",
        "\n",
        "## Research Questions\n",
        "\n",
        "Make sure you cover at least the following:\n",
        "\n",
        "- How important is word order for this task?\n",
        "- Does the tree structure help to get a better accuracy?\n",
        "- How does performance depend on the sentence length? Compare the various models. Is there a model that does better on longer sentences? If so, why?\n",
        "- Do you get better performance if you supervise the sentiment **at each node in the tree**? You can extract more training examples by treating every node in each tree as a separate tree. You will need to write a function that extracts all subtrees given a treestring. \n",
        "    - Warning: NLTK's Tree function seems to result in invalid trees in some cases, so be careful if you want to parse the string to a tree structure before extraction the phrases.\n",
        "\n",
        "Optionally, you can also investigate the following:\n",
        "\n",
        "- When making a wrong prediction, can you figure out at what point in the tree (sentence) the model fails? You can make a prediction at each node to investigate.\n",
        "- How does N-ary Tree LSTM compare to the Child-Sum Tree LSTM? \n",
        "- How do the Tai et al. Tree LSTMs compare to Le & Zuidema's formulation?\n",
        "- Or.. your own research question!\n",
        "\n",
        "In general:\n",
        "\n",
        "- ***When you report numbers, please report the mean accuracy across 3 (or more) runs with different random seed, together with the standard deviation.*** This is because the final performance may vary per random seed.\n",
        "\n",
        "## Report instructions\n",
        "\n",
        "Your report needs to be written in LaTeX. You are required to use the ACL 2018 template [(zip)](https://acl2018.org/downloads/acl18-latex.zip) which you can edit directly on [Overleaf](https://www.overleaf.com/latex/templates/instructions-for-acl-2018-proceedings/xzmhqgnmkppc). Make sure your names and student numbers are visible at the top. (Tip: you need to uncomment `/aclfinalcopy`).\n",
        "You can find some general tips about writing a research paper [here](https://www.microsoft.com/en-us/research/academic-program/write-great-research-paper/), but note that you need to make your own judgment about what is appropriate for this project. \n",
        "\n",
        "We expect you to use the following structure:\n",
        "1. Introduction (~1 page) - describe the problem, your research questions and goals, a summary of your findings and contributions. Please cite related work (models, data set) as part of your introduction here, since this is a short paper.\n",
        "    - Introduce the task and the main goal\n",
        "    - Clear research questions\n",
        "    - Motivating the importance of the questions and explaining the expectations\n",
        "    - How are these addressed or not addressed in the literature\n",
        "    - What is your approach\n",
        "    - Short summary of your findings\n",
        "2. Background (~1/2-1 page) -\n",
        "cover the main techniques (\"building blocks\") used in your project (e.g. word embeddings, LSTM, Tree LSTM) and intuitions behind them. Be accurate and concise.\n",
        "    - How each technique that you use works (don't just copy the formulas)\n",
        "    - The relation between the techniques\n",
        "3. Models (~1/2 page) - Cover the models that you used.\n",
        "    - The architecture of the final models (how do you use LSTM or Tree LSTM for the sentiment classification task. what layers you have, how do you do classification? What is your loss function?)\n",
        "4. Experiments (~1/2 page) - Describe your experimental setup. The information here should allow someone else to re-create your experiments. Describe how you evaluate the models.\n",
        "    - Explain the task and the data\n",
        "    - Training the models (model, data, parameters and hyper parameters if the models, training algorithms, what supervision signals you use, etc.)\n",
        "    - Evaluation (e.g. metrics)\n",
        "5. Results and Analysis (~1 page). Go over the results and analyse your findings.\n",
        "    - Answer each of the research questions you raised in the introduction.\n",
        "    - Plots and figures highlighting interesting patterns\n",
        "    - What are the factors that makes model A  better than model B in task C? investigate to prove their effect!\n",
        "6. Conclusion (~1/4 page). The main conclusions of your experiments.\n",
        "    - What you learned from you experiments? how does it relate to what is already known in the literature?\n",
        "    - Where the results as expected ? any surprising results? why?\n",
        "    - Based on what you learned what would you suggest to do next?\n",
        "\n",
        "\n",
        "General Tips:\n",
        "\n",
        "- Math notation – define each variable (either in running text, or in a pseudo-legenda after or before the equation)\n",
        "- Define technical terminology you need\n",
        "- Avoid colloquial language – everything can be said in a scientific-sounding way\n",
        "- Avoid lengthy sentences, stay to the point!\n",
        "- Do not spend space on \"obvious\" things!\n",
        "\n",
        "\n",
        "An ideal report:\n",
        "- Precise, scientific-sounding, technical, to the point \n",
        "  - Little general “waffle”/chit-chat\n",
        "- Not boring – because you don’t explain obvious things too much\n",
        "- Efficient delivery of (only) the facts that we need to know to understand/reimplement\n",
        "- Results visually well-presented and described with the correct priority of importance of sub-results\n",
        "- Insightful analysis – speculation should connect to something interesting and not be too much; the reader “learns something new”\n",
        "- No typos, no colloquialisms – well-considered language\n",
        "- This normally means several re-draftings (re-orderings of information)"
      ]
    }
  ]
}
