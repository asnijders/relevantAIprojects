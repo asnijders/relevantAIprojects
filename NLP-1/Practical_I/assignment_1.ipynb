{
  "nbformat": 4,
  "nbformat_minor": 0,
  "metadata": {
    "colab": {
      "name": "natural_language_processing_1_lab_1.ipynb",
      "provenance": [],
      "collapsed_sections": [],
      "toc_visible": true,
      "machine_shape": "hm",
      "include_colab_link": true
    },
    "kernelspec": {
      "name": "python3",
      "display_name": "Python 3"
    },
    "accelerator": "TPU"
  },
  "cells": [
    {
      "cell_type": "markdown",
      "metadata": {
        "id": "view-in-github",
        "colab_type": "text"
      },
      "source": [
        "<a href=\"https://colab.research.google.com/github/tim142/natural_language_processing/blob/master/lab_1.ipynb\" target=\"_parent\"><img src=\"https://colab.research.google.com/assets/colab-badge.svg\" alt=\"Open In Colab\"/></a>"
      ]
    },
    {
      "cell_type": "markdown",
      "metadata": {
        "id": "lIZrAUx57vsM",
        "colab_type": "text"
      },
      "source": [
        "Practical 1: Sentiment Detection of Movie Reviews\n",
        "========================================\n",
        "\n"
      ]
    },
    {
      "cell_type": "markdown",
      "metadata": {
        "id": "J4kXPMhyngZW",
        "colab_type": "text"
      },
      "source": [
        "This practical concerns sentiment detection of movie reviews.\n",
        "In [this file](https://gist.githubusercontent.com/bastings/d47423301cca214e3930061a5a75e177/raw/5113687382919e22b1f09ce71a8fecd1687a5760/reviews.json) (80MB) you will find 1000 positive and 1000 negative **movie reviews**.\n",
        "Each review is a **document** and consists of one or more sentences.\n",
        "\n",
        "To prepare yourself for this practical, you should\n",
        "have a look at a few of these texts to understand the difficulties of\n",
        "the task (how might one go about classifying the texts?); you will write\n",
        "code that decides whether a random unseen movie review is positive or\n",
        "negative.\n",
        "\n",
        "Please make sure you have read the following paper:\n",
        "\n",
        ">   Bo Pang, Lillian Lee, and Shivakumar Vaithyanathan\n",
        "(2002). \n",
        "[Thumbs up? Sentiment Classification using Machine Learning\n",
        "Techniques](https://dl.acm.org/citation.cfm?id=1118704). EMNLP.\n",
        "\n",
        "Bo Pang et al. were the \"inventors\" of the movie review sentiment\n",
        "classification task, and the above paper was one of the first papers on\n",
        "the topic. The first version of your sentiment classifier will do\n",
        "something similar to Bo Pang’s system. If you have questions about it,\n",
        "we should resolve them in our first demonstrated practical.\n"
      ]
    },
    {
      "cell_type": "markdown",
      "metadata": {
        "id": "cb7errgRASzZ",
        "colab_type": "text"
      },
      "source": [
        "**Advice**\n",
        "\n",
        "Please read through the entire practical and familiarise\n",
        "yourself with all requirements before you start coding or otherwise\n",
        "solving the tasks. Writing clean and concise code can make the difference\n",
        "between solving the assignment in a matter of hours, and taking days to\n",
        "run all experiments.\n",
        "\n",
        "**Environment**\n",
        "\n",
        "All code should be written in **Python 3**. \n",
        "If you use Colab, check if you have that version with `Runtime -> Change runtime type` in the top menu.\n",
        "\n",
        "> If you want to work in your own computer, then download this notebook through `File -> Download .ipynb`.\n",
        "The easiest way to\n",
        "install Python is through downloading\n",
        "[Anaconda](https://www.anaconda.com/download). \n",
        "After installation, you can start the notebook by typing `jupyter notebook filename.ipynb`.\n",
        "You can also use an IDE\n",
        "such as [PyCharm](https://www.jetbrains.com/pycharm/download/) to make\n",
        "coding and debugging easier. It is good practice to create a [virtual\n",
        "environment](https://docs.python.org/3/tutorial/venv.html) for this\n",
        "project, so that any Python packages don’t interfere with other\n",
        "projects.\n",
        "\n",
        "#### Learning Python 3\n",
        "\n",
        "If you are new to Python 3, you may want to check out a few of these resources:\n",
        "- https://learnxinyminutes.com/docs/python3/\n",
        "- https://www.learnpython.org/\n",
        "- https://docs.python.org/3/tutorial/"
      ]
    },
    {
      "cell_type": "markdown",
      "metadata": {
        "id": "bXWyGHwE-ieQ",
        "colab_type": "text"
      },
      "source": [
        "Loading the Data\n",
        "-------------------------------------------------------------"
      ]
    },
    {
      "cell_type": "code",
      "metadata": {
        "id": "lm-rakqtlMOT",
        "colab_type": "code",
        "outputId": "652f1ad5-070e-4c75-947c-e481f89f03d9",
        "colab": {
          "base_uri": "https://localhost:8080/",
          "height": 411
        }
      },
      "source": [
        "# download sentiment lexicon\n",
        "!wget https://gist.githubusercontent.com/bastings/d6f99dcb6c82231b94b013031356ba05/raw/f80a0281eba8621b122012c89c8b5e2200b39fd6/sent_lexicon\n",
        "# download review data\n",
        "!wget https://gist.githubusercontent.com/bastings/d47423301cca214e3930061a5a75e177/raw/5113687382919e22b1f09ce71a8fecd1687a5760/reviews.json"
      ],
      "execution_count": 0,
      "outputs": [
        {
          "output_type": "stream",
          "text": [
            "--2019-11-13 17:51:13--  https://gist.githubusercontent.com/bastings/d6f99dcb6c82231b94b013031356ba05/raw/f80a0281eba8621b122012c89c8b5e2200b39fd6/sent_lexicon\n",
            "Resolving gist.githubusercontent.com (gist.githubusercontent.com)... 151.101.0.133, 151.101.64.133, 151.101.128.133, ...\n",
            "Connecting to gist.githubusercontent.com (gist.githubusercontent.com)|151.101.0.133|:443... connected.\n",
            "HTTP request sent, awaiting response... 200 OK\n",
            "Length: 662577 (647K) [text/plain]\n",
            "Saving to: ‘sent_lexicon’\n",
            "\n",
            "\rsent_lexicon          0%[                    ]       0  --.-KB/s               \rsent_lexicon        100%[===================>] 647.05K  --.-KB/s    in 0.05s   \n",
            "\n",
            "2019-11-13 17:51:13 (12.5 MB/s) - ‘sent_lexicon’ saved [662577/662577]\n",
            "\n",
            "--2019-11-13 17:51:14--  https://gist.githubusercontent.com/bastings/d47423301cca214e3930061a5a75e177/raw/5113687382919e22b1f09ce71a8fecd1687a5760/reviews.json\n",
            "Resolving gist.githubusercontent.com (gist.githubusercontent.com)... 151.101.0.133, 151.101.64.133, 151.101.128.133, ...\n",
            "Connecting to gist.githubusercontent.com (gist.githubusercontent.com)|151.101.0.133|:443... connected.\n",
            "HTTP request sent, awaiting response... 200 OK\n",
            "Length: 83503869 (80M) [text/plain]\n",
            "Saving to: ‘reviews.json’\n",
            "\n",
            "reviews.json        100%[===================>]  79.63M   111MB/s    in 0.7s    \n",
            "\n",
            "2019-11-13 17:51:15 (111 MB/s) - ‘reviews.json’ saved [83503869/83503869]\n",
            "\n"
          ],
          "name": "stdout"
        }
      ]
    },
    {
      "cell_type": "code",
      "metadata": {
        "id": "hok-BFu9lGoK",
        "colab_type": "code",
        "colab": {}
      },
      "source": [
        "import math\n",
        "import os\n",
        "import sys\n",
        "from subprocess import call\n",
        "from nltk import FreqDist\n",
        "from nltk.util import ngrams\n",
        "from nltk.stem.porter import PorterStemmer\n",
        "import sklearn as sk\n",
        "from google.colab import drive\n",
        "import pickle\n",
        "import json\n",
        "from collections import Counter\n",
        "import requests\n",
        "import matplotlib.pyplot as plt\n",
        "import numpy as np\n",
        "import time\n",
        "from decimal import Decimal\n",
        "from scipy.special import comb\n",
        "from numpy import genfromtxt"
      ],
      "execution_count": 0,
      "outputs": []
    },
    {
      "cell_type": "code",
      "metadata": {
        "id": "careEKj-mRpl",
        "colab_type": "code",
        "colab": {}
      },
      "source": [
        "with open(\"reviews.json\", mode=\"r\", encoding=\"utf-8\") as f:\n",
        "  reviews = json.load(f)  "
      ],
      "execution_count": 0,
      "outputs": []
    },
    {
      "cell_type": "markdown",
      "metadata": {
        "id": "wkwenb6aFd3i",
        "colab_type": "text"
      },
      "source": [
        "# FUNCTIONS DATA PREPROCESSING"
      ]
    },
    {
      "cell_type": "code",
      "metadata": {
        "id": "7ig18goU7_D-",
        "colab_type": "code",
        "colab": {}
      },
      "source": [
        "def create_reviews_processed(reviews, pos, stemming, n_grams):\n",
        "  reviews_processed = []\n",
        "  stemmer = PorterStemmer()\n",
        "\n",
        "  # CREATE VOCABULARY LIST\n",
        "  for review in reviews:\n",
        "    new_review = []\n",
        "    for sentence in review[\"content\"]:\n",
        "      for token, pos_tag in sentence:\n",
        "        if stemming == 1:\n",
        "          token = stemmer.stem(token)\n",
        "        if pos == 1:\n",
        "          word = token.lower() + \"_\" + pos_tag.lower()\n",
        "          new_review.append(word)\n",
        "\n",
        "        else:\n",
        "          word = token.lower()\n",
        "          new_review.append(word)\n",
        "\n",
        "    all_n_grams = []\n",
        "\n",
        "    #CREATE NUMBER OF DESIRED NGRAMS\n",
        "    n = 0\n",
        "    while n != n_grams:\n",
        "      all_n_grams.append(list(ngrams(new_review, n+1, pad_left=True, pad_right=True, left_pad_symbol='<s>', right_pad_symbol='</s>')))\n",
        "      n += 1\n",
        "    \n",
        "    #FLATTEN LIST OF NGRAM LISTS INTO LIST\n",
        "    all_n_grams = [item for sublist in all_n_grams for item in sublist]\n",
        "    \n",
        "    #CONVERT TUPLES TO STR\n",
        "    str_grams = []\n",
        "    for n_gram in all_n_grams:\n",
        "        str_grams.append(' '.join(n_gram))\n",
        "        \n",
        "    #ADD REVIEW TO LIST OF REVIEWS FOR BOW\n",
        "    reviews_processed.append(str_grams)\n",
        "    \n",
        "  return reviews_processed"
      ],
      "execution_count": 0,
      "outputs": []
    },
    {
      "cell_type": "code",
      "metadata": {
        "id": "vtAHjzK09BIb",
        "colab_type": "code",
        "colab": {}
      },
      "source": [
        "def create_X(reviews, progress_printing):\n",
        "  # CREATE VOCABULARY LIST\n",
        "  D = Counter()\n",
        "  for review in reviews:\n",
        "    for token in review:\n",
        "      D[token.lower()] += 1\n",
        "  vocab = list(D)\n",
        "\n",
        "  # CREATE BAG OF WORDS MARTIX\n",
        "\n",
        "  # Progress printing\n",
        "  if progress_printing == \"progress_printing\":\n",
        "    print(\"PROGRESS (PROCESSED REVIEWS / TOTAL REVIEWS)\")\n",
        "  \n",
        "  # Set datatype to int16 in order to prevent large data files\n",
        "  X = np.zeros((len(reviews), len(vocab)+1))\n",
        "  X = X.astype(np.int16)\n",
        "  \n",
        "  for review_ind, review in enumerate(reviews):\n",
        "\n",
        "    # progress printing\n",
        "    if progress_printing == \"progress_printing\":\n",
        "      if review_ind in list(range(100, 2000, 100)):\n",
        "        print(review_ind, \"/\", len(reviews))\n",
        "\n",
        "    # Count words for review\n",
        "    for token in review:\n",
        "      word = token.lower()\n",
        "      word_ind = vocab.index(word)\n",
        "      X[review_ind][word_ind] += 1 \n",
        "\n",
        "  return(X)"
      ],
      "execution_count": 0,
      "outputs": []
    },
    {
      "cell_type": "code",
      "metadata": {
        "id": "TWwF8Grbop1w",
        "colab_type": "code",
        "colab": {}
      },
      "source": [
        "def create_Y(reviews):\n",
        "  # CREATE BAG OF WORDS MARTIX\n",
        "  Y = np.zeros((len(reviews), 1))\n",
        "\n",
        "  for review_ind, review in enumerate(reviews):\n",
        "    if review[\"sentiment\"] == \"POS\": \n",
        "      sentiment = 1\n",
        "    else:\n",
        "      sentiment = 0\n",
        "    Y[review_ind][0] = sentiment\n",
        "\n",
        "  return(Y)"
      ],
      "execution_count": 0,
      "outputs": []
    },
    {
      "cell_type": "code",
      "metadata": {
        "id": "NxtCul1IrBi_",
        "colab_type": "code",
        "colab": {}
      },
      "source": [
        "# Save BOW als .npy file\n",
        "def save_X(pos, stemming, n_grams, progress_printing):\n",
        "  start_time = time.time()\n",
        "  reviews_processed = create_reviews_processed(reviews, pos, stemming, n_grams) \n",
        "  X = create_X(reviews_processed, progress_printing)\n",
        "\n",
        "  print(\"--- time: %s seconds ---\" % round((time.time() - start_time), 2), \"\\n\")\n",
        "\n",
        "  file_name = \"X{}{}{}.npy\".format(pos, stemming, n_grams)\n",
        "  np.save(file_name, X)"
      ],
      "execution_count": 0,
      "outputs": []
    },
    {
      "cell_type": "markdown",
      "metadata": {
        "id": "SffljD9i870f",
        "colab_type": "text"
      },
      "source": [
        "# GENERATING DATA"
      ]
    },
    {
      "cell_type": "code",
      "metadata": {
        "id": "GpAo1WFy22c4",
        "colab_type": "code",
        "colab": {}
      },
      "source": [
        "Y = create_Y(reviews)\n",
        "np.save(\"Y\", Y)"
      ],
      "execution_count": 0,
      "outputs": []
    },
    {
      "cell_type": "code",
      "metadata": {
        "id": "QDlY_6kYovdB",
        "colab_type": "code",
        "outputId": "719c5a08-c0c8-4205-e345-0d114faa78ee",
        "colab": {
          "base_uri": "https://localhost:8080/",
          "height": 51
        }
      },
      "source": [
        "save_X(0, 0, 1, \"no_progress_printing\")"
      ],
      "execution_count": 0,
      "outputs": [
        {
          "output_type": "stream",
          "text": [
            "--- time: 60.92 seconds --- \n",
            "\n"
          ],
          "name": "stdout"
        }
      ]
    },
    {
      "cell_type": "code",
      "metadata": {
        "id": "bYPrCEpn82T8",
        "colab_type": "code",
        "outputId": "64c5e9d7-2141-4fc3-b769-4f7caab9252c",
        "colab": {
          "base_uri": "https://localhost:8080/",
          "height": 51
        }
      },
      "source": [
        "save_X(0, 1, 1, \"no_progress_printing\")"
      ],
      "execution_count": 0,
      "outputs": [
        {
          "output_type": "stream",
          "text": [
            "--- time: 66.78 seconds --- \n",
            "\n"
          ],
          "name": "stdout"
        }
      ]
    },
    {
      "cell_type": "code",
      "metadata": {
        "id": "jnNxUj3e4MKU",
        "colab_type": "code",
        "outputId": "84a82533-1725-425a-823a-072d899c2fcc",
        "colab": {
          "base_uri": "https://localhost:8080/",
          "height": 51
        }
      },
      "source": [
        "save_X(1, 0, 1, \"no_progress_printing\")"
      ],
      "execution_count": 0,
      "outputs": [
        {
          "output_type": "stream",
          "text": [
            "--- time: 76.8 seconds --- \n",
            "\n"
          ],
          "name": "stdout"
        }
      ]
    },
    {
      "cell_type": "code",
      "metadata": {
        "id": "MqIv_kGJ8yZD",
        "colab_type": "code",
        "outputId": "e5512925-2a65-4c48-a882-1ce80c4d21b7",
        "colab": {
          "base_uri": "https://localhost:8080/"
        }
      },
      "source": [
        "save_X(0, 0, 3, \"progress_printing\") # pos=0, stemming=0, n_grams=3"
      ],
      "execution_count": 0,
      "outputs": [
        {
          "output_type": "stream",
          "text": [
            "PROGRESS (PROCESSED REVIEWS / TOTAL REVIEWS)\n",
            "100 / 2000\n",
            "200 / 2000\n",
            "300 / 2000\n",
            "400 / 2000\n",
            "500 / 2000\n",
            "600 / 2000\n",
            "700 / 2000\n",
            "800 / 2000\n",
            "900 / 2000\n",
            "1000 / 2000\n",
            "1100 / 2000\n",
            "1200 / 2000\n",
            "1300 / 2000\n",
            "1400 / 2000\n",
            "1500 / 2000\n",
            "1600 / 2000\n",
            "1700 / 2000\n",
            "1800 / 2000\n",
            "1900 / 2000\n"
          ],
          "name": "stdout"
        }
      ]
    },
    {
      "cell_type": "markdown",
      "metadata": {
        "id": "E6PWaEoh8B34",
        "colab_type": "text"
      },
      "source": [
        "Symbolic approach – sentiment lexicon (2pts)\n",
        "---------------------------------------------------------------------\n",
        "\n"
      ]
    },
    {
      "cell_type": "markdown",
      "metadata": {
        "id": "JsTSMb6ma4E8",
        "colab_type": "text"
      },
      "source": [
        "**How** could one automatically classify movie reviews according to their\n",
        "sentiment? \n",
        "\n",
        "If we had access to a **sentiment lexicon**, then there are ways to solve\n",
        "the problem without using Machine Learning. One might simply look up\n",
        "every open-class word in the lexicon, and compute a binary score\n",
        "$S_{binary}$ by counting how many words match either a positive, or a\n",
        "negative word entry in the sentiment lexicon $SLex$.\n",
        "\n",
        "$$S_{binary}(w_1w_2...w_n) = \\sum_{i = 1}^{n}\\text{sgn}(SLex\\big[w_i\\big])$$\n",
        "\n",
        "**Threshold.** In average there are more positive than negative words per review (~7.13 more positive than negative per review) to take this bias into account you should use a threshold of **8** (roughly the bias itself) to make it harder to classify as positive.\n",
        "\n",
        "$$\n",
        "\\text{classify}(S_{binary}(w_1w_2...w_n)) = \\bigg\\{\\begin{array}{ll}\n",
        "        \\text{positive} & \\text{if } S_{binary}(w_1w_2...w_n) > threshold\\\\\n",
        "        \\text{negative} & \\text{else }\n",
        "        \\end{array}\n",
        "$$\n",
        "\n",
        "To implement this approach, you should use the sentiment\n",
        "lexicon in `sent_lexicon`, which was taken from the\n",
        "following work:\n",
        "\n",
        "> Theresa Wilson, Janyce Wiebe, and Paul Hoffmann\n",
        "(2005). [Recognizing Contextual Polarity in Phrase-Level Sentiment\n",
        "Analysis](http://www.aclweb.org/anthology/H/H05/H05-1044.pdf). HLT-EMNLP."
      ]
    },
    {
      "cell_type": "markdown",
      "metadata": {
        "id": "tOFnMvbeeZrc",
        "colab_type": "text"
      },
      "source": [
        "#### (Q: 1.1) Implement this approach and report its classification accuracy. (1 pt)"
      ]
    },
    {
      "cell_type": "code",
      "metadata": {
        "id": "ED2aTEYutW1-",
        "colab_type": "code",
        "colab": {}
      },
      "source": [
        "import csv\n",
        "with open('sent_lexicon') as csvfile:\n",
        "    sent_lexicon = csv.reader(csvfile, delimiter=' ')\n",
        "\n",
        "    # first, we construct a dictionary where each key is a word, and each value is the sentiment and its magnitude\n",
        "    sentiment_dic = {}\n",
        "\n",
        "    for entry in sent_lexicon:\n",
        "        if entry[-1] == 'priorpolarity=negative' and entry[0] == 'type=strongsubj':\n",
        "            sentiment_dic[entry[2][6:]] = 'strong negative'\n",
        "        elif entry[-1] == 'priorpolarity=negative' and entry[0] == 'type=weaksubj':\n",
        "            sentiment_dic[entry[2][6:]] = 'weak negative'\n",
        "        elif entry[-1] == 'priorpolarity=positive'and entry[0] == 'type=strongsubj':\n",
        "            sentiment_dic[entry[2][6:]] = 'strong positive'\n",
        "        elif entry[-1] == 'priorpolarity=positive'and entry[0] == 'type=weaksubj':\n",
        "            sentiment_dic[entry[2][6:]] = 'weak positive'\n",
        "\n",
        "def symbolic_classifyer_1(corpus):\n",
        "    token_results = []\n",
        "    correct = 0\n",
        "    incorrect = 0\n",
        "\n",
        "    for review in corpus:\n",
        "        threshold = 8\n",
        "        pos_words = 0\n",
        "        neg_words = 0\n",
        "\n",
        "        #iterate over words in review, count all positive and negative words and store in counter variables\n",
        "        for sentence in review[\"content\"]:\n",
        "            for token, pos_tag in sentence:\n",
        "                token = token.lower()\n",
        "                try:\n",
        "                    if sentiment_dic[token]:\n",
        "                        if sentiment_dic[token] == 'strong positive':\n",
        "                            pos_words += 1\n",
        "                        elif sentiment_dic[token] == 'weak positive':\n",
        "                            pos_words += 1\n",
        "                        elif sentiment_dic[token] == 'strong negative':\n",
        "                            neg_words += 1\n",
        "                        elif sentiment_dic[token] == 'weak negative':\n",
        "                            neg_words += 1\n",
        "                except:\n",
        "                    continue          \n",
        "\n",
        "        #determine score for each review            \n",
        "        if (pos_words - threshold) > neg_words:\n",
        "            sentiment = 'POS'\n",
        "        else:\n",
        "            sentiment = 'NEG'\n",
        "\n",
        "        #check    \n",
        "        if sentiment == review['sentiment']:\n",
        "            correct += 1\n",
        "            token_results.append(1)\n",
        "        else:\n",
        "            incorrect += 1\n",
        "            token_results.append(0)\n",
        "\n",
        "    total_predictions = correct + incorrect\n",
        "    accuracy = (correct / total_predictions)\n",
        "    print(\"Accuracy = {}\".format(accuracy))\n",
        "    return token_results"
      ],
      "execution_count": 0,
      "outputs": []
    },
    {
      "cell_type": "code",
      "metadata": {
        "id": "sTvANcbTtXql",
        "colab_type": "code",
        "outputId": "d3f39c3c-068e-4e7d-935e-bf61df80f23a",
        "colab": {
          "base_uri": "https://localhost:8080/",
          "height": 34
        }
      },
      "source": [
        "results_Q11 = symbolic_classifyer_1(reviews)"
      ],
      "execution_count": 0,
      "outputs": [
        {
          "output_type": "stream",
          "text": [
            "Accuracy = 0.6785\n"
          ],
          "name": "stdout"
        }
      ]
    },
    {
      "cell_type": "markdown",
      "metadata": {
        "id": "XrhuL5zeHVW7",
        "colab_type": "text"
      },
      "source": [
        "Results"
      ]
    },
    {
      "cell_type": "markdown",
      "metadata": {
        "id": "Twox0s_3eS0V",
        "colab_type": "text"
      },
      "source": [
        "If the sentiment lexicon also has information about the **magnitude** of\n",
        "sentiment (e.g., *“excellent\"* would have higher magnitude than\n",
        "*“good\"*), we could take a more fine-grained approach by adding up all\n",
        "sentiment scores, and deciding the polarity of the movie review using\n",
        "the sign of the weighted score $S_{weighted}$.\n",
        "\n",
        "$$S_{weighted}(w_1w_2...w_n) = \\sum_{i = 1}^{n}SLex\\big[w_i\\big]$$\n",
        "\n",
        "\n",
        "Their lexicon also records two possible magnitudes of sentiment (*weak*\n",
        "and *strong*), so you can implement both the binary and the weighted\n",
        "solutions (please use a switch in your program). For the weighted\n",
        "solution, you can choose the weights intuitively *once* before running\n",
        "the experiment.\n",
        "\n",
        "#### (Q: 1.2) Now incorporate magnitude information and report the classification accuracy. Don't forget to use the threshold. (1 pt)"
      ]
    },
    {
      "cell_type": "code",
      "metadata": {
        "id": "qG3hUDnPtkhS",
        "colab_type": "code",
        "colab": {}
      },
      "source": [
        "def symbolic_classifyer_2(corpus, switch):\n",
        "    \n",
        "    #list of classification results. \n",
        "    magnitude_results = []\n",
        "    \n",
        "    #define weights for sentiment magnitude\n",
        "    pos_strong = 2\n",
        "    pos_weak = 1\n",
        "    neg_strong = 2\n",
        "    neg_weak = 1\n",
        "    \n",
        "    #switch\n",
        "    if switch == 0:\n",
        "        pos_strong = 1\n",
        "        neg_strong = 1\n",
        "    else:\n",
        "        pos_strong = 2\n",
        "        neg_strong = 2 \n",
        "    \n",
        "    #counter variables for correct and incorrect classifications\n",
        "    correct = 0\n",
        "    incorrect = 0\n",
        "\n",
        "    for review in corpus:\n",
        "        threshold = 8\n",
        "        pos_words = 0\n",
        "        neg_words = 0\n",
        "\n",
        "        #iterate over words in review, count all positive and negative words and store in counter variables\n",
        "        for sentence in review[\"content\"]:\n",
        "            for token, pos_tag in sentence:\n",
        "                token = token.lower()\n",
        "                try:\n",
        "                    if sentiment_dic[token]:\n",
        "                        if sentiment_dic[token] == 'strong positive':\n",
        "                            pos_words += pos_strong\n",
        "                        elif sentiment_dic[token] == 'weak positive':\n",
        "                            pos_words += pos_weak\n",
        "                        elif sentiment_dic[token] == 'strong negative':\n",
        "                            neg_words += neg_strong\n",
        "                        elif sentiment_dic[token] == 'weak negative':\n",
        "                            neg_words += neg_weak\n",
        "                except:\n",
        "                    continue\n",
        "                \n",
        "        #determine score for each review            \n",
        "        if (pos_words - threshold) > neg_words:\n",
        "            sentiment = 'POS'\n",
        "        else:\n",
        "            sentiment = 'NEG'\n",
        "\n",
        "        #check    \n",
        "        if sentiment == review['sentiment']:\n",
        "            correct += 1\n",
        "            magnitude_results.append(1)\n",
        "        else:\n",
        "            incorrect += 1\n",
        "            magnitude_results.append(0)\n",
        "\n",
        "    total_predictions = correct + incorrect\n",
        "    accuracy = (correct / total_predictions)\n",
        "    print(\"Accuracy = {}\".format(accuracy))\n",
        "    return magnitude_results"
      ],
      "execution_count": 0,
      "outputs": []
    },
    {
      "cell_type": "markdown",
      "metadata": {
        "id": "3mBuVyEXHZIU",
        "colab_type": "text"
      },
      "source": [
        "Results"
      ]
    },
    {
      "cell_type": "code",
      "metadata": {
        "id": "9vVk7CvDpyka",
        "colab_type": "code",
        "outputId": "12685b6c-1083-4d3f-dc09-9699eb0c909d",
        "colab": {
          "base_uri": "https://localhost:8080/",
          "height": 34
        }
      },
      "source": [
        "results_Q12 = symbolic_classifyer_2(reviews,1)"
      ],
      "execution_count": 0,
      "outputs": [
        {
          "output_type": "stream",
          "text": [
            "Accuracy = 0.6865\n"
          ],
          "name": "stdout"
        }
      ]
    },
    {
      "cell_type": "markdown",
      "metadata": {
        "id": "h9SHoGPfsAHV",
        "colab_type": "text"
      },
      "source": [
        "#### Optional: make a barplot of the two results."
      ]
    },
    {
      "cell_type": "code",
      "metadata": {
        "id": "8LgBcYcXsEk3",
        "colab_type": "code",
        "colab": {}
      },
      "source": [
        "# YOUR CODE HERE"
      ],
      "execution_count": 0,
      "outputs": []
    },
    {
      "cell_type": "markdown",
      "metadata": {
        "id": "6MFrz8Jink0D",
        "colab_type": "text"
      },
      "source": [
        "Answering questions in statistically significant ways (1pt)\n",
        "-------------------------------------------------------------"
      ]
    },
    {
      "cell_type": "markdown",
      "metadata": {
        "id": "kxkxrldT9Ymc",
        "colab_type": "text"
      },
      "source": [
        "Does using the magnitude improve the results? Oftentimes, answering questions like this about the performance of\n",
        "different signals and/or algorithms by simply looking at the output\n",
        "numbers is not enough. When dealing with natural language or human\n",
        "ratings, it’s safe to assume that there are infinitely many possible\n",
        "instances that could be used for training and testing, of which the ones\n",
        "we actually train and test on are a tiny sample. Thus, it is possible\n",
        "that observed differences in the reported performance are really just\n",
        "noise. \n",
        "\n",
        "There exist statistical methods which can be used to check for\n",
        "consistency (*statistical significance*) in the results, and one of the\n",
        "simplest such tests is the **sign test**. \n",
        "\n",
        "The sign test is based on the binomial distribution. Count all cases when System 1 is better than System 2, when System 2 is better than System 1, and when they are the same. Call these numbers $Plus$, $Minus$ and $Null$ respectively. \n",
        "\n",
        "The sign test returns the probability that the null hypothesis is true. \n",
        "\n",
        "This probability is called the $p$-value and it can be calculated for the two-sided sign test using the following formula (we multiply by two because this is a two-sided sign test and tests for the significance of differences in either direction):\n",
        "\n",
        "$$2 \\, \\sum\\limits_{i=0}^{k} \\binom{N}{i} \\, q^i \\, (1-q)^{N-i}$$\n",
        "\n",
        "where $$N = 2 \\Big\\lceil \\frac{Null}{2}\\Big\\rceil + Plus + Minus$$ is the total\n",
        "number of cases, and\n",
        "$$k = \\Big\\lceil \\frac{Null}{2}\\Big\\rceil + \\min\\{Plus,Minus\\}$$ is the number of\n",
        "cases with the less common sign. \n",
        "\n",
        "In this experiment, $q = 0.5$. Here, we\n",
        "treat ties by adding half a point to either side, rounding up to the\n",
        "nearest integer if necessary. \n",
        "\n",
        "\n",
        "#### (Q 2.1): Implement the sign test. Is the difference between the two symbolic systems significant? What is the p-value? (1 pt)\n",
        "\n",
        "You should use the `comb` function from `scipy` and the `decimal` package for the stable adding of numbers in the final summation.\n",
        "\n",
        "You can quickly verify the correctness of\n",
        "your sign test code using a [free online\n",
        "tool](https://www.graphpad.com/quickcalcs/binomial1.cfm)."
      ]
    },
    {
      "cell_type": "code",
      "metadata": {
        "id": "de5l4oPkE-BS",
        "colab_type": "code",
        "colab": {}
      },
      "source": [
        "def sign_test(results_1, results_2):\n",
        "  \"\"\"test for significance\n",
        "  results_1 is a list of classification results (+ for correct, - incorrect)\n",
        "  results_2 is a list of classification results (+ for correct, - incorrect)\n",
        "  \"\"\"\n",
        "  ties, plus, minus = 0, 0, 0\n",
        "\n",
        "  # \"-\" carries the error\n",
        "  for i in range(0, len(results_1)):\n",
        "    if results_1[i]==results_2[i]:\n",
        "      ties += 1\n",
        "    elif results_1[i]==0: \n",
        "      plus += 1\n",
        "    elif results_2[i]==0: \n",
        "      minus += 1\n",
        "\n",
        "  n = 2 * (ties / 2) + plus + minus\n",
        "  k = (ties / 2) + min(plus, minus)\n",
        "\n",
        "  summation = Decimal(0.0)\n",
        "  for i in range(0,int(k)+1):\n",
        "      summation += (comb(n,i, exact=True))\n",
        "\n",
        "  # use two-tailed version of test\n",
        "  summation *= 2\n",
        "  summation *= (Decimal(0.5)**Decimal(n))\n",
        "  print(\"P-value = \", summation)\n",
        "  print(\"the difference is\", \n",
        "        \"not significant\" if summation >= 0.05 else \"significant\")\n",
        "  return summation"
      ],
      "execution_count": 0,
      "outputs": []
    },
    {
      "cell_type": "markdown",
      "metadata": {
        "id": "-yT5UdeNFmSD",
        "colab_type": "text"
      },
      "source": [
        "Checking for significance between the two symbolic systems of Question 1.1 and 1.2:\n"
      ]
    },
    {
      "cell_type": "code",
      "metadata": {
        "id": "tR1H-F84FqFL",
        "colab_type": "code",
        "outputId": "ffd95ba6-0dbe-4545-a14f-689b5ef721d0",
        "colab": {
          "base_uri": "https://localhost:8080/",
          "height": 51
        }
      },
      "source": [
        "p_value = sign_test(results_Q11, results_Q12)"
      ],
      "execution_count": 0,
      "outputs": [
        {
          "output_type": "stream",
          "text": [
            "P-value =  0.7373250398720036864195787185\n",
            "the difference is not significant\n"
          ],
          "name": "stdout"
        }
      ]
    },
    {
      "cell_type": "markdown",
      "metadata": {
        "id": "uhU_tk-BOaXb",
        "colab_type": "text"
      },
      "source": [
        "## Using the Sign test\n",
        "\n",
        "**From now on, report all differences between systems using the\n",
        "sign test.** You can think about a change that you apply to one system, as a\n",
        " new system.\n",
        "    \n",
        "You should report statistical test\n",
        "results in an appropriate form – if there are several different methods\n",
        "(i.e., systems) to compare, tests can only be applied to pairs of them\n",
        "at a time. This creates a triangular matrix of test results in the\n",
        "general case. When reporting these pair-wise differences, you should\n",
        "summarise trends to avoid redundancy.\n"
      ]
    },
    {
      "cell_type": "markdown",
      "metadata": {
        "id": "LibV4nR89BXb",
        "colab_type": "text"
      },
      "source": [
        "Naive Bayes (8pt + 1pt bonus)\n",
        "=========="
      ]
    },
    {
      "cell_type": "markdown",
      "metadata": {
        "id": "fnF9adQnuwia",
        "colab_type": "text"
      },
      "source": [
        "\n",
        "Your second task is to program a simple Machine Learning approach that operates\n",
        "on a simple Bag-of-Words (BoW) representation of the text data, as\n",
        "described in Pang et al. (2002). In this approach, the only features we\n",
        "will consider are the words in the text themselves, without bringing in\n",
        "external sources of information. The BoW model is a popular way of\n",
        "representing text information as vectors (or points in space), making it\n",
        "easy to apply classical Machine Learning algorithms on NLP tasks.\n",
        "However, the BoW representation is also very crude, since it discards\n",
        "all information related to word order and grammatical structure in the\n",
        "original text.\n",
        "\n",
        "## Writing your own classifier\n",
        "\n",
        "Write your own code to implement the Naive Bayes (NB) classifier. As\n",
        "a reminder, the Naive Bayes classifier works according to the following\n",
        "equation:\n",
        "$$\\hat{c} = \\operatorname*{arg\\,max}_{c \\in C} P(c|\\bar{f}) = \\operatorname*{arg\\,max}_{c \\in C} P(c)\\prod^n_{i=1} P(f_i|c)$$\n",
        "where $C = \\{ \\text{POS}, \\text{NEG} \\}$ is the set of possible classes,\n",
        "$\\hat{c} \\in C$ is the most probable class, and $\\bar{f}$ is the feature\n",
        "vector. Remember that we use the log of these probabilities when making\n",
        "a prediction:\n",
        "$$\\hat{c} = \\operatorname*{arg\\,max}_{c \\in C} \\Big\\{\\log P(c) + \\sum^n_{i=1} \\log P(f_i|c)\\Big\\}$$\n",
        "\n",
        "You can find more details about Naive Bayes in [Jurafsky &\n",
        "Martin](https://web.stanford.edu/~jurafsky/slp3/). You can also look at\n",
        "this helpful\n",
        "[pseudo-code](https://nlp.stanford.edu/IR-book/html/htmledition/naive-bayes-text-classification-1.html).\n",
        "\n",
        "*Note: this section and the next aim to put you a position to replicate\n",
        "    Pang et al., Naive Bayes results. However, the numerical results\n",
        "    will differ from theirs, as they used different data.*\n",
        "\n",
        "**You must write the Naive Bayes training and prediction code from\n",
        "scratch.** You will not be given credit for using off-the-shelf Machine\n",
        "Learning libraries.\n",
        "\n",
        "The data contains the text of the reviews, where each document consists\n",
        "of the sentences in the review, the sentiment of the review and an index\n",
        "(cv) that you will later use for cross-validation. You will find the\n",
        "text has already been tokenised and POS-tagged for you. Your algorithm\n",
        "should read in the text, **lowercase it**, and store the words and their\n",
        "frequencies in an appropriate data structure that allows for easy\n",
        "computation of the probabilities used in the Naive Bayes algorithm, and\n",
        "then make predictions for new instances."
      ]
    },
    {
      "cell_type": "markdown",
      "metadata": {
        "id": "gsZRhaI3WvzC",
        "colab_type": "text"
      },
      "source": [
        "#### (Q3.1) Train your classifier on (positive and negative) reviews with cv-value 000-899, and test it on the remaining reviews cv900–cv999.  Report results using simple classification accuracy as your evaluation metric. Your  features are the word vocabulary. The value of a feature is the count of that feature (word) in the document. (2pts)\n"
      ]
    },
    {
      "cell_type": "code",
      "metadata": {
        "id": "M75Qgzddoqk_",
        "colab_type": "code",
        "colab": {}
      },
      "source": [
        "def train_multinomial_NB(X, Y, smoothing):\n",
        "  # CLASS PRIORS [NEG, POS]\n",
        "  classes = np.unique(Y)\n",
        "  Y_summed = np.sum(Y, axis=0)\n",
        "  priors = np.array([[1-Y_summed[0]/len(Y), Y_summed[0]/len(Y)]]).T\n",
        "  \n",
        "  # CLASS CONDITIONAL PROBABILITIES [NEG, POS]\n",
        "  conditionals = np.zeros(len(X[0]))\n",
        "\n",
        "  for i, c in enumerate(classes): \n",
        "    c_ind = np.where(Y == c)\n",
        "    X_class = X[c_ind[0], :]\n",
        "    X_class_summed = np.sum(X_class, axis=0) \n",
        "    \n",
        "    if smoothing == \"laplace\":\n",
        "      conditional = (X_class_summed + 1) / (sum(X_class_summed) + len(X[0]))\n",
        "    else:\n",
        "      conditional = (X_class_summed) / sum(X_class_summed)\n",
        "    \n",
        "    conditionals = np.vstack((conditionals, conditional))\n",
        "\n",
        "  conditionals = conditionals[1:]\n",
        "\n",
        "  return(priors, conditionals)"
      ],
      "execution_count": 0,
      "outputs": []
    },
    {
      "cell_type": "code",
      "metadata": {
        "id": "k2C6dm3Aotji",
        "colab_type": "code",
        "colab": {}
      },
      "source": [
        "def apply_multinomial_NB(X, priors, conditionals):\n",
        "  posterior_neg = np.dot(X, np.log(conditionals[0])) + np.log(priors[0])\n",
        "  posterior_pos = np.dot(X, np.log(conditionals[1])) + np.log(priors[1])\n",
        "\n",
        "  merged = np.vstack((posterior_neg, posterior_pos,))\n",
        "  predictions = np.argmax(merged, axis=0)\n",
        "  return(predictions)"
      ],
      "execution_count": 0,
      "outputs": []
    },
    {
      "cell_type": "code",
      "metadata": {
        "id": "LaYR_nMgEXVX",
        "colab_type": "code",
        "outputId": "75cf0dbf-a8b2-4884-9100-efe6593d011e",
        "colab": {
          "base_uri": "https://localhost:8080/",
          "height": 85
        }
      },
      "source": [
        "# Load input and out data\n",
        "X = np.load('X001.npy') # settings: pos=0, stemming=0, n_grams=1\n",
        "Y = np.load('Y.npy')\n",
        "\n",
        "# Training data\n",
        "X_TRAIN = np.vstack((X[0:900], X[1000:1900]))\n",
        "Y_TRAIN = np.vstack((Y[0:900], Y[1000:1900]))\n",
        "\n",
        "# Validation data\n",
        "X_VALID = np.vstack((X[900:1000], X[1900:2000]))\n",
        "Y_VALID = np.vstack((Y[900:1000], Y[1900:2000]))\n",
        "Y_VALID = Y_VALID.T[0].astype(int)\n",
        "\n",
        "# Shapes\n",
        "print(\"shape X_TRAIN: \", np.shape(X_TRAIN))\n",
        "print(\"shape Y_TRAIN: \", np.shape(Y_TRAIN))\n",
        "print(\"shape X_VALID: \", np.shape(X_VALID))\n",
        "print(\"shape Y_VALID: \", np.shape(Y_VALID))"
      ],
      "execution_count": 0,
      "outputs": [
        {
          "output_type": "stream",
          "text": [
            "shape X_TRAIN:  (1800, 47744)\n",
            "shape Y_TRAIN:  (1800, 1)\n",
            "shape X_VALID:  (200, 47744)\n",
            "shape Y_VALID:  (200,)\n"
          ],
          "name": "stdout"
        }
      ]
    },
    {
      "cell_type": "code",
      "metadata": {
        "id": "3EPGwXq1FCcC",
        "colab_type": "code",
        "outputId": "8eb3e7f7-3e5e-4a11-9155-5561496d0d72",
        "colab": {
          "base_uri": "https://localhost:8080/",
          "height": 306
        }
      },
      "source": [
        "# Training\n",
        "priors, conditionals = train_multinomial_NB(X_TRAIN, Y_TRAIN, 0)\n",
        "\n",
        "# Classification\n",
        "predictions = apply_multinomial_NB(X_VALID, priors, conditionals)\n",
        "\n",
        "# Evaluation\n",
        "results = abs((abs(predictions - Y_VALID)) - 1) \n",
        "accuracy = sum(results)/len(results)\n",
        "np.save('Q31_results_0010.npy', results)  \n",
        "\n",
        "print(\"results: \", results, \"\\n\")\n",
        "print(\"accuracy: \", accuracy)\n",
        "\n",
        "print(\"\\nThe low accuracy is the result of not applying smoothing,\")\n",
        "print(\"due to which the algorithm encounters divisions by zero.\\n\\n\")"
      ],
      "execution_count": 0,
      "outputs": [
        {
          "output_type": "stream",
          "text": [
            "results:  [1 1 1 1 1 1 1 1 1 1 1 1 1 1 1 1 1 1 1 1 1 1 1 1 1 1 1 1 1 1 1 1 1 1 1 1 1\n",
            " 1 1 1 1 1 1 1 1 1 1 1 1 1 1 1 1 1 1 1 1 1 1 1 1 1 1 1 1 1 1 1 1 1 1 1 1 1\n",
            " 1 1 1 1 1 1 1 1 1 1 1 1 1 1 1 1 1 1 1 1 1 1 1 1 1 1 0 0 0 0 0 0 0 0 0 0 0\n",
            " 0 0 0 0 0 0 0 0 0 0 0 0 0 0 0 0 0 0 0 0 0 0 0 0 0 0 0 0 0 0 0 0 0 0 0 0 0\n",
            " 0 0 0 0 0 0 0 0 0 0 0 0 0 0 0 0 0 0 0 0 0 0 0 0 0 0 0 0 0 0 0 0 0 0 0 0 0\n",
            " 0 0 0 0 0 0 0 0 0 0 0 0 0 0 0] \n",
            "\n",
            "accuracy:  0.5\n",
            "\n",
            "The low accuracy is the result of not applying smoothing,\n",
            "due to which the algorithm encounters divisions by zero.\n",
            "\n",
            "\n"
          ],
          "name": "stdout"
        },
        {
          "output_type": "stream",
          "text": [
            "/usr/local/lib/python3.6/dist-packages/ipykernel_launcher.py:2: RuntimeWarning: divide by zero encountered in log\n",
            "  \n",
            "/usr/local/lib/python3.6/dist-packages/ipykernel_launcher.py:3: RuntimeWarning: divide by zero encountered in log\n",
            "  This is separate from the ipykernel package so we can avoid doing imports until\n"
          ],
          "name": "stderr"
        }
      ]
    },
    {
      "cell_type": "markdown",
      "metadata": {
        "id": "1KEBREqT3SGP",
        "colab_type": "text"
      },
      "source": [
        "***Naive Bayes without smoothing results in an accuracy of 0.5***"
      ]
    },
    {
      "cell_type": "markdown",
      "metadata": {
        "id": "0INK-PBoM6CB",
        "colab_type": "text"
      },
      "source": [
        "#### (Bonus Questions) Would you consider accuracy to also be a good way to evaluate your classifier in a situation where 90% of your data instances are of positive movie reviews? (1pt)\n",
        "\n",
        "You can simulate this scenario by keeping the positive reviews\n",
        "data unchanged, but only using negative reviews cv000–cv089 for\n",
        "training, and cv900–cv909 for testing. Calculate the classification\n",
        "accuracy, and explain what changed.\n",
        "\n",
        "***In the case of imbalanced data, that is, the vast majority being either positive or negative, accuracy might not be an optimal evaluation method. Say, 90% of the data is positive, the algorithm could just label every entry as positive and thus achieve an accuracy of 90% without actually doing any learning. To account for this, supplementing model evaluation with precision and recall metrics would be appropriate.***"
      ]
    },
    {
      "cell_type": "markdown",
      "metadata": {
        "id": "6wJzcHX3WUDm",
        "colab_type": "text"
      },
      "source": [
        "## Smoothing\n",
        "\n",
        "The presence of words in the test dataset that\n",
        "haven’t been seen during training can cause probabilities in the Naive\n",
        "Bayes classifier to be $0$, thus making that particular test instance\n",
        "undecidable. The standard way to mitigate this effect (as well as to\n",
        "give more clout to rare words) is to use smoothing, in which the\n",
        "probability fraction\n",
        "$$\\frac{\\text{count}(w_i, c)}{\\sum\\limits_{w\\in V} \\text{count}(w, c)}$$ for a word\n",
        "$w_i$ becomes\n",
        "$$\\frac{\\text{count}(w_i, c) + \\text{smoothing}(w_i)}{\\sum\\limits_{w\\in V} \\text{count}(w, c) + \\sum\\limits_{w \\in V} \\text{smoothing}(w)}$$\n",
        "\n",
        "\n",
        "\n"
      ]
    },
    {
      "cell_type": "markdown",
      "metadata": {
        "id": "PBNIcbwUWphC",
        "colab_type": "text"
      },
      "source": [
        "#### (Q3.2) Implement Laplace feature smoothing (1pt)\n",
        "($smoothing(\\cdot) = \\kappa$, constant for all words) in your Naive\n",
        "Bayes classifier’s code, and report the impact on performance. \n",
        "Use $\\kappa = 1$."
      ]
    },
    {
      "cell_type": "code",
      "metadata": {
        "id": "5xVOFq3beizf",
        "colab_type": "code",
        "outputId": "24c175c3-ba46-4637-a5af-5e61bd7dc54b",
        "colab": {
          "base_uri": "https://localhost:8080/",
          "height": 153
        }
      },
      "source": [
        "# Training\n",
        "priors, conditionals = train_multinomial_NB(X_TRAIN, Y_TRAIN, \"laplace\")\n",
        "\n",
        "# Classification\n",
        "predictions = apply_multinomial_NB(X_VALID, priors, conditionals)\n",
        "\n",
        "# Evaluation\n",
        "results = abs((abs(predictions - Y_VALID)) - 1) \n",
        "accuracy = sum(results)/len(results)\n",
        "np.save('Q32_results_001L.npy', results)  \n",
        "\n",
        "print(\"results: \", results, \"\\n\")\n",
        "print(\"accuracy: \", accuracy)"
      ],
      "execution_count": 0,
      "outputs": [
        {
          "output_type": "stream",
          "text": [
            "results:  [1 0 1 0 1 1 1 1 0 0 1 1 1 1 1 1 1 1 1 1 1 1 1 1 1 1 0 1 1 1 1 0 1 1 1 1 1\n",
            " 1 1 1 1 0 1 1 1 1 1 1 1 1 1 1 1 1 0 1 1 1 1 1 1 1 1 0 1 1 1 0 1 1 1 1 0 1\n",
            " 0 1 1 1 0 1 1 1 1 1 1 1 1 1 1 1 1 0 1 1 1 1 1 1 1 1 1 0 1 1 1 1 1 1 1 0 1\n",
            " 0 1 1 1 0 1 0 0 1 1 1 0 1 1 1 1 1 1 1 1 1 0 1 1 1 1 0 1 1 1 1 0 1 1 1 1 0\n",
            " 1 1 0 1 0 1 1 1 1 1 1 1 1 1 1 1 0 1 1 1 1 1 1 1 0 1 1 1 1 1 0 1 1 1 1 1 1\n",
            " 1 1 0 1 0 1 0 0 1 0 1 1 1 1 1] \n",
            "\n",
            "accuracy:  0.825\n"
          ],
          "name": "stdout"
        }
      ]
    },
    {
      "cell_type": "markdown",
      "metadata": {
        "id": "-IzdytRV3eei",
        "colab_type": "text"
      },
      "source": [
        "***Naive Bayes with smoothing results in an accuracy of 0.825. However, whether this result is significantly better than the Naive Bayes classififer without smoothing or whether the difference in accuracy is random, cannot be said. In order to determine whether the difference is significant, we will apply the significance test below.***"
      ]
    },
    {
      "cell_type": "markdown",
      "metadata": {
        "id": "-conSBddWWyN",
        "colab_type": "text"
      },
      "source": [
        "#### (Q3.3) Is the difference between non smoothed (Q3.1) and smoothed (Q3.2) statistically significant? (0.5pt)"
      ]
    },
    {
      "cell_type": "code",
      "metadata": {
        "id": "UioMZolNIzkL",
        "colab_type": "code",
        "outputId": "b5e87cf5-5d4b-4704-833e-475d8e8c070c",
        "colab": {
          "base_uri": "https://localhost:8080/",
          "height": 68
        }
      },
      "source": [
        "# Without smoothing\n",
        "Q31_results_0010 = np.load('Q31_results_0010.npy')\n",
        "\n",
        "# With laplace smoothing\n",
        "Q32_results_001L = np.load('Q32_results_001L.npy')\n",
        "\n",
        "p_value = sign_test(Q31_results_0010, Q32_results_001L)"
      ],
      "execution_count": 0,
      "outputs": [
        {
          "output_type": "stream",
          "text": [
            "P-value = 0.0000\n",
            "the difference is significant\n",
            "p_value =  0.000003547178174130642586494974890\n"
          ],
          "name": "stdout"
        }
      ]
    },
    {
      "cell_type": "markdown",
      "metadata": {
        "id": "1kgd-ARW4I_3",
        "colab_type": "text"
      },
      "source": [
        "***P value = 0.0000035, so the difference is significant***"
      ]
    },
    {
      "cell_type": "markdown",
      "metadata": {
        "id": "ZiGcgwba87D5",
        "colab_type": "text"
      },
      "source": [
        "## Cross-validation\n",
        "\n",
        "A serious danger in using Machine Learning on small datasets, with many\n",
        "iterations of slightly different versions of the algorithms, is that we\n",
        "end up with Type III errors, also called the “testing hypotheses\n",
        "suggested by the data” errors. This type of error occurs when we make\n",
        "repeated improvements to our classifiers by playing with features and\n",
        "their processing, but we don’t get a fresh, never-before seen test\n",
        "dataset every time. Thus, we risk developing a classifier that’s better\n",
        "and better on our data, but worse and worse at generalizing to new,\n",
        "never-before seen data.\n",
        "\n",
        "A simple method to guard against Type III errors is to use\n",
        "cross-validation. In N-fold cross-validation, we divide the data into N\n",
        "distinct chunks / folds. Then, we repeat the experiment N times, each\n",
        "time holding out one of the chunks for testing, training our classifier\n",
        "on the remaining N - 1 data chunks, and reporting performance on the\n",
        "held-out chunk. We can use different strategies for dividing the data:\n",
        "\n",
        "-   Consecutive splitting:\n",
        "  - cv000–cv099 = Split 1\n",
        "  - cv100–cv199 = Split 2\n",
        "  - etc.\n",
        "  \n",
        "-   Round-robin splitting (mod 10):\n",
        "  - cv000, cv010, cv020, … = Split 1\n",
        "  - cv001, cv011, cv021, … = Split 2\n",
        "  - etc.\n",
        "\n",
        "-   Random sampling/splitting\n",
        "  - Not used here (but you may choose to split this way in a non-educational situation)\n",
        "\n",
        "#### (Q3.4) Write the code to implement 10-fold cross-validation using round-robin splitting for your Naive Bayes classifier from Q3.2 and compute the 10 accuracies. Report the final performance, which is the average of the performances per fold. If all splits perform equally well, this is a good sign. (1pt)\n",
        "\n",
        "\n",
        "\n",
        "\n"
      ]
    },
    {
      "cell_type": "code",
      "metadata": {
        "id": "ZoBQm1KuNzNR",
        "colab_type": "code",
        "colab": {}
      },
      "source": [
        "from sklearn.svm import LinearSVC\n",
        "from sklearn.datasets import make_classification\n",
        "\n",
        "def cross_validate(model, X, Y, folds):\n",
        "    results = Y[0:len(Y):10].T[0].astype(int)\n",
        "    results = np.zeros(np.shape(results))\n",
        "    accuracies = []\n",
        "    \n",
        "    for i in range(folds):\n",
        "        print(\"FOLD \", i+1, \"/ 10\")\n",
        "        #CREATE VALIDATION SET ACCORDING TO NUMBER OF CHUNKS\n",
        "        X_VALID = X[i:len(X):folds]\n",
        "        Y_VALID = Y[i:len(Y):folds]\n",
        "        Y_VALID = Y_VALID.T[0].astype(int)\n",
        "\n",
        "        #CREATE TRAINING SETS\n",
        "        X_TRAIN = np.delete(X, slice(i, len(X), folds), axis = 0)\n",
        "        Y_TRAIN = np.delete(Y, slice(i, len(Y), folds), axis = 0)\n",
        "\n",
        "        # TRAIN AND APPLY MODEL \n",
        "        if model == 'NB':\n",
        "            priors, conditionals = train_multinomial_NB(X_TRAIN, Y_TRAIN, \"laplace\")\n",
        "            predictions = apply_multinomial_NB(X_VALID, priors, conditionals)\n",
        "        elif model == 'SVM':\n",
        "            Y_TRAIN = Y_TRAIN.ravel()\n",
        "            clf = LinearSVC(random_state=0, tol=1e-5, max_iter = 20000)\n",
        "            clf.fit(X_TRAIN, Y_TRAIN)  \n",
        "            predictions = clf.predict(X_VALID)\n",
        "\n",
        "        # UPDATE RESULTS \n",
        "        fold_results = abs((abs(predictions - Y_VALID)) - 1)\n",
        "        results = np.vstack((results, fold_results))\n",
        "        \n",
        "        # UPDATE ACCURACIES\n",
        "        right = sum(fold_results)\n",
        "        total = len(fold_results)\n",
        "        accuracy = right/total\n",
        "        accuracies.append(accuracy)\n",
        "\n",
        "    results = results[1:].flatten()\n",
        "    variance = np.var(accuracies)\n",
        "    return(results, accuracies, variance)"
      ],
      "execution_count": 0,
      "outputs": []
    },
    {
      "cell_type": "code",
      "metadata": {
        "id": "17CxNi6fpR9a",
        "colab_type": "code",
        "outputId": "2318e065-6217-41cd-d7a5-7d990f5764cf",
        "colab": {
          "base_uri": "https://localhost:8080/",
          "height": 221
        }
      },
      "source": [
        "# Load input and output data\n",
        "X = np.load('X001.npy') # settings: pos=0, stemming=0, n_grams=1\n",
        "Y = np.load('Y.npy')\n",
        "\n",
        "model = \"NB\"\n",
        "folds = 10\n",
        "\n",
        "results, accuracies, variance = cross_validate(model, X, Y, folds)\n",
        "np.save('Q34_CV_results_001L', results)\n",
        "\n",
        "av_accuracy = sum(accuracies)/folds\n",
        "print(\"accuracies: \", accuracies)\n",
        "print(\"average_accuracy: \", av_accuracy)"
      ],
      "execution_count": 0,
      "outputs": [
        {
          "output_type": "stream",
          "text": [
            "FOLD  1 / 10\n",
            "FOLD  2 / 10\n",
            "FOLD  3 / 10\n",
            "FOLD  4 / 10\n",
            "FOLD  5 / 10\n",
            "FOLD  6 / 10\n",
            "FOLD  7 / 10\n",
            "FOLD  8 / 10\n",
            "FOLD  9 / 10\n",
            "FOLD  10 / 10\n",
            "accuracies:  [0.79, 0.835, 0.81, 0.83, 0.775, 0.845, 0.83, 0.785, 0.825, 0.845]\n",
            "average_accuracy:  0.817\n"
          ],
          "name": "stdout"
        }
      ]
    },
    {
      "cell_type": "markdown",
      "metadata": {
        "id": "9b_9jEj-4cr7",
        "colab_type": "text"
      },
      "source": [
        "***Doing cross validation on the Naive Bayes classifier using smoothing results in an average accuracy of 0.817,based on the fold accuracies [0.79, 0.835, 0.81, 0.83, 0.775, 0.845, 0.83, 0.785, 0.825, 0.845]***"
      ]
    },
    {
      "cell_type": "markdown",
      "metadata": {
        "id": "otdlsDXBNyOa",
        "colab_type": "text"
      },
      "source": [
        "#### (Q3.5) Write code to calculate and report variance, in addition to the final performance. (1pt)\n",
        "\n",
        "Please report all future results using 10-fold cross-validation now\n",
        "(unless told to use the held-out test set)."
      ]
    },
    {
      "cell_type": "code",
      "metadata": {
        "id": "2bBbSy7CYS_T",
        "colab_type": "code",
        "outputId": "b1a68d28-4510-46d3-c11b-612f87dd18e7",
        "colab": {
          "base_uri": "https://localhost:8080/",
          "height": 34
        }
      },
      "source": [
        "print(\"variance: \", variance)"
      ],
      "execution_count": 0,
      "outputs": [
        {
          "output_type": "stream",
          "text": [
            "variance:  0.0005859999999999986\n"
          ],
          "name": "stdout"
        }
      ]
    },
    {
      "cell_type": "markdown",
      "metadata": {
        "id": "WEOZQqeP4195",
        "colab_type": "text"
      },
      "source": [
        "***The variance over the accuracies iss 0.000586, so all splits perform approximately the same.***"
      ]
    },
    {
      "cell_type": "markdown",
      "metadata": {
        "id": "s6A2zX9_BRKm",
        "colab_type": "text"
      },
      "source": [
        "## Features, overfitting, and the curse of dimensionality\n",
        "\n",
        "In the Bag-of-Words model, ideally we would like each distinct word in\n",
        "the text to be mapped to its own dimension in the output vector\n",
        "representation. However, real world text is messy, and we need to decide\n",
        "on what we consider to be a word. For example, is “`word`\" different\n",
        "from “`Word`\", from “`word`”, or from “`words`\"? Too strict a\n",
        "definition, and the number of features explodes, while our algorithm\n",
        "fails to learn anything generalisable. Too lax, and we risk destroying\n",
        "our learning signal. In the following section, you will learn about\n",
        "confronting the feature sparsity and the overfitting problems as they\n",
        "occur in NLP classification tasks."
      ]
    },
    {
      "cell_type": "markdown",
      "metadata": {
        "id": "EKK8FNt8VtcZ",
        "colab_type": "text"
      },
      "source": [
        "#### (Q3.6): A touch of linguistics (1pt)\n",
        "\n",
        "Taking a step further, you can use stemming to\n",
        "hash different inflections of a word to the same feature in the BoW\n",
        "vector space. How does the performance of your classifier change when\n",
        "you use stemming on your training and test datasets? Please use the [Porter stemming\n",
        "    algorithm](http://www.nltk.org/howto/stem.html) from NLTK.\n",
        " Also, you should do cross validation and concatenate the predictions from all folds to compute the significance."
      ]
    },
    {
      "cell_type": "code",
      "metadata": {
        "id": "ntDW2Fwz4d7O",
        "colab_type": "code",
        "outputId": "af3ccdaf-f56c-4f2c-bac6-cf4d96e66cb6",
        "colab": {
          "base_uri": "https://localhost:8080/",
          "height": 51
        }
      },
      "source": [
        "# Load input and output data\n",
        "X = np.load('X011.npy') # settings: pos=0, stemming=1, n_grams=1\n",
        "Y = np.load('Y.npy')\n",
        "\n",
        "model = \"NB\"\n",
        "folds = 10\n",
        "\n",
        "results, accuracies, variance = cross_validate(model, X, Y, folds)\n",
        "np.save('Q36_CV_results_011L', results)\n",
        "\n",
        "av_accuracy = sum(accuracies)/folds\n",
        "print(\"accuracies: \", accuracies)\n",
        "print(\"average_accuracy: \", av_accuracy)\n",
        "print(\"variance: \", variance)"
      ],
      "execution_count": 0,
      "outputs": [
        {
          "output_type": "stream",
          "text": [
            "accuracies:  [0.78, 0.84, 0.81, 0.85, 0.775, 0.835, 0.815, 0.775, 0.83, 0.84]\n",
            "average_accuracy:  0.8150000000000001\n"
          ],
          "name": "stdout"
        }
      ]
    },
    {
      "cell_type": "markdown",
      "metadata": {
        "id": "NBTCPEuD5XPZ",
        "colab_type": "text"
      },
      "source": [
        "***Applying the Naive Bayes algorithm on the data with stemming results in an accuracy of 0.815***"
      ]
    },
    {
      "cell_type": "markdown",
      "metadata": {
        "id": "6SrJ1BeLXTnk",
        "colab_type": "text"
      },
      "source": [
        "#### (Q3.7): Is the difference between NB with smoothing and NB with smoothing+stemming significant? (0.5pt)\n"
      ]
    },
    {
      "cell_type": "code",
      "metadata": {
        "id": "gYqKBOiIrInT",
        "colab_type": "code",
        "outputId": "a56dcb0f-0965-4f0c-d2b6-0fee5c13f3fa",
        "colab": {
          "base_uri": "https://localhost:8080/",
          "height": 68
        }
      },
      "source": [
        "# Without stemming\n",
        "Q34_CV_results_001L = np.load('Q34_CV_results_001L.npy')\n",
        "\n",
        "# With stemming\n",
        "Q36_CV_results_011L = np.load('Q36_CV_results_011L.npy')\n",
        "\n",
        "p_value = sign_test(Q34_CV_results_001L, Q36_CV_results_011L)"
      ],
      "execution_count": 0,
      "outputs": [
        {
          "output_type": "stream",
          "text": [
            "P-value = 0.9465\n",
            "the difference is not significant\n",
            "p_value =  0.9465186089423488346539016590\n"
          ],
          "name": "stdout"
        }
      ]
    },
    {
      "cell_type": "markdown",
      "metadata": {
        "id": "MxdHOu3Y5zVM",
        "colab_type": "text"
      },
      "source": [
        "***The p-value is 0.95, so the difference is not significant.***"
      ]
    },
    {
      "cell_type": "markdown",
      "metadata": {
        "id": "JkDHVq_1XUVP",
        "colab_type": "text"
      },
      "source": [
        "#### Q3.8: What happens to the number of features (i.e., the size of the vocabulary) when using stemming as opposed to (Q3.2)? (0.5pt)\n",
        "Give actual numbers. You can use the held-out training set to determine these."
      ]
    },
    {
      "cell_type": "code",
      "metadata": {
        "id": "MA3vee5-rJyy",
        "colab_type": "code",
        "outputId": "95ffb8cf-daa0-4431-9e72-8703e5e7a178",
        "colab": {
          "base_uri": "https://localhost:8080/",
          "height": 51
        }
      },
      "source": [
        "X = np.load('X001.npy')\n",
        "print(\"Features without stemmming: \", np.size(X[0]))\n",
        "\n",
        "X = np.load('X011.npy')\n",
        "print(\"Features with stemmming: \", np.size(X[0]))"
      ],
      "execution_count": 0,
      "outputs": [
        {
          "output_type": "stream",
          "text": [
            "Features without stemmming:  47744\n",
            "Features with stemmming:  34201\n"
          ],
          "name": "stdout"
        }
      ]
    },
    {
      "cell_type": "markdown",
      "metadata": {
        "id": "wnfLxpfV8Ls7",
        "colab_type": "text"
      },
      "source": [
        "***The number of features decreases when using stemming because multiple words could share the same stem, and thus merge into a single feature instead of each having their individual feature. ***\n",
        "\n",
        "***Features without stemming: 47744***\n",
        "\n",
        "***Features with stemming: 34201***\n",
        "\n",
        "\n"
      ]
    },
    {
      "cell_type": "markdown",
      "metadata": {
        "id": "SoazfxbNV5Lq",
        "colab_type": "text"
      },
      "source": [
        "#### Q3.9: Putting some word order back in (0.5+0.5pt=1pt)\n",
        "\n",
        "A simple way of retaining some of the word\n",
        "order information when using bag-of-words representations is to add **n-grams** features. \n",
        "Retrain your classifier from (Q3.4) using **unigrams+bigrams** and\n",
        "**unigrams+bigrams+trigrams** as features, and report accuracy and statistical significances (in comparison to the experiment at (Q3.4) for all 10 folds, and between the new systems).\n",
        "\n",
        "\n",
        "\n"
      ]
    },
    {
      "cell_type": "code",
      "metadata": {
        "id": "btlH8PvyUUKY",
        "colab_type": "code",
        "colab": {}
      },
      "source": [
        "model = \"NB\"\n",
        "X = np.load('X002.npy')\n",
        "Y = np.load('Y.npy')\n",
        "folds = 10\n",
        "\n",
        "results, accuracies, variance = cross_validate(model, X, Y, folds)\n",
        "np.save('Q39_CV_results_002L', results)\n",
        "\n",
        "av_accuracy = sum(accuracies)/folds\n",
        "print(\"average_accuracy: \", av_accuracy)\n",
        "print(\"variance: \", variance)"
      ],
      "execution_count": 0,
      "outputs": []
    },
    {
      "cell_type": "markdown",
      "metadata": {
        "id": "0fwmw--HUWEv",
        "colab_type": "text"
      },
      "source": [
        "***Applying Naive Bayes without stemming and with using bigrams results in an accuracy of 0.842***"
      ]
    },
    {
      "cell_type": "code",
      "metadata": {
        "id": "S77yUf5jUpiV",
        "colab_type": "code",
        "colab": {}
      },
      "source": [
        "model = \"NB\"\n",
        "X = np.load('X003.npy')\n",
        "Y = np.load('Y.npy')\n",
        "folds = 10\n",
        "\n",
        "results, accuracies, variance = cross_validate(model, X, Y, folds)\n",
        "np.save('Q39_CV_results_003L', results)\n",
        "\n",
        "av_accuracy = sum(accuracies)/folds\n",
        "print(\"average_accuracy: \", av_accuracy)\n",
        "print(\"variance: \", variance)"
      ],
      "execution_count": 0,
      "outputs": []
    },
    {
      "cell_type": "markdown",
      "metadata": {
        "id": "78l1fc0dUsM8",
        "colab_type": "text"
      },
      "source": [
        "***Applying Naive Bayes without stemming and with using bigrams results in an accuracy of 0.85***"
      ]
    },
    {
      "cell_type": "code",
      "metadata": {
        "id": "neuJ3ymnU1nU",
        "colab_type": "code",
        "colab": {}
      },
      "source": [
        "# unigrams\n",
        "Q34_CV_results_001L = np.load('Q34_CV_results_001L.npy')\n",
        "\n",
        "# bigrams\n",
        "Q39_CV_results_002L = np.load('Q39_CV_results_002L.npy')\n",
        "\n",
        "# trigrams\n",
        "Q39_CV_results_003L = np.load('Q39_CV_results_003L.npy')\n",
        "\n",
        "p_value = sign_test(Q39_CV_results_001L, Q39_CV_results_002L)\n",
        "p_value = sign_test(Q39_CV_results_001L, Q39_CV_results_003L)\n",
        "p_value = sign_test(Q39_CV_results_002L, Q39_CV_results_003L)"
      ],
      "execution_count": 0,
      "outputs": []
    },
    {
      "cell_type": "markdown",
      "metadata": {
        "id": "gqkfE9_fVL2n",
        "colab_type": "text"
      },
      "source": [
        "**significance test for unigrams and bigrams**\n",
        "\n",
        "**P-value = 0.2541**\n",
        "\n",
        "**the difference is not significant**\n",
        "\n",
        "**---------------------------------------------**\n",
        "\n",
        "**significance test for unigrams and trigrams**\n",
        "\n",
        "**P-value = 0.1461**\n",
        "\n",
        "**the difference is not significant**\n",
        "\n",
        "**---------------------------------------------**\n",
        "\n",
        "**significance test for bigrams and trigrams**\n",
        "\n",
        "**P-value = 0.7373**\n",
        "\n",
        "**the difference is not significant**\n"
      ]
    },
    {
      "cell_type": "markdown",
      "metadata": {
        "id": "dVrGGArkrWoL",
        "colab_type": "text"
      },
      "source": [
        "\n",
        "#### Q3.10: How many features does the BoW model have to take into account now? (0.5pt)\n",
        "How does this number compare (e.g., linear, square, cubed, exponential) to the number of features at (Q3.8)? \n",
        "\n",
        "Use the held-out training set once again for this.\n"
      ]
    },
    {
      "cell_type": "code",
      "metadata": {
        "id": "_z8sAJeUrdtM",
        "colab_type": "code",
        "colab": {}
      },
      "source": [
        "X = np.load('X001.npy')\n",
        "print(\"Features without stemmming: \", np.size(X[0]))\n",
        "\n",
        "X = np.load('X011.npy')\n",
        "print(\"Features with stemming): \", np.size(X[0]))\n",
        "\n",
        "X = np.load('X002.npy')\n",
        "print(\"Features with n=2 (no stemming): \", np.size(X[0]))\n",
        "\n",
        "X = np.load('X003.npy')\n",
        "print(\"Features with n=3 (no stemming): \", np.size(X[0]))"
      ],
      "execution_count": 0,
      "outputs": []
    },
    {
      "cell_type": "markdown",
      "metadata": {
        "id": "vpUjcOhlVvkS",
        "colab_type": "text"
      },
      "source": [
        "***Number of features without stemmming:  47744***\n",
        "\n",
        "\n",
        "\n",
        "***Number of features with stemming:  34201***\n",
        "\n",
        "\n",
        "\n",
        "***Number of features with unigrams+bigrams, no stemming:  508580***\n",
        "\n",
        "\n",
        "\n",
        "***Number of features with unigrams+bigrams+trigrams, no stemming:  1551076***\n",
        "\n",
        "***-------------------------------------------***\n",
        "\n",
        "\n",
        "***It appears that the BoW feature space increases exponentially for larger values of n: number of features = ~ V^n***\n"
      ]
    },
    {
      "cell_type": "markdown",
      "metadata": {
        "id": "CHWKDL3YV6vh",
        "colab_type": "text"
      },
      "source": [
        "# Support Vector Machines (4pts)\n"
      ]
    },
    {
      "cell_type": "markdown",
      "metadata": {
        "id": "hJSYhcVaoJGt",
        "colab_type": "text"
      },
      "source": [
        "Though simple to understand, implement, and debug, one\n",
        "major problem with the Naive Bayes classifier is that its performance\n",
        "deteriorates (becomes skewed) when it is being used with features which\n",
        "are not independent (i.e., are correlated). Another popular classifier\n",
        "that doesn’t scale as well to big data, and is not as simple to debug as\n",
        "Naive Bayes, but that doesn’t assume feature independence is the Support\n",
        "Vector Machine (SVM) classifier.\n",
        "\n",
        "You can find more details about SVMs in Chapter 7 of Bishop: Pattern Recognition and Machine Learning.\n",
        "Other sources for learning SVM:\n",
        "* http://web.mit.edu/zoya/www/SVM.pdf\n",
        "* http://www.cs.columbia.edu/~kathy/cs4701/documents/jason_svm_tutorial.pdf\n",
        "* https://pythonprogramming.net/support-vector-machine-intro-machine-learning-tutorial/\n",
        "\n",
        "\n",
        "\n",
        "\n",
        "\n",
        "\n",
        "\n",
        "Use the scikit-learn implementation of \n",
        "[SVM.](http://scikit-learn.org/stable/modules/svm.html) with the default parameters.\n",
        "\n"
      ]
    },
    {
      "cell_type": "markdown",
      "metadata": {
        "id": "0LnzNtQBV8gr",
        "colab_type": "text"
      },
      "source": [
        "#### (Q4.1): Train SVM and compare to Naive Bayes (2pt)\n",
        "\n",
        "Train an SVM classifier (sklearn.svm.LinearSVC) using your features. Compare the\n",
        "classification performance of the SVM classifier to that of the Naive\n",
        "Bayes classifier from (Q3.4) and report the numbers.\n",
        "Do cross validation and concatenate the predictions from all folds to compute the significance.  Are the results significantly better?\n",
        "\n"
      ]
    },
    {
      "cell_type": "code",
      "metadata": {
        "id": "JBscui8Mvoz0",
        "colab_type": "code",
        "outputId": "4ec1559e-5a8a-4d54-eab1-626212077656",
        "colab": {
          "base_uri": "https://localhost:8080/",
          "height": 238
        }
      },
      "source": [
        "# Load input and output data\n",
        "X = np.load('X001.npy')\n",
        "Y = np.load('Y.npy')\n",
        "\n",
        "model = \"SVM\"\n",
        "folds = 10\n",
        "\n",
        "results, accuracies, variance = cross_validate(model, X, Y, folds)\n",
        "np.save('Q41_CV_results_001L', results)\n",
        "\n",
        "av_accuracy = sum(accuracies)/folds\n",
        "print(\"accuracies: \", accuracies)\n",
        "print(\"average_accuracy: \", av_accuracy)\n",
        "print(\"variance: \", variance)"
      ],
      "execution_count": 0,
      "outputs": [
        {
          "output_type": "stream",
          "text": [
            "FOLD  1 / 10\n",
            "FOLD  2 / 10\n",
            "FOLD  3 / 10\n",
            "FOLD  4 / 10\n",
            "FOLD  5 / 10\n",
            "FOLD  6 / 10\n",
            "FOLD  7 / 10\n",
            "FOLD  8 / 10\n",
            "FOLD  9 / 10\n",
            "FOLD  10 / 10\n",
            "accuracies:  [0.81, 0.795, 0.8, 0.84, 0.85, 0.815, 0.845, 0.85, 0.875, 0.84]\n",
            "average_accuracy:  0.8320000000000001\n",
            "variance:  0.0005959999999999991\n"
          ],
          "name": "stdout"
        }
      ]
    },
    {
      "cell_type": "markdown",
      "metadata": {
        "id": "d7ppglLb61q1",
        "colab_type": "text"
      },
      "source": [
        "**Applying an SVM without stemming and using unigrams results in an accuracy of 0.832**"
      ]
    },
    {
      "cell_type": "code",
      "metadata": {
        "id": "yujY4FIu5rMH",
        "colab_type": "code",
        "outputId": "f2594a79-0172-40f3-8270-2b30fdf0adbe",
        "colab": {
          "base_uri": "https://localhost:8080/",
          "height": 51
        }
      },
      "source": [
        "# Without stemming\n",
        "Q34_CV_results_001L = np.load('Q34_CV_results_001L.npy')\n",
        "\n",
        "# With stemming\n",
        "Q41_CV_results_001L = np.load('Q41_CV_results_001L.npy')\n",
        "\n",
        "p_value = sign_test(Q34_CV_results_001L, Q41_CV_results_001L)"
      ],
      "execution_count": 0,
      "outputs": [
        {
          "output_type": "stream",
          "text": [
            "P-value =  0.5166977962573607869966679093\n",
            "the difference is not significant\n"
          ],
          "name": "stdout"
        }
      ]
    },
    {
      "cell_type": "markdown",
      "metadata": {
        "id": "CfQbrR_W536m",
        "colab_type": "text"
      },
      "source": [
        "***The p-value is 0.52, so the difference between the SVM classifier and the NB classifier is not significant.***"
      ]
    },
    {
      "cell_type": "markdown",
      "metadata": {
        "id": "ifXVWcK0V9qY",
        "colab_type": "text"
      },
      "source": [
        "### More linguistics\n",
        "\n",
        "Now add in part-of-speech features. You will find the\n",
        "movie review dataset has already been POS-tagged for you. Try to\n",
        "replicate what Pang et al. were doing:\n",
        "\n"
      ]
    },
    {
      "cell_type": "markdown",
      "metadata": {
        "id": "xA3I82o4oWGu",
        "colab_type": "text"
      },
      "source": [
        "####(Q4.2) Replace your features with word+POS features, and report performance with the SVM. Does this help? Do cross validation and concatenate the predictions from all folds to compute the significance. Are the results significant? Why?  (1pt)\n"
      ]
    },
    {
      "cell_type": "code",
      "metadata": {
        "id": "NOvjYe-t2Br6",
        "colab_type": "code",
        "outputId": "2d2e439d-3d43-4d22-f7e0-4830e8a2d664",
        "colab": {
          "base_uri": "https://localhost:8080/",
          "height": 238
        }
      },
      "source": [
        "# Load input and output data\n",
        "X = np.load('X101.npy') \n",
        "Y = np.load('Y.npy')\n",
        "\n",
        "model = \"SVM\"\n",
        "folds = 10\n",
        "\n",
        "results, accuracies, variance = cross_validate(model, X, Y, folds)\n",
        "np.save('Q42_CV_results_101L', results)\n",
        "\n",
        "av_accuracy = sum(accuracies)/folds\n",
        "print(\"accuracies: \", accuracies)\n",
        "print(\"average_accuracy: \", av_accuracy)\n",
        "print(\"variance: \", variance)"
      ],
      "execution_count": 0,
      "outputs": [
        {
          "output_type": "stream",
          "text": [
            "FOLD  1 / 10\n",
            "FOLD  2 / 10\n",
            "FOLD  3 / 10\n",
            "FOLD  4 / 10\n",
            "FOLD  5 / 10\n",
            "FOLD  6 / 10\n",
            "FOLD  7 / 10\n",
            "FOLD  8 / 10\n",
            "FOLD  9 / 10\n",
            "FOLD  10 / 10\n",
            "accuracies:  [0.82, 0.795, 0.825, 0.84, 0.84, 0.845, 0.855, 0.855, 0.865, 0.84]\n",
            "average_accuracy:  0.8380000000000001\n",
            "variance:  0.0003709999999999997\n"
          ],
          "name": "stdout"
        }
      ]
    },
    {
      "cell_type": "markdown",
      "metadata": {
        "id": "dlLs6Qd264Ql",
        "colab_type": "text"
      },
      "source": [
        "**Applying an SVM without stemming and using unigrams and POS tags results in an accuracy of 0.838**"
      ]
    },
    {
      "cell_type": "code",
      "metadata": {
        "id": "4Ir2XAazAYo-",
        "colab_type": "code",
        "outputId": "c0bc355b-0b28-4029-ab8a-029f5639dc12",
        "colab": {
          "base_uri": "https://localhost:8080/",
          "height": 51
        }
      },
      "source": [
        "# Without stemming\n",
        "Q41_CV_results_001L = np.load('Q41_CV_results_001L.npy')\n",
        "\n",
        "# With stemming\n",
        "Q42_CV_results_101L = np.load('Q42_CV_results_101L.npy')\n",
        "\n",
        "p_value = sign_test(Q41_CV_results_001L, Q42_CV_results_101L)"
      ],
      "execution_count": 0,
      "outputs": [
        {
          "output_type": "stream",
          "text": [
            "P-value =  0.8057148676803825624105038557\n",
            "the difference is not significant\n"
          ],
          "name": "stdout"
        }
      ]
    },
    {
      "cell_type": "markdown",
      "metadata": {
        "id": "BcISKIgK7F1p",
        "colab_type": "text"
      },
      "source": [
        "***The p-value is 0.806, so the difference between the SVM with and without using POS_tags is not significant.***"
      ]
    },
    {
      "cell_type": "markdown",
      "metadata": {
        "id": "Su-3w87eMW0w",
        "colab_type": "text"
      },
      "source": [
        "#### (Q4.3) Discard all closed-class words from your data (keep only nouns (N*), verbs (V*), adjectives (J*) and adverbs (RB*)), and report performance. Does this help? Do cross validation and concatenate the predictions from all folds to compute the significance. Are the results significantly better than when we don't discard the closed-class words? Why? (1pt)"
      ]
    },
    {
      "cell_type": "code",
      "metadata": {
        "id": "CCUPlPozCYUX",
        "colab_type": "code",
        "colab": {}
      },
      "source": [
        "def create_reviews_processed_Q43(reviews, pos, stemming, n_grams):\n",
        "  reviews_processed = []\n",
        "  stemmer = PorterStemmer()\n",
        "\n",
        "  # CREATE VOCABULARY LIST\n",
        "  for review in reviews:\n",
        "    new_review = []\n",
        "    for sentence in review[\"content\"]:\n",
        "      for token, pos_tag in sentence:\n",
        "        if (pos_tag != \"N\") and (pos_tag != \"V\") and (pos_tag != \"J\") and (pos_tag !=\"RB\"):\n",
        "          if stemming == 1:\n",
        "            token = stemmer.stem(token)\n",
        "          if pos == 1:\n",
        "            word = token.lower() + \"_\" + pos_tag.lower()\n",
        "            new_review.append(word)\n",
        "\n",
        "          else:\n",
        "            word = token.lower()\n",
        "            new_review.append(word)\n",
        "\n",
        "    all_n_grams = []\n",
        "\n",
        "    #CREATE NUMBER OF DESIRED NGRAMS\n",
        "    n = 0\n",
        "    while n != n_grams:\n",
        "      all_n_grams.append(list(ngrams(new_review, n+1, pad_left=True, pad_right=True, left_pad_symbol='<s>', right_pad_symbol='</s>')))\n",
        "      n += 1\n",
        "    \n",
        "    #FLATTEN LIST OF NGRAM LISTS INTO LIST\n",
        "    all_n_grams = [item for sublist in all_n_grams for item in sublist]\n",
        "    \n",
        "    #CONVERT TUPLES TO STR\n",
        "    str_grams = []\n",
        "    for n_gram in all_n_grams:\n",
        "        str_grams.append(' '.join(n_gram))\n",
        "        \n",
        "    #ADD REVIEW TO LIST OF REVIEWS FOR BOW\n",
        "    reviews_processed.append(str_grams)\n",
        "    \n",
        "  return reviews_processed"
      ],
      "execution_count": 0,
      "outputs": []
    },
    {
      "cell_type": "code",
      "metadata": {
        "id": "_Y7jOym37Wum",
        "colab_type": "code",
        "colab": {}
      },
      "source": [
        "def save_X_Q43(pos, stemming, n_grams, progress_printing):\n",
        "  start_time = time.time()\n",
        "  reviews_processed = create_reviews_processed_Q43(reviews, pos, stemming, n_grams) \n",
        "  X = create_X(reviews_processed, progress_printing)\n",
        "\n",
        "  print(\"--- time: %s seconds ---\" % round((time.time() - start_time), 2), \"\\n\")\n",
        "\n",
        "  file_name = \"X101_Q43.npy\".format(pos, stemming, n_grams)\n",
        "  np.save(file_name, X)"
      ],
      "execution_count": 0,
      "outputs": []
    },
    {
      "cell_type": "code",
      "metadata": {
        "id": "54dZZCHk7Y6z",
        "colab_type": "code",
        "colab": {}
      },
      "source": [
        "save_X_Q43(1, 0, 1, \"no_progress_printing\") # pos, stemming, n_grams"
      ],
      "execution_count": 0,
      "outputs": []
    },
    {
      "cell_type": "code",
      "metadata": {
        "id": "19Ap7Xow7aic",
        "colab_type": "code",
        "colab": {}
      },
      "source": [
        "model = \"SVM\"\n",
        "X = np.load('X101_Q43.npy')\n",
        "Y = np.load('Y.npy')\n",
        "folds = 10\n",
        "\n",
        "results, accuracies, variance = cross_validate(model, X, Y, folds)\n",
        "np.save('Q43_CV_results_101L', results)"
      ],
      "execution_count": 0,
      "outputs": []
    },
    {
      "cell_type": "code",
      "metadata": {
        "id": "WQCBYmZx7cDt",
        "colab_type": "code",
        "colab": {}
      },
      "source": [
        "av_accuracy = sum(accuracies)/folds\n",
        "print(\"accuracies\", accuracies)\n",
        "print(\"average_accuracy: \", av_accuracy)\n",
        "print(\"variance\", variance)"
      ],
      "execution_count": 0,
      "outputs": []
    },
    {
      "cell_type": "markdown",
      "metadata": {
        "id": "6WTT3lgq7mvJ",
        "colab_type": "text"
      },
      "source": [
        "***Applying an SVM with POS tags and without closed form words results in an accuracy of 0.831***"
      ]
    },
    {
      "cell_type": "markdown",
      "metadata": {
        "id": "_E4B5_ne7g9l",
        "colab_type": "text"
      },
      "source": [
        "Sign test"
      ]
    },
    {
      "cell_type": "code",
      "metadata": {
        "id": "EV3RFHSl7ds-",
        "colab_type": "code",
        "colab": {}
      },
      "source": [
        "# With closed-class words\n",
        "Q42_CV_results_101L = np.load('Q42_CV_results_101L.npy')\n",
        "# Without closed-class words\n",
        "Q43_CV_results_101L = np.load('Q43_CV_results_101L.npy')\n",
        "p_value = sign_test(Q42_CV_results_101L, Q43_CV_results_101L)"
      ],
      "execution_count": 0,
      "outputs": []
    },
    {
      "cell_type": "markdown",
      "metadata": {
        "id": "Jy5qOiU170Zp",
        "colab_type": "text"
      },
      "source": [
        "The p-value is 0.77, so the difference between the SVM with closed for words and without closed form words is not significant."
      ]
    },
    {
      "cell_type": "markdown",
      "metadata": {
        "id": "nfwqOciAl2No",
        "colab_type": "text"
      },
      "source": [
        "# (Q5) Discussion (max. 500 words). (5pts)\n",
        "\n",
        "> Based on your experiments, what are the effective features and techniques in sentiment analysis? What information do different features encode?\n",
        "Why is this important? What are the limitations of these features and techniques?\n",
        " \n"
      ]
    },
    {
      "cell_type": "markdown",
      "metadata": {
        "colab_type": "text",
        "id": "k-3LKX34CFci"
      },
      "source": [
        "In this practical, sentiment analysis was performed on a corpus of movie reviews using two different methods: a symbolic classifyer, and a Bayesian classifyer. The symbolic classifyer assigns classes to documents by use of a sentiment lexicon, where each word in the document is looked up and counts are kept for positive/negative entries. It can be extended with magnitudes, where words with a 'strong' magnitude weigh more than words with a 'weak' magnitude - Theoretically, more information is taken into account, improving accuracy. In line with this hypothesis, enriching the classifyer with magnitudes slightly improved accuracy.\n",
        "\n",
        "Better results were achieved through use of Naive Bayes (NB), which operates on a Bag of Words representation.\n",
        "\n",
        "In its primitive form, NB is ineffective because of data sparsity: during testing, the algorithm is likely to encounter unseen words - the conditional probabilities of these words evaluate to zero, rendering resulting predictions unreliable. This explains the poor initial classification accuracy of 50%. Laplacian smoothing was used to account for this. This method deals with data sparsity by redistributing some of the probability mass from common events to rare ones. Applying this technique yields an accuracy of 81%.\n",
        "\n",
        "Arguably, NB outperforms the symbolic classifyer as NB employs a larger feature space (individual words versus lexicon features). A finer-grained approach, NB is able to pick up on more specific facts in the documents, which might explain its better performance. \n",
        "\n",
        "Stemming can be applied before construction of the BoW. Stemming crudely normalizes words by getting rid of different inflections, reducing data sparsity. Applying stemming did not result in a significant difference in accuracy for NB. Possibly, different word inflections do not necessarily encode information relevant to sentiment analysis, and thus it makes sense that stemming does not affect classification outcomes.\n",
        "\n",
        "A BoW can be extended by incorporating n-grams, re-introducing certain linguistic phenomena that were lost initially when only using unigram features. Theoretically, longer sequences of words encode certain facts specific to the data, allowing for more accurate modelling. Indeed, incorporating n-grams yields a moderate improvement in accuracy, with the combination of uni-grams, bi-grams and tri-grams giving an accuracy of 85%. Adding (higher-order) n-grams significantly expands the feature space. Not only is this computationally more demanding, it can also present problems in terms of data sparsity - generally, adding context is only appropriate if sufficient evidence is present. \n",
        "\n",
        "Words can be augmented with POS tags to deal with polysemy, helping the model to disentangle different meanings of words. In our case, this did not improve accuracy - arguably, different meanings of a word do not necessarily correspond to great differences in expressed sentiment. Alternatively, it's possible that our simplistic implementation of NB fails to capitalize on this information, whereas more sophisticated models would benefit more.\n",
        "\n",
        "Finally, classification was attempted through use of a SVM, yielding similar performance to NB. Arguably, the simplicity of both the input data yield limited potential in terms of realizable information extraction. Nevertheless, more experimentation with features and parameter settings is required to make an honest comparison.\n",
        "\n"
      ]
    },
    {
      "cell_type": "markdown",
      "metadata": {
        "id": "Uj29Qe489_lv",
        "colab_type": "text"
      },
      "source": [
        "***P.S. For an overview (table) of the results, see the attached image in the submission.***"
      ]
    },
    {
      "cell_type": "markdown",
      "metadata": {
        "id": "iwaKwfWQhRk_",
        "colab_type": "text"
      },
      "source": [
        "# Submission \n"
      ]
    },
    {
      "cell_type": "code",
      "metadata": {
        "id": "aOUeaET5ijk-",
        "colab_type": "code",
        "colab": {}
      },
      "source": [
        "# Write your names and student numbers here:\n",
        "# Ard Snijders #12854913\n",
        "# Tim van Loenhout #10741577"
      ],
      "execution_count": 0,
      "outputs": []
    },
    {
      "cell_type": "markdown",
      "metadata": {
        "id": "3A9K-H6Tii3X",
        "colab_type": "text"
      },
      "source": [
        "**That's it!**\n",
        "\n",
        "- Check if you answered all questions fully and correctly. \n",
        "- Download your completed notebook using `File -> Download .ipynb` \n",
        "- Also save your notebook as a Github Gist. Get it by choosing `File -> Save as Github Gist`.  Make sure that the gist has a secret link (not public).\n",
        "- Check if your answers are all included in the file you submit (e.g. check the Github Gist URL)\n",
        "- Submit your .ipynb file and link to the Github Gist via *Canvas*. One submission per group. "
      ]
    }
  ]
}
