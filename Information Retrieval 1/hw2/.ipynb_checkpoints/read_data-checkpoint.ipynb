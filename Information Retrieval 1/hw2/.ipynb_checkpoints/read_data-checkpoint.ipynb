{
 "cells": [
  {
   "cell_type": "code",
   "execution_count": 12,
   "metadata": {},
   "outputs": [
    {
     "ename": "ModuleNotFoundError",
     "evalue": "No module named 'pandas'",
     "output_type": "error",
     "traceback": [
      "\u001b[0;31m---------------------------------------------------------------------------\u001b[0m",
      "\u001b[0;31mModuleNotFoundError\u001b[0m                       Traceback (most recent call last)",
      "\u001b[0;32m<ipython-input-12-a3d7b2290de5>\u001b[0m in \u001b[0;36m<module>\u001b[0;34m\u001b[0m\n\u001b[1;32m      1\u001b[0m \u001b[0;32mimport\u001b[0m \u001b[0mjson\u001b[0m\u001b[0;34m\u001b[0m\u001b[0;34m\u001b[0m\u001b[0m\n\u001b[1;32m      2\u001b[0m \u001b[0;32mimport\u001b[0m \u001b[0mnumpy\u001b[0m \u001b[0;32mas\u001b[0m \u001b[0mnp\u001b[0m\u001b[0;34m\u001b[0m\u001b[0;34m\u001b[0m\u001b[0m\n\u001b[0;32m----> 3\u001b[0;31m \u001b[0;32mimport\u001b[0m \u001b[0mpandas\u001b[0m \u001b[0;32mas\u001b[0m \u001b[0mpd\u001b[0m\u001b[0;34m\u001b[0m\u001b[0;34m\u001b[0m\u001b[0m\n\u001b[0m\u001b[1;32m      4\u001b[0m \u001b[0;32mfrom\u001b[0m \u001b[0mscipy\u001b[0m \u001b[0;32mimport\u001b[0m \u001b[0mstats\u001b[0m\u001b[0;34m\u001b[0m\u001b[0;34m\u001b[0m\u001b[0m\n",
      "\u001b[0;31mModuleNotFoundError\u001b[0m: No module named 'pandas'"
     ]
    }
   ],
   "source": [
    "import json\n",
    "import numpy as np\n",
    "import pandas as pd\n",
    "from scipy import stats"
   ]
  },
  {
   "cell_type": "code",
   "execution_count": 105,
   "metadata": {},
   "outputs": [],
   "source": [
    "def get_data(filename):\n",
    "    with open(filename) as f:\n",
    "        data = json.load(f)\n",
    "        map_all, map_part = [], []\n",
    "        ndcg_all, ndcg_part = [], []\n",
    "        for query_id, results in data.items():\n",
    "            query_id = int(query_id)\n",
    "            for metric, value in results.items():\n",
    "                if metric == \"map\":\n",
    "                    map_all.append(value)\n",
    "                    if query_id > 75 and query_id < 101:\n",
    "                        map_part.append(value)\n",
    "                else:\n",
    "                    ndcg_all.append(value)\n",
    "                    if query_id > 75 and query_id < 101:\n",
    "                        ndcg_part.append(value)\n",
    "                        \n",
    "    map_all = np.asarray(map_all)\n",
    "    map_part = np.asarray(map_part)\n",
    "    ndcg_all = np.asarray(ndcg_all)\n",
    "    ndcg_part = np.asarray(ndcg_part)\n",
    "    \n",
    "    av_map_all = np.mean(map_all)\n",
    "    av_map_part = np.mean(map_part)\n",
    "    av_ndcg_all = np.mean(ndcg_all)\n",
    "    av_ndcg_part = np.mean(ndcg_part)\n",
    "    \n",
    "    return av_map_all, av_map_part, av_ndcg_all, av_ndcg_part\n",
    "\n",
    "\n",
    "def get_max_min(filename):\n",
    "    with open(filename) as f:\n",
    "        data = json.load(f)\n",
    "        all_maps = []\n",
    "        for qid, results in data.items():\n",
    "            print(qid)\n",
    "            for metric, value in results.items():\n",
    "                if metric == \"map\":\n",
    "                    new_tup = (qid, value)\n",
    "            all_maps.append(new_tup)\n",
    "    sorted_maps = sorted(all_maps, key=lambda tup: tup[1])\n",
    "    min_map = sorted_maps[:3]\n",
    "    max_map = sorted_maps[-3:]\n",
    "    return max_map, min_map\n",
    "        "
   ]
  },
  {
   "cell_type": "code",
   "execution_count": 106,
   "metadata": {},
   "outputs": [
    {
     "name": "stdout",
     "output_type": "stream",
     "text": [
      "101\n",
      "102\n",
      "103\n",
      "104\n",
      "105\n",
      "106\n",
      "107\n",
      "108\n",
      "109\n",
      "110\n",
      "111\n",
      "112\n",
      "113\n",
      "114\n",
      "115\n",
      "116\n",
      "117\n",
      "118\n",
      "119\n",
      "120\n",
      "121\n",
      "122\n",
      "123\n",
      "124\n",
      "125\n",
      "126\n",
      "127\n",
      "128\n",
      "129\n",
      "130\n",
      "131\n",
      "132\n",
      "133\n",
      "134\n",
      "135\n",
      "136\n",
      "137\n",
      "138\n",
      "139\n",
      "140\n",
      "141\n",
      "142\n",
      "143\n",
      "144\n",
      "145\n",
      "146\n",
      "147\n",
      "148\n",
      "149\n",
      "150\n",
      "151\n",
      "152\n",
      "153\n",
      "154\n",
      "155\n",
      "156\n",
      "157\n",
      "158\n",
      "159\n",
      "160\n",
      "161\n",
      "162\n",
      "163\n",
      "164\n",
      "165\n",
      "166\n",
      "167\n",
      "168\n",
      "169\n",
      "170\n",
      "171\n",
      "172\n",
      "173\n",
      "174\n",
      "175\n",
      "176\n",
      "177\n",
      "178\n",
      "179\n",
      "180\n",
      "181\n",
      "182\n",
      "183\n",
      "184\n",
      "185\n",
      "186\n",
      "187\n",
      "188\n",
      "189\n",
      "190\n",
      "191\n",
      "192\n",
      "193\n",
      "194\n",
      "195\n",
      "196\n",
      "197\n",
      "198\n",
      "199\n",
      "200\n",
      "51\n",
      "52\n",
      "53\n",
      "54\n",
      "55\n",
      "56\n",
      "57\n",
      "58\n",
      "59\n",
      "60\n",
      "61\n",
      "62\n",
      "63\n",
      "64\n",
      "66\n",
      "67\n",
      "68\n",
      "69\n",
      "70\n",
      "71\n",
      "72\n",
      "73\n",
      "74\n",
      "75\n",
      "76\n",
      "77\n",
      "78\n",
      "79\n",
      "80\n",
      "81\n",
      "82\n",
      "83\n",
      "84\n",
      "85\n",
      "86\n",
      "87\n",
      "88\n",
      "89\n",
      "90\n",
      "91\n",
      "92\n",
      "93\n",
      "94\n",
      "95\n",
      "96\n",
      "97\n",
      "98\n",
      "99\n",
      "100\n"
     ]
    },
    {
     "data": {
      "text/plain": [
       "([('146', 0.07403112769646578),\n",
       "  ('135', 0.132578330623334),\n",
       "  ('57', 0.2771398712026234)],\n",
       " [('60', 5.632761279198364e-05),\n",
       "  ('98', 7.443992765402799e-05),\n",
       "  ('97', 8.993495698418974e-05)])"
      ]
     },
     "execution_count": 106,
     "metadata": {},
     "output_type": "execute_result"
    }
   ],
   "source": [
    "get_max_min(\"./results/doc2vec_200_10_50000.model.json\")"
   ]
  },
  {
   "cell_type": "code",
   "execution_count": null,
   "metadata": {},
   "outputs": [],
   "source": [
    "get_data(\"./results/doc2vec_200_10_50000.model.json\")"
   ]
  },
  {
   "cell_type": "code",
   "execution_count": 17,
   "metadata": {},
   "outputs": [
    {
     "data": {
      "text/plain": [
       "(0.003996278433290387,\n",
       " 0.0033300050463312613,\n",
       " 0.29321829220546913,\n",
       " 0.2916408393852883)"
      ]
     },
     "execution_count": 17,
     "metadata": {},
     "output_type": "execute_result"
    }
   ],
   "source": [
    "get_data(\"./results/doc2vec_300_10_50000.model.json\")"
   ]
  },
  {
   "cell_type": "code",
   "execution_count": 6,
   "metadata": {},
   "outputs": [
    {
     "data": {
      "text/plain": [
       "(0.0030199604493070086,\n",
       " 0.0022097057350158236,\n",
       " 0.2769300174252696,\n",
       " 0.27550435977606497)"
      ]
     },
     "execution_count": 6,
     "metadata": {},
     "output_type": "execute_result"
    }
   ],
   "source": [
    "get_data(\"./results/doc2vec_400_10_50000.model.json\")"
   ]
  },
  {
   "cell_type": "code",
   "execution_count": 7,
   "metadata": {},
   "outputs": [
    {
     "data": {
      "text/plain": [
       "(0.003367026080151662,\n",
       " 0.0023574350785883686,\n",
       " 0.2772686411942839,\n",
       " 0.277453661228135)"
      ]
     },
     "execution_count": 7,
     "metadata": {},
     "output_type": "execute_result"
    }
   ],
   "source": [
    "get_data(\"./results/doc2vec_500_10_50000.model.json\")"
   ]
  },
  {
   "cell_type": "code",
   "execution_count": 8,
   "metadata": {},
   "outputs": [
    {
     "data": {
      "text/plain": [
       "(0.00456477162173752,\n",
       " 0.0038100451503039266,\n",
       " 0.29098933707746066,\n",
       " 0.2885104932153718)"
      ]
     },
     "execution_count": 8,
     "metadata": {},
     "output_type": "execute_result"
    }
   ],
   "source": [
    "get_data(\"./results/doc2vec_300_5_50000.model.json\")"
   ]
  },
  {
   "cell_type": "code",
   "execution_count": 9,
   "metadata": {},
   "outputs": [
    {
     "data": {
      "text/plain": [
       "(0.005310948159247696,\n",
       " 0.0023261443197352028,\n",
       " 0.2776556652132153,\n",
       " 0.274913516395257)"
      ]
     },
     "execution_count": 9,
     "metadata": {},
     "output_type": "execute_result"
    }
   ],
   "source": [
    "get_data(\"./results/doc2vec_300_15_50000.model.json\")"
   ]
  },
  {
   "cell_type": "code",
   "execution_count": 10,
   "metadata": {},
   "outputs": [
    {
     "data": {
      "text/plain": [
       "(0.0024884134478207597,\n",
       " 0.0018065795852665325,\n",
       " 0.27189230500097233,\n",
       " 0.26933943146364936)"
      ]
     },
     "execution_count": 10,
     "metadata": {},
     "output_type": "execute_result"
    }
   ],
   "source": [
    "get_data(\"./results/doc2vec_300_20_50000.model.json\")"
   ]
  },
  {
   "cell_type": "code",
   "execution_count": 11,
   "metadata": {},
   "outputs": [
    {
     "data": {
      "text/plain": [
       "(0.00513540653972604,\n",
       " 0.001517402581720041,\n",
       " 0.3046645196649008,\n",
       " 0.2814459827847753)"
      ]
     },
     "execution_count": 11,
     "metadata": {},
     "output_type": "execute_result"
    }
   ],
   "source": [
    "get_data(\"./results/doc2vec_300_10_10000.model.json\")"
   ]
  },
  {
   "cell_type": "code",
   "execution_count": 12,
   "metadata": {},
   "outputs": [
    {
     "data": {
      "text/plain": [
       "(0.004480818948275468,\n",
       " 0.0021720467072405577,\n",
       " 0.2951504585452324,\n",
       " 0.28105536395776315)"
      ]
     },
     "execution_count": 12,
     "metadata": {},
     "output_type": "execute_result"
    }
   ],
   "source": [
    "get_data(\"./results/doc2vec_300_10_25000.model.json\")"
   ]
  },
  {
   "cell_type": "code",
   "execution_count": 13,
   "metadata": {},
   "outputs": [
    {
     "data": {
      "text/plain": [
       "(0.003098063813818612,\n",
       " 0.0026661593805887597,\n",
       " 0.28870838561988926,\n",
       " 0.28585686065886)"
      ]
     },
     "execution_count": 13,
     "metadata": {},
     "output_type": "execute_result"
    }
   ],
   "source": [
    "get_data(\"./results/doc2vec_300_10_100000.model.json\")"
   ]
  },
  {
   "cell_type": "code",
   "execution_count": 14,
   "metadata": {},
   "outputs": [
    {
     "data": {
      "text/plain": [
       "(0.003000165562837906,\n",
       " 0.00232257243547391,\n",
       " 0.2867162044361968,\n",
       " 0.28206019858069176)"
      ]
     },
     "execution_count": 14,
     "metadata": {},
     "output_type": "execute_result"
    }
   ],
   "source": [
    "get_data(\"./results/doc2vec_300_10_200000.model.json\")"
   ]
  },
  {
   "cell_type": "code",
   "execution_count": 45,
   "metadata": {},
   "outputs": [],
   "source": [
    "def t_test(results1, results2, metric):\n",
    "    with open(results1) as f1, open(results2) as f2:\n",
    "        first_results = json.load(f1)\n",
    "        second_results = json.load(f2)\n",
    "        query_ids = list(set(first_results.keys()) & set(second_results.keys()))\n",
    "        first_scores = [first_results[query_id][metric] for query_id in query_ids]\n",
    "        second_scores = [second_results[query_id][metric] for query_id in query_ids]\n",
    "        print(stats.ttest_rel(first_scores, second_scores))\n",
    "        \n",
    "    "
   ]
  },
  {
   "cell_type": "code",
   "execution_count": 80,
   "metadata": {},
   "outputs": [
    {
     "name": "stdout",
     "output_type": "stream",
     "text": [
      "Ttest_relResult(statistic=6.949109469718982, pvalue=1.0889595119514116e-10)\n"
     ]
    }
   ],
   "source": [
    "t_test(\"./results/doc2vec_200_10_50000.model.json\", \"./results/doc2vec_300_10_50000.model.json\", 'ndcg')"
   ]
  },
  {
   "cell_type": "markdown",
   "metadata": {},
   "source": [
    "PRINTING EXTREMES"
   ]
  },
  {
   "cell_type": "code",
   "execution_count": 21,
   "metadata": {},
   "outputs": [],
   "source": [
    "import json\n",
    "import read_ap as ra\n",
    "from pprint import pprint\n",
    "\n",
    "qrels, queries = ra.read_qrels()\n",
    "\n",
    "def query_MAP_extremes(path, model_type):\n",
    "    with open(path) as f:\n",
    "        data = json.load(f)\n",
    "        map_scores = []\n",
    "        for qid, results in data.items():\n",
    "            map_scores.append( (qid, queries[qid].strip(), 'MAP score: ' + str( round(results['map'], 4)) )  )\n",
    "\n",
    "        map_scores = sorted(map_scores, key=lambda x: x[2], reverse=True)\n",
    "        print('BEST QUERIES {}'.format(model_type))\n",
    "        pprint(map_scores[:5])\n",
    "        print('WORST QUERIES {}'.format(model_type))\n",
    "        pprint(map_scores[-5:])"
   ]
  },
  {
   "cell_type": "code",
   "execution_count": 22,
   "metadata": {},
   "outputs": [
    {
     "name": "stdout",
     "output_type": "stream",
     "text": [
      "BEST QUERIES word2vec\n",
      "[('86', 'Bank Failures', 'MAP score: 0.0666'),\n",
      " ('56', 'Prime (Lending) Rate Moves, Predictions', 'MAP score: 0.0442'),\n",
      " ('164',\n",
      "  'Generic Drugs - Illegal Activities by Manufacturers',\n",
      "  'MAP score: 0.0297'),\n",
      " ('189', 'Real Motives for Murder', 'MAP score: 0.0128'),\n",
      " ('110',\n",
      "  'Black Resistance Against the South African Government',\n",
      "  'MAP score: 0.0125')]\n",
      "WORST QUERIES word2vec\n",
      "[('170',\n",
      "  'The Consequences of Implantation of Silicone Gel Breast Devices',\n",
      "  'MAP score: 0.0'),\n",
      " ('171',\n",
      "  \"Use of Mutual Funds in an Individual's Retirement Strategy\",\n",
      "  'MAP score: 0.0'),\n",
      " ('60', 'Merit-Pay vs. Seniority', 'MAP score: 0.0'),\n",
      " ('63', 'Machine Translation', 'MAP score: 0.0'),\n",
      " ('66', 'Natural Language Processing', 'MAP score: 0.0')]\n"
     ]
    }
   ],
   "source": [
    "query_MAP_extremes(\"./results/word2vec.json\", 'word2vec')"
   ]
  },
  {
   "cell_type": "code",
   "execution_count": null,
   "metadata": {},
   "outputs": [],
   "source": []
  }
 ],
 "metadata": {
  "kernelspec": {
   "display_name": "Python 3",
   "language": "python",
   "name": "python3"
  },
  "language_info": {
   "codemirror_mode": {
    "name": "ipython",
    "version": 3
   },
   "file_extension": ".py",
   "mimetype": "text/x-python",
   "name": "python",
   "nbconvert_exporter": "python",
   "pygments_lexer": "ipython3",
   "version": "3.7.6"
  }
 },
 "nbformat": 4,
 "nbformat_minor": 4
}
